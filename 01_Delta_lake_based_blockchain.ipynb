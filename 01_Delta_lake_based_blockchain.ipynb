{
  "nbformat": 4,
  "nbformat_minor": 0,
  "metadata": {
    "colab": {
      "provenance": [],
      "toc_visible": true,
      "include_colab_link": true
    },
    "kernelspec": {
      "name": "python3",
      "display_name": "Python 3"
    },
    "language_info": {
      "name": "python"
    },
    "widgets": {
      "application/vnd.jupyter.widget-state+json": {
        "52c73186fc274962ae1ece7aa8c51b42": {
          "model_module": "@jupyter-widgets/controls",
          "model_name": "TextModel",
          "model_module_version": "1.5.0",
          "state": {
            "_dom_classes": [],
            "_model_module": "@jupyter-widgets/controls",
            "_model_module_version": "1.5.0",
            "_model_name": "TextModel",
            "_view_count": null,
            "_view_module": "@jupyter-widgets/controls",
            "_view_module_version": "1.5.0",
            "_view_name": "TextView",
            "continuous_update": true,
            "description": "Transactions:",
            "description_tooltip": null,
            "disabled": false,
            "layout": "IPY_MODEL_1df0e858abc847b7b13e3f4d96f01d73",
            "placeholder": "Enter transaction description",
            "style": "IPY_MODEL_0997ed76ba134a60b53dc6eeb1c0280f",
            "value": ""
          }
        },
        "1df0e858abc847b7b13e3f4d96f01d73": {
          "model_module": "@jupyter-widgets/base",
          "model_name": "LayoutModel",
          "model_module_version": "1.2.0",
          "state": {
            "_model_module": "@jupyter-widgets/base",
            "_model_module_version": "1.2.0",
            "_model_name": "LayoutModel",
            "_view_count": null,
            "_view_module": "@jupyter-widgets/base",
            "_view_module_version": "1.2.0",
            "_view_name": "LayoutView",
            "align_content": null,
            "align_items": null,
            "align_self": null,
            "border": null,
            "bottom": null,
            "display": null,
            "flex": null,
            "flex_flow": null,
            "grid_area": null,
            "grid_auto_columns": null,
            "grid_auto_flow": null,
            "grid_auto_rows": null,
            "grid_column": null,
            "grid_gap": null,
            "grid_row": null,
            "grid_template_areas": null,
            "grid_template_columns": null,
            "grid_template_rows": null,
            "height": null,
            "justify_content": null,
            "justify_items": null,
            "left": null,
            "margin": null,
            "max_height": null,
            "max_width": null,
            "min_height": null,
            "min_width": null,
            "object_fit": null,
            "object_position": null,
            "order": null,
            "overflow": null,
            "overflow_x": null,
            "overflow_y": null,
            "padding": null,
            "right": null,
            "top": null,
            "visibility": null,
            "width": null
          }
        },
        "0997ed76ba134a60b53dc6eeb1c0280f": {
          "model_module": "@jupyter-widgets/controls",
          "model_name": "DescriptionStyleModel",
          "model_module_version": "1.5.0",
          "state": {
            "_model_module": "@jupyter-widgets/controls",
            "_model_module_version": "1.5.0",
            "_model_name": "DescriptionStyleModel",
            "_view_count": null,
            "_view_module": "@jupyter-widgets/base",
            "_view_module_version": "1.2.0",
            "_view_name": "StyleView",
            "description_width": ""
          }
        },
        "9c31001ec3aa4714aab09a6884317d0a": {
          "model_module": "@jupyter-widgets/controls",
          "model_name": "FloatTextModel",
          "model_module_version": "1.5.0",
          "state": {
            "_dom_classes": [],
            "_model_module": "@jupyter-widgets/controls",
            "_model_module_version": "1.5.0",
            "_model_name": "FloatTextModel",
            "_view_count": null,
            "_view_module": "@jupyter-widgets/controls",
            "_view_module_version": "1.5.0",
            "_view_name": "FloatTextView",
            "continuous_update": false,
            "description": "Amount:",
            "description_tooltip": null,
            "disabled": false,
            "layout": "IPY_MODEL_65ce5e34d35142e892cc82ce39e5f62b",
            "step": null,
            "style": "IPY_MODEL_8633d5c1caee427a87b192ca4b605360",
            "value": 0
          }
        },
        "65ce5e34d35142e892cc82ce39e5f62b": {
          "model_module": "@jupyter-widgets/base",
          "model_name": "LayoutModel",
          "model_module_version": "1.2.0",
          "state": {
            "_model_module": "@jupyter-widgets/base",
            "_model_module_version": "1.2.0",
            "_model_name": "LayoutModel",
            "_view_count": null,
            "_view_module": "@jupyter-widgets/base",
            "_view_module_version": "1.2.0",
            "_view_name": "LayoutView",
            "align_content": null,
            "align_items": null,
            "align_self": null,
            "border": null,
            "bottom": null,
            "display": null,
            "flex": null,
            "flex_flow": null,
            "grid_area": null,
            "grid_auto_columns": null,
            "grid_auto_flow": null,
            "grid_auto_rows": null,
            "grid_column": null,
            "grid_gap": null,
            "grid_row": null,
            "grid_template_areas": null,
            "grid_template_columns": null,
            "grid_template_rows": null,
            "height": null,
            "justify_content": null,
            "justify_items": null,
            "left": null,
            "margin": null,
            "max_height": null,
            "max_width": null,
            "min_height": null,
            "min_width": null,
            "object_fit": null,
            "object_position": null,
            "order": null,
            "overflow": null,
            "overflow_x": null,
            "overflow_y": null,
            "padding": null,
            "right": null,
            "top": null,
            "visibility": null,
            "width": null
          }
        },
        "8633d5c1caee427a87b192ca4b605360": {
          "model_module": "@jupyter-widgets/controls",
          "model_name": "DescriptionStyleModel",
          "model_module_version": "1.5.0",
          "state": {
            "_model_module": "@jupyter-widgets/controls",
            "_model_module_version": "1.5.0",
            "_model_name": "DescriptionStyleModel",
            "_view_count": null,
            "_view_module": "@jupyter-widgets/base",
            "_view_module_version": "1.2.0",
            "_view_name": "StyleView",
            "description_width": ""
          }
        },
        "4e2ae20ca9e54c7592663e97b91d8c89": {
          "model_module": "@jupyter-widgets/controls",
          "model_name": "TextModel",
          "model_module_version": "1.5.0",
          "state": {
            "_dom_classes": [],
            "_model_module": "@jupyter-widgets/controls",
            "_model_module_version": "1.5.0",
            "_model_name": "TextModel",
            "_view_count": null,
            "_view_module": "@jupyter-widgets/controls",
            "_view_module_version": "1.5.0",
            "_view_name": "TextView",
            "continuous_update": true,
            "description": "Added By:",
            "description_tooltip": null,
            "disabled": false,
            "layout": "IPY_MODEL_57e29564b0a74459837a29128d616cce",
            "placeholder": "Enter your name",
            "style": "IPY_MODEL_754d0259f26846ccb872ba8e67c3d700",
            "value": ""
          }
        },
        "57e29564b0a74459837a29128d616cce": {
          "model_module": "@jupyter-widgets/base",
          "model_name": "LayoutModel",
          "model_module_version": "1.2.0",
          "state": {
            "_model_module": "@jupyter-widgets/base",
            "_model_module_version": "1.2.0",
            "_model_name": "LayoutModel",
            "_view_count": null,
            "_view_module": "@jupyter-widgets/base",
            "_view_module_version": "1.2.0",
            "_view_name": "LayoutView",
            "align_content": null,
            "align_items": null,
            "align_self": null,
            "border": null,
            "bottom": null,
            "display": null,
            "flex": null,
            "flex_flow": null,
            "grid_area": null,
            "grid_auto_columns": null,
            "grid_auto_flow": null,
            "grid_auto_rows": null,
            "grid_column": null,
            "grid_gap": null,
            "grid_row": null,
            "grid_template_areas": null,
            "grid_template_columns": null,
            "grid_template_rows": null,
            "height": null,
            "justify_content": null,
            "justify_items": null,
            "left": null,
            "margin": null,
            "max_height": null,
            "max_width": null,
            "min_height": null,
            "min_width": null,
            "object_fit": null,
            "object_position": null,
            "order": null,
            "overflow": null,
            "overflow_x": null,
            "overflow_y": null,
            "padding": null,
            "right": null,
            "top": null,
            "visibility": null,
            "width": null
          }
        },
        "754d0259f26846ccb872ba8e67c3d700": {
          "model_module": "@jupyter-widgets/controls",
          "model_name": "DescriptionStyleModel",
          "model_module_version": "1.5.0",
          "state": {
            "_model_module": "@jupyter-widgets/controls",
            "_model_module_version": "1.5.0",
            "_model_name": "DescriptionStyleModel",
            "_view_count": null,
            "_view_module": "@jupyter-widgets/base",
            "_view_module_version": "1.2.0",
            "_view_name": "StyleView",
            "description_width": ""
          }
        },
        "45602ee0fb9d43b697c5b3a2918ff233": {
          "model_module": "@jupyter-widgets/controls",
          "model_name": "DropdownModel",
          "model_module_version": "1.5.0",
          "state": {
            "_dom_classes": [],
            "_model_module": "@jupyter-widgets/controls",
            "_model_module_version": "1.5.0",
            "_model_name": "DropdownModel",
            "_options_labels": [
              "education",
              "books",
              "uniform",
              "extracurricular",
              "transportation",
              "admission",
              "other"
            ],
            "_view_count": null,
            "_view_module": "@jupyter-widgets/controls",
            "_view_module_version": "1.5.0",
            "_view_name": "DropdownView",
            "description": "Category:",
            "description_tooltip": null,
            "disabled": false,
            "index": null,
            "layout": "IPY_MODEL_e8cf980049b445afba5fda5a1084c548",
            "style": "IPY_MODEL_10d9184fc09543f3a0e1b32269c61a60"
          }
        },
        "e8cf980049b445afba5fda5a1084c548": {
          "model_module": "@jupyter-widgets/base",
          "model_name": "LayoutModel",
          "model_module_version": "1.2.0",
          "state": {
            "_model_module": "@jupyter-widgets/base",
            "_model_module_version": "1.2.0",
            "_model_name": "LayoutModel",
            "_view_count": null,
            "_view_module": "@jupyter-widgets/base",
            "_view_module_version": "1.2.0",
            "_view_name": "LayoutView",
            "align_content": null,
            "align_items": null,
            "align_self": null,
            "border": null,
            "bottom": null,
            "display": null,
            "flex": null,
            "flex_flow": null,
            "grid_area": null,
            "grid_auto_columns": null,
            "grid_auto_flow": null,
            "grid_auto_rows": null,
            "grid_column": null,
            "grid_gap": null,
            "grid_row": null,
            "grid_template_areas": null,
            "grid_template_columns": null,
            "grid_template_rows": null,
            "height": null,
            "justify_content": null,
            "justify_items": null,
            "left": null,
            "margin": null,
            "max_height": null,
            "max_width": null,
            "min_height": null,
            "min_width": null,
            "object_fit": null,
            "object_position": null,
            "order": null,
            "overflow": null,
            "overflow_x": null,
            "overflow_y": null,
            "padding": null,
            "right": null,
            "top": null,
            "visibility": null,
            "width": null
          }
        },
        "10d9184fc09543f3a0e1b32269c61a60": {
          "model_module": "@jupyter-widgets/controls",
          "model_name": "DescriptionStyleModel",
          "model_module_version": "1.5.0",
          "state": {
            "_model_module": "@jupyter-widgets/controls",
            "_model_module_version": "1.5.0",
            "_model_name": "DescriptionStyleModel",
            "_view_count": null,
            "_view_module": "@jupyter-widgets/base",
            "_view_module_version": "1.2.0",
            "_view_name": "StyleView",
            "description_width": ""
          }
        },
        "d636a9ea0dee453d9c5306bfd8d66c1a": {
          "model_module": "@jupyter-widgets/controls",
          "model_name": "TextModel",
          "model_module_version": "1.5.0",
          "state": {
            "_dom_classes": [],
            "_model_module": "@jupyter-widgets/controls",
            "_model_module_version": "1.5.0",
            "_model_name": "TextModel",
            "_view_count": null,
            "_view_module": "@jupyter-widgets/controls",
            "_view_module_version": "1.5.0",
            "_view_name": "TextView",
            "continuous_update": true,
            "description": "Description:",
            "description_tooltip": null,
            "disabled": false,
            "layout": "IPY_MODEL_caeeb2117c5d4cd49f18071b5e032c42",
            "placeholder": "Enter optional description",
            "style": "IPY_MODEL_da6e1048f5064733906a94357deb10c1",
            "value": ""
          }
        },
        "caeeb2117c5d4cd49f18071b5e032c42": {
          "model_module": "@jupyter-widgets/base",
          "model_name": "LayoutModel",
          "model_module_version": "1.2.0",
          "state": {
            "_model_module": "@jupyter-widgets/base",
            "_model_module_version": "1.2.0",
            "_model_name": "LayoutModel",
            "_view_count": null,
            "_view_module": "@jupyter-widgets/base",
            "_view_module_version": "1.2.0",
            "_view_name": "LayoutView",
            "align_content": null,
            "align_items": null,
            "align_self": null,
            "border": null,
            "bottom": null,
            "display": null,
            "flex": null,
            "flex_flow": null,
            "grid_area": null,
            "grid_auto_columns": null,
            "grid_auto_flow": null,
            "grid_auto_rows": null,
            "grid_column": null,
            "grid_gap": null,
            "grid_row": null,
            "grid_template_areas": null,
            "grid_template_columns": null,
            "grid_template_rows": null,
            "height": null,
            "justify_content": null,
            "justify_items": null,
            "left": null,
            "margin": null,
            "max_height": null,
            "max_width": null,
            "min_height": null,
            "min_width": null,
            "object_fit": null,
            "object_position": null,
            "order": null,
            "overflow": null,
            "overflow_x": null,
            "overflow_y": null,
            "padding": null,
            "right": null,
            "top": null,
            "visibility": null,
            "width": null
          }
        },
        "da6e1048f5064733906a94357deb10c1": {
          "model_module": "@jupyter-widgets/controls",
          "model_name": "DescriptionStyleModel",
          "model_module_version": "1.5.0",
          "state": {
            "_model_module": "@jupyter-widgets/controls",
            "_model_module_version": "1.5.0",
            "_model_name": "DescriptionStyleModel",
            "_view_count": null,
            "_view_module": "@jupyter-widgets/base",
            "_view_module_version": "1.2.0",
            "_view_name": "StyleView",
            "description_width": ""
          }
        },
        "79c4d3ebcc554eb99847a50d86d8d938": {
          "model_module": "@jupyter-widgets/controls",
          "model_name": "ButtonModel",
          "model_module_version": "1.5.0",
          "state": {
            "_dom_classes": [],
            "_model_module": "@jupyter-widgets/controls",
            "_model_module_version": "1.5.0",
            "_model_name": "ButtonModel",
            "_view_count": null,
            "_view_module": "@jupyter-widgets/controls",
            "_view_module_version": "1.5.0",
            "_view_name": "ButtonView",
            "button_style": "",
            "description": "Submit",
            "disabled": false,
            "icon": "",
            "layout": "IPY_MODEL_4a4845985ac7416dad84560813ccc0a5",
            "style": "IPY_MODEL_d111ae1cfce8401c9c8b338a5d5fc61c",
            "tooltip": ""
          }
        },
        "4a4845985ac7416dad84560813ccc0a5": {
          "model_module": "@jupyter-widgets/base",
          "model_name": "LayoutModel",
          "model_module_version": "1.2.0",
          "state": {
            "_model_module": "@jupyter-widgets/base",
            "_model_module_version": "1.2.0",
            "_model_name": "LayoutModel",
            "_view_count": null,
            "_view_module": "@jupyter-widgets/base",
            "_view_module_version": "1.2.0",
            "_view_name": "LayoutView",
            "align_content": null,
            "align_items": null,
            "align_self": null,
            "border": null,
            "bottom": null,
            "display": null,
            "flex": null,
            "flex_flow": null,
            "grid_area": null,
            "grid_auto_columns": null,
            "grid_auto_flow": null,
            "grid_auto_rows": null,
            "grid_column": null,
            "grid_gap": null,
            "grid_row": null,
            "grid_template_areas": null,
            "grid_template_columns": null,
            "grid_template_rows": null,
            "height": null,
            "justify_content": null,
            "justify_items": null,
            "left": null,
            "margin": null,
            "max_height": null,
            "max_width": null,
            "min_height": null,
            "min_width": null,
            "object_fit": null,
            "object_position": null,
            "order": null,
            "overflow": null,
            "overflow_x": null,
            "overflow_y": null,
            "padding": null,
            "right": null,
            "top": null,
            "visibility": null,
            "width": null
          }
        },
        "d111ae1cfce8401c9c8b338a5d5fc61c": {
          "model_module": "@jupyter-widgets/controls",
          "model_name": "ButtonStyleModel",
          "model_module_version": "1.5.0",
          "state": {
            "_model_module": "@jupyter-widgets/controls",
            "_model_module_version": "1.5.0",
            "_model_name": "ButtonStyleModel",
            "_view_count": null,
            "_view_module": "@jupyter-widgets/base",
            "_view_module_version": "1.2.0",
            "_view_name": "StyleView",
            "button_color": null,
            "font_weight": ""
          }
        }
      }
    }
  },
  "cells": [
    {
      "cell_type": "markdown",
      "metadata": {
        "id": "view-in-github",
        "colab_type": "text"
      },
      "source": [
        "<a href=\"https://colab.research.google.com/github/buzzaz/open-course-delta-lake/blob/feature%2Fadd-course-instructions/Delta_lake_based_blockchain.ipynb\" target=\"_parent\"><img src=\"https://colab.research.google.com/assets/colab-badge.svg\" alt=\"Open In Colab\"/></a>"
      ]
    },
    {
      "cell_type": "markdown",
      "source": [
        "# 01. Introduction to Blockchain Implementation with Delta Lake\n",
        "\n",
        "In this lesson, we'll explore how to implement a simple blockchain to record financial transactions using Delta Lake and PySpark. This powerful combination allows us to create a decentralized, immutable ledger with the scalability and performance benefits of Delta Lake. The blockchain helps ensure data integrity, transparency, and traceability. We also explore anomaly detection to identify suspicious transactions, which may indicate financial fraud.\n",
        "\n",
        "Our implementation will cover the following key steps:\n",
        "\n",
        "1. **Setting up the environment**: Installing necessary libraries for PySpark, Delta Lake, Flask, and data manipulation.\n",
        "\n",
        "2. **Initializing PySpark and Delta Lake**: Configuring the Spark session with Delta Lake support.\n",
        "\n",
        "3. **Defining the Blockchain structure**: Creating a `Block` class to represent individual blocks in the chain.\n",
        "\n",
        "4. **Implementing core blockchain functions**: Methods for adding blocks, validating the chain, and managing transactions.\n",
        "\n",
        "5. **Integrating with Delta Lake**: Using Delta Lake to store and retrieve blockchain data persistently.\n",
        "\n",
        "6. **Creating a simple API**: Setting up a Flask web server to interact with the blockchain.\n",
        "\n",
        "7. **Demonstrating blockchain operations**: Adding blocks, validating the chain, and querying data.\n",
        "\n",
        "This implementation combines the principles of blockchain technology with the robust data management capabilities of Delta Lake, providing a foundation for building more complex decentralized applications.\n",
        "\n",
        "Let's dive into the code and explore each component in detail!\n",
        "\n",
        "The libraries we're installing are:\n",
        "- `pyspark`: The Python API for Apache Spark\n",
        "- `delta-spark`: Delta Lake on Apache Spark\n",
        "- `Flask`: A micro web framework for Python\n",
        "- `nest_asyncio`: Allows for nested use of asyncio event loops\n",
        "- `pandas`: A powerful data manipulation library\n",
        "\n",
        "We'll use `pip` to install these packages quietly to keep our notebook clean. The `-q` flag is used to run the installations in quiet mode, reducing output verbosity. This helps keep our notebook clean and focused on the main content.\n",
        "\n",
        "After we install these dependencies, all the required libraries will be available and ready for use in our Delta Lake-based blockchain implementation:"
      ],
      "metadata": {
        "id": "7pd75WhtS1v0"
      }
    },
    {
      "cell_type": "code",
      "execution_count": 1,
      "metadata": {
        "id": "2UGTkZBfMdKb",
        "colab": {
          "base_uri": "https://localhost:8080/"
        },
        "outputId": "0e8b37ae-1f7a-4fd4-90d9-f9fd79113719"
      },
      "outputs": [
        {
          "output_type": "stream",
          "name": "stdout",
          "text": [
            "\u001b[2K     \u001b[90m━━━━━━━━━━━━━━━━━━━━━━━━━━━━━━━━━━━━━━━━\u001b[0m \u001b[32m317.0/317.0 MB\u001b[0m \u001b[31m1.9 MB/s\u001b[0m eta \u001b[36m0:00:00\u001b[0m\n",
            "\u001b[?25h  Preparing metadata (setup.py) ... \u001b[?25l\u001b[?25hdone\n",
            "  Building wheel for pyspark (setup.py) ... \u001b[?25l\u001b[?25hdone\n"
          ]
        }
      ],
      "source": [
        "#install required libraries\n",
        "!pip install -q pyspark\n",
        "!pip install -q delta-spark\n",
        "!pip install -q Flask\n",
        "!pip install -q nest_asyncio\n",
        "!pip install -q pandas"
      ]
    },
    {
      "cell_type": "markdown",
      "source": [
        "## Implementing the Blockchain with Delta Lake and PySpark\n",
        "\n",
        "In this section, we'll implement our blockchain using Delta Lake and PySpark. Here's an overview of what our code will do:\n",
        "\n",
        "1. **Environment Setup**: We'll import necessary libraries and initialize a Spark session with Delta Lake support.\n",
        "\n",
        "2. **Schema Definition**: We'll define a schema for our blockchain using PySpark's `StructType`, specifying the structure of each block.\n",
        "\n",
        "3. **Core Functions**: We'll create three key functions:\n",
        "   - `create_genesis_block()`: Creates the first block in our chain.\n",
        "   - `create_block()`: Generates new blocks with transaction data.\n",
        "   - `calculate_hash()`: Computes a SHA-256 hash for each block.\n",
        "\n",
        "4. **Blockchain Initialization**: We'll create the genesis block and save it to Delta Lake.\n",
        "\n",
        "5. **Adding Transactions**: We'll define a list of sample educational transactions and add them to the blockchain, creating new blocks for each transaction.\n",
        "\n",
        "6. **Displaying the Blockchain**: Finally, we'll read the entire blockchain from Delta Lake and display it to verify our implementation.\n",
        "\n",
        "This implementation demonstrates how to combine blockchain principles with big data technologies, leveraging Delta Lake for ACID transactions and efficient data management, and PySpark for scalable processing.\n",
        "\n",
        "Let's now look at the complete code implementation:"
      ],
      "metadata": {
        "id": "EXYqw4h-RDP-"
      }
    },
    {
      "cell_type": "code",
      "source": [
        "# Import required libraries\n",
        "from pyspark.sql import SparkSession\n",
        "from pyspark.sql.functions import sha2, concat_ws, col\n",
        "from delta import configure_spark_with_delta_pip\n",
        "from pyspark.sql.types import StructType, StructField, IntegerType, StringType, FloatType\n",
        "\n",
        "# Initialize Spark session with Delta Lake\n",
        "builder = SparkSession.builder \\\n",
        "    .appName(\"BlockchainWithDeltaLake\") \\\n",
        "    .config(\"spark.jars.packages\", \"io.delta:delta-core_2.12:1.1.0\") \\\n",
        "    .config(\"spark.sql.extensions\", \"io.delta.sql.DeltaSparkSessionExtension\") \\\n",
        "    .config(\"spark.sql.catalog.spark_catalog\", \"org.apache.spark.sql.delta.catalog.DeltaCatalog\")\n",
        "\n",
        "spark = configure_spark_with_delta_pip(builder).getOrCreate()\n",
        "\n",
        "# Define schema for the blockchain\n",
        "schema = StructType([\n",
        "    StructField(\"index\", IntegerType(), False),\n",
        "    StructField(\"timestamp\", StringType(), False),\n",
        "    StructField(\"transactions\", StringType(), False),\n",
        "    StructField(\"amount\", FloatType(), False),\n",
        "    StructField(\"previous_hash\", StringType(), False),\n",
        "    StructField(\"added_by\", StringType(), False),\n",
        "    StructField(\"category\", StringType(), False),\n",
        "    StructField(\"description\", StringType(), False)\n",
        "])\n",
        "\n",
        "\n",
        "# Define a function to create a genesis block\n",
        "def create_genesis_block():\n",
        "    data = [(0, \"\", \"\", 0.0, \"0\", \"genesis\", \"education\", \"Initial block\")]\n",
        "    return spark.createDataFrame(data, schema)\n",
        "\n",
        "# Define a function to create a new block\n",
        "def create_block(previous_block, transactions, amount, added_by, category, description):\n",
        "    new_index = previous_block.select(\"index\").collect()[-1][0] + 1\n",
        "    timestamp = spark.sql(\"SELECT current_timestamp()\").collect()[0][0].isoformat()\n",
        "    previous_hash = previous_block.select(\"hash\").collect()[-1][0]\n",
        "    block_data = [(new_index, timestamp, transactions, amount, previous_hash, added_by, category, description)]\n",
        "    return spark.createDataFrame(block_data, schema)\n",
        "\n",
        "# Define a function to calculate hash of a block\n",
        "def calculate_hash(block_df):\n",
        "    block_df = block_df.withColumn(\"hash\", sha2(concat_ws(\"||\", col(\"index\"), col(\"timestamp\"), col(\"transactions\"), col(\"amount\"), col(\"previous_hash\"), col(\"added_by\"), col(\"category\"), col(\"description\")), 256))\n",
        "    return block_df\n",
        "\n",
        "# Create genesis block\n",
        "genesis_block = create_genesis_block()\n",
        "genesis_block = calculate_hash(genesis_block)\n",
        "\n",
        "# Save genesis block to Delta Lake\n",
        "genesis_block.write.format(\"delta\").mode(\"overwrite\").save(\"/tmp/delta/blockchain\")\n",
        "\n",
        "# Sample financial transactions with realistic data\n",
        "transactions = [\n",
        "    {\"transactions\": \"Payment for school fees\", \"amount\": 5000.0, \"added_by\": \"Syed Bilgrami\", \"category\": \"education\", \"description\": \"Fee payment for Sawaira Sajjad of class 11\"},\n",
        "    {\"transactions\": \"Purchase of books and uniform\", \"amount\": 2000.0, \"added_by\": \"Syed Bilgrami\", \"category\": \"education\", \"description\": \"Books and uniform for Sawaira Sajjad of class 11\"},\n",
        "    {\"transactions\": \"Payment for admission fee\", \"amount\": 6000.0, \"added_by\": \"Syed Bilgrami\", \"category\": \"education\", \"description\": \"Admission fee for Malaika Khan of class 10\"},\n",
        "    {\"transactions\": \"Payment for school fees\", \"amount\": 7000.0, \"added_by\": \"Syed Bilgrami\", \"category\": \"education\", \"description\": \"Fee payment for Ali Khan of class 12 in medical\"},\n",
        "    {\"transactions\": \"Purchase of books\", \"amount\": 3000.0, \"added_by\": \"Syed Bilgrami\", \"category\": \"education\", \"description\": \"Books for Ali Khan of class 12 in medical\"},\n",
        "    {\"transactions\": \"Payment for school fees\", \"amount\": 4000.0, \"added_by\": \"Syed Bilgrami\", \"category\": \"education\", \"description\": \"Fee payment for Saiqa Khan of class 8\"},\n",
        "    {\"transactions\": \"Purchase of books and uniform\", \"amount\": 1500.0, \"added_by\": \"Syed Bilgrami\", \"category\": \"education\", \"description\": \"Books and uniform for Saiqa Khan of class 8\"},\n",
        "    {\"transactions\": \"Payment for school fees\", \"amount\": 4000.0, \"added_by\": \"Syed Bilgrami\", \"category\": \"education\", \"description\": \"Fee payment for Usman Sajjad of class 8\"},\n",
        "    {\"transactions\": \"Purchase of books and uniform\", \"amount\": 1500.0, \"added_by\": \"Syed Bilgrami\", \"category\": \"education\", \"description\": \"Books and uniform for Usman Sajjad of class 8\"}\n",
        "]\n",
        "\n",
        "# Create and add new blocks\n",
        "previous_block = genesis_block\n",
        "for txn in transactions:\n",
        "    new_block = create_block(previous_block, txn[\"transactions\"], txn[\"amount\"], txn[\"added_by\"], txn[\"category\"], txn[\"description\"])\n",
        "    new_block = calculate_hash(new_block)\n",
        "    new_block.write.format(\"delta\").mode(\"append\").save(\"/tmp/delta/blockchain\")\n",
        "    previous_block = new_block\n",
        "\n",
        "# Read and display the blockchain\n",
        "blockchain_df = spark.read.format(\"delta\").load(\"/tmp/delta/blockchain\")\n",
        "blockchain_df.orderBy(\"index\").show(truncate=False)"
      ],
      "metadata": {
        "colab": {
          "base_uri": "https://localhost:8080/"
        },
        "id": "ohtQa-kKREQA",
        "outputId": "e7312ad5-d82b-4bac-c315-a51e53c9596c"
      },
      "execution_count": 2,
      "outputs": [
        {
          "output_type": "stream",
          "name": "stdout",
          "text": [
            "+-----+--------------------------+-----------------------------+------+----------------------------------------------------------------+-------------+---------+------------------------------------------------+----------------------------------------------------------------+\n",
            "|index|timestamp                 |transactions                 |amount|previous_hash                                                   |added_by     |category |description                                     |hash                                                            |\n",
            "+-----+--------------------------+-----------------------------+------+----------------------------------------------------------------+-------------+---------+------------------------------------------------+----------------------------------------------------------------+\n",
            "|0    |                          |                             |0.0   |0                                                               |genesis      |education|Initial block                                   |5b2895eceb35bf5c3735d7347926e2078f4e439fe1f5af54978907c42b3db4b4|\n",
            "|1    |2024-07-07T01:22:42.070210|Payment for school fees      |5000.0|5b2895eceb35bf5c3735d7347926e2078f4e439fe1f5af54978907c42b3db4b4|Syed Bilgrami|education|Fee payment for Sawaira Sajjad of class 11      |483370c5556280d024e9c7bc00443a2f44eb2e785ccd37bc8ebe008742a4e262|\n",
            "|2    |2024-07-07T01:22:45.242767|Purchase of books and uniform|2000.0|483370c5556280d024e9c7bc00443a2f44eb2e785ccd37bc8ebe008742a4e262|Syed Bilgrami|education|Books and uniform for Sawaira Sajjad of class 11|ef686e4358737c19a379d8dcf8cff9ad4eede842e08c5292ce247c8e89290399|\n",
            "|3    |2024-07-07T01:22:48.150251|Payment for admission fee    |6000.0|ef686e4358737c19a379d8dcf8cff9ad4eede842e08c5292ce247c8e89290399|Syed Bilgrami|education|Admission fee for Malaika Khan of class 10      |c0e8ca963f6e59ce856ccc5d56ca2aec4abf80077ed83942eb200191997769fa|\n",
            "|4    |2024-07-07T01:22:51.657589|Payment for school fees      |7000.0|c0e8ca963f6e59ce856ccc5d56ca2aec4abf80077ed83942eb200191997769fa|Syed Bilgrami|education|Fee payment for Ali Khan of class 12 in medical |419f8df2258fb21dcb171a260ca26b74438e57c01b44c4796dd669764144e3f8|\n",
            "|5    |2024-07-07T01:22:55.008910|Purchase of books            |3000.0|419f8df2258fb21dcb171a260ca26b74438e57c01b44c4796dd669764144e3f8|Syed Bilgrami|education|Books for Ali Khan of class 12 in medical       |bc744ad279823dd3fe48ab194b9688888f5ca82c461eec494fc7f275ee288158|\n",
            "|6    |2024-07-07T01:22:57.572637|Payment for school fees      |4000.0|bc744ad279823dd3fe48ab194b9688888f5ca82c461eec494fc7f275ee288158|Syed Bilgrami|education|Fee payment for Saiqa Khan of class 8           |37daa3a2c91325e9de5708d9ca5150f66456856a1d6fd351cc41aa6d254f540b|\n",
            "|7    |2024-07-07T01:23:00.140489|Purchase of books and uniform|1500.0|37daa3a2c91325e9de5708d9ca5150f66456856a1d6fd351cc41aa6d254f540b|Syed Bilgrami|education|Books and uniform for Saiqa Khan of class 8     |8a487b7aff2b94fdf064e652223b714239326d146b7b7aa068625ffb24070728|\n",
            "|8    |2024-07-07T01:23:02.687479|Payment for school fees      |4000.0|8a487b7aff2b94fdf064e652223b714239326d146b7b7aa068625ffb24070728|Syed Bilgrami|education|Fee payment for Usman Sajjad of class 8         |89ec4e104e6de3e33147bd58171fa906badbe3bb99ae4654653e753e3f2bf733|\n",
            "|9    |2024-07-07T01:23:05.984419|Purchase of books and uniform|1500.0|89ec4e104e6de3e33147bd58171fa906badbe3bb99ae4654653e753e3f2bf733|Syed Bilgrami|education|Books and uniform for Usman Sajjad of class 8   |8d39a68fd778b5e815a92533cf5395eb0c053239076b9b0ef506c56f9afd5f28|\n",
            "+-----+--------------------------+-----------------------------+------+----------------------------------------------------------------+-------------+---------+------------------------------------------------+----------------------------------------------------------------+\n",
            "\n"
          ]
        }
      ]
    },
    {
      "cell_type": "markdown",
      "source": [
        "In this implementation, we've created a simple yet functional blockchain using Delta Lake and PySpark. Each transaction is stored as a new block, with its hash calculated based on its contents and the hash of the previous block, ensuring data integrity.\n",
        "\n",
        "The use of Delta Lake allows us to store our blockchain data persistently and efficiently, while PySpark enables us to process and analyze this data at scale. In the next section, we'll explore how to query and analyze our blockchain data using Delta Lake and PySpark SQL operations.  \n",
        "\n",
        "## Creating a Flask API for Our Blockchain\n",
        "\n",
        "In this section, we'll create a simple API using Flask to interact with our blockchain. This API will allow us to add new blocks and retrieve the entire blockchain through HTTP requests. Here's what we're going to do:\n",
        "\n",
        "1. **Import Libraries**: We'll import Flask for our API, along with the necessary PySpark and Delta Lake libraries. We'll also import `nest_asyncio` to handle asynchronous operations in our notebook environment.\n",
        "\n",
        "2. **Initialize Spark Session**: We'll set up our Spark session with Delta Lake support, just like in our previous implementation.\n",
        "\n",
        "3. **Set Up Flask Application**: We'll create a Flask app to handle our API requests.\n",
        "\n",
        "4. **Create API Endpoints**:\n",
        "   - `/add_block` (POST): This endpoint will allow us to add a new block to the blockchain. It will take transaction details as input and create a new block.\n",
        "   - `/get_blockchain` (GET): This endpoint will return the entire blockchain as a JSON response.\n",
        "\n",
        "5. **Enable Notebook Compatibility**: We'll use `nest_asyncio` to ensure our notebook can handle Flask requests.\n",
        "\n",
        "6. **Start the Flask App**: We'll run our Flask app in a background thread so it doesn't block the notebook execution.\n",
        "\n",
        "This implementation demonstrates how we can create a simple API to interact with our blockchain, making it more accessible and easier to integrate with other applications. The use of Flask allows us to expose our blockchain operations through HTTP requests, while still leveraging the power of PySpark and Delta Lake for data processing and storage.\n",
        "\n",
        "Let's look at the code implementation:"
      ],
      "metadata": {
        "id": "p2uD6zA9RKYh"
      }
    },
    {
      "cell_type": "code",
      "source": [],
      "metadata": {
        "id": "U1EPrg00fulT"
      },
      "execution_count": 2,
      "outputs": []
    },
    {
      "cell_type": "code",
      "source": [
        "# Import required libraries\n",
        "from flask import Flask, request, jsonify\n",
        "from pyspark.sql import SparkSession\n",
        "from pyspark.sql.functions import sha2, concat_ws, col\n",
        "from delta import configure_spark_with_delta_pip\n",
        "import nest_asyncio\n",
        "from threading import Thread\n",
        "\n",
        "# Initialize Spark session with Delta Lake\n",
        "builder = SparkSession.builder \\\n",
        "    .appName(\"BlockchainWithDeltaLake\") \\\n",
        "    .config(\"spark.jars.packages\", \"io.delta:delta-core_2.12:1.1.0\") \\\n",
        "    .config(\"spark.sql.extensions\", \"io.delta.sql.DeltaSparkSessionExtension\") \\\n",
        "    .config(\"spark.sql.catalog.spark_catalog\", \"org.apache.spark.sql.delta.catalog.DeltaCatalog\")\n",
        "\n",
        "spark = configure_spark_with_delta_pip(builder).getOrCreate()\n",
        "\n",
        "# Flask application setup\n",
        "app = Flask(__name__)\n",
        "\n",
        "# API endpoint to add a new block\n",
        "@app.route('/add_block', methods=['POST'])\n",
        "def add_block():\n",
        "    previous_block = spark.read.format(\"delta\").load(\"/tmp/delta/blockchain\").orderBy(\"index\", ascending=False).limit(1)\n",
        "    transactions = request.json.get('transactions')\n",
        "    amount = request.json.get('amount')\n",
        "    added_by = request.json.get('added_by')\n",
        "    category = request.json.get('category')\n",
        "    description = request.json.get('description')\n",
        "\n",
        "    new_block = create_block(previous_block, transactions, amount, added_by, category, description)\n",
        "    new_block = calculate_hash(new_block)\n",
        "    new_block.write.format(\"delta\").mode(\"append\").save(\"/tmp/delta/blockchain\")\n",
        "\n",
        "    return jsonify({\"message\": \"Block added successfully\"}), 201\n",
        "\n",
        "# API endpoint to get the blockchain\n",
        "@app.route('/get_blockchain', methods=['GET'])\n",
        "def get_blockchain():\n",
        "    blockchain_df = spark.read.format(\"delta\").load(\"/tmp/delta/blockchain\")\n",
        "    blockchain_list = blockchain_df.collect()\n",
        "    blockchain_json = [row.asDict() for row in blockchain_list]\n",
        "\n",
        "    return jsonify(blockchain_json), 200\n",
        "\n",
        "# Ensure the notebook can handle Flask requests\n",
        "nest_asyncio.apply()\n",
        "\n",
        "# This code will start the Flask app in a background thread\n",
        "def start_app():\n",
        "    app.run(port=5001)\n",
        "\n",
        "thread = Thread(target=start_app)\n",
        "thread.start()\n"
      ],
      "metadata": {
        "id": "gK3hcwAkRTwr",
        "colab": {
          "base_uri": "https://localhost:8080/"
        },
        "outputId": "31376654-f6e0-4d2e-f74c-30eb2b22fc5b"
      },
      "execution_count": 3,
      "outputs": [
        {
          "output_type": "stream",
          "name": "stdout",
          "text": [
            " * Serving Flask app '__main__'\n",
            " * Debug mode: off\n"
          ]
        }
      ]
    },
    {
      "cell_type": "markdown",
      "source": [
        "In this implementation, we've created two API endpoints:\n",
        "\n",
        "1. The `/add_block` endpoint allows us to add new blocks to our blockchain. It takes transaction details as JSON input, creates a new block, and appends it to our Delta Lake table.\n",
        "\n",
        "2. The `/get_blockchain` endpoint retrieves the entire blockchain and returns it as a JSON response.\n",
        "\n",
        "By running the Flask app in a background thread, we can continue to use our notebook while the API is active. This setup allows us to interact with our blockchain through HTTP requests, making it more versatile and easier to integrate with other systems.\n",
        "\n",
        "In the next section, we'll explore how to use these API endpoints to interact with our blockchain and perform some basic analysis on the blockchain data.\n",
        "\n",
        "## Adding Sample Transactions to Our Blockchain via API\n",
        "\n",
        "Now that we have our blockchain API set up, let's use it to add some sample transactions. This process will demonstrate how to interact with our blockchain using HTTP requests, which is a common way to integrate blockchain systems with other applications.\n",
        "\n",
        "In this section, we will:\n",
        "\n",
        "1. **Import the requests library**: This allows us to make HTTP requests to our API.\n",
        "\n",
        "2. **Define the API URL**: We'll set the URL for our `/add_block` endpoint.\n",
        "\n",
        "3. **Create sample transactions**: We'll define a list of diverse educational transactions, including extracurricular activities and transportation fees. This variety will help us demonstrate the flexibility of our blockchain in handling different types of educational expenses.\n",
        "\n",
        "4. **Send POST requests**: We'll iterate through our sample transactions, sending each one to the API as a POST request. This process will add each transaction as a new block in our blockchain.\n",
        "\n",
        "5. **Print responses**: We'll print the response from each API call to confirm that the blocks were added successfully.\n",
        "\n",
        "This demonstration shows how easily we can add new transactions to our blockchain using a simple API. It also highlights the potential for integrating this system with other educational management tools or financial systems.\n",
        "\n",
        "Let's look at the code implementation:"
      ],
      "metadata": {
        "id": "C2-LGEivRdte"
      }
    },
    {
      "cell_type": "markdown",
      "source": [],
      "metadata": {
        "id": "VoiZuCs3Rn1c"
      }
    },
    {
      "cell_type": "code",
      "source": [
        "# Add sample transactions\n",
        "import requests\n",
        "\n",
        "# API URL\n",
        "api_url = \"http://localhost:5001/add_block\"\n",
        "\n",
        "# Sample financial transactions with realistic data\n",
        "transactions = [\n",
        "    # Additional diverse transactions\n",
        "    {\"transactions\": \"Purchase of sports equipment\", \"amount\": 2500.0, \"added_by\": \"Syed Bilgrami\", \"category\": \"extracurricular\", \"description\": \"Sports equipment for school\"},\n",
        "    {\"transactions\": \"Transportation fees\", \"amount\": 3000.0, \"added_by\": \"Syed Bilgrami\", \"category\": \"transportation\", \"description\": \"Monthly bus pass for Sawaira Sajjad\"},\n",
        "    {\"transactions\": \"Purchase of lab supplies\", \"amount\": 4500.0, \"added_by\": \"Syed Bilgrami\", \"category\": \"education\", \"description\": \"Lab supplies for Ali Khan's medical studies\"},\n",
        "    {\"transactions\": \"Field trip expenses\", \"amount\": 3500.0, \"added_by\": \"Syed Bilgrami\", \"category\": \"extracurricular\", \"description\": \"Field trip expenses for Malaika Khan\"},\n",
        "    {\"transactions\": \"After-school program\", \"amount\": 2000.0, \"added_by\": \"Syed Bilgrami\", \"category\": \"extracurricular\", \"description\": \"Fee for after-school program for Usman Sajjad\"}\n",
        "]\n",
        "# Add transactions using the API\n",
        "for transaction in transactions:\n",
        "    response = requests.post(api_url, json=transaction)\n",
        "    print(response.json())"
      ],
      "metadata": {
        "colab": {
          "base_uri": "https://localhost:8080/"
        },
        "id": "n85pdCwIRbdL",
        "outputId": "dcb679c5-3c0e-41f1-a7c0-031785ce3450"
      },
      "execution_count": 4,
      "outputs": [
        {
          "output_type": "stream",
          "name": "stderr",
          "text": [
            "INFO:werkzeug:\u001b[31m\u001b[1mWARNING: This is a development server. Do not use it in a production deployment. Use a production WSGI server instead.\u001b[0m\n",
            " * Running on http://127.0.0.1:5001\n",
            "INFO:werkzeug:\u001b[33mPress CTRL+C to quit\u001b[0m\n",
            "INFO:werkzeug:127.0.0.1 - - [07/Jul/2024 01:23:50] \"\u001b[35m\u001b[1mPOST /add_block HTTP/1.1\u001b[0m\" 201 -\n"
          ]
        },
        {
          "output_type": "stream",
          "name": "stdout",
          "text": [
            "{'message': 'Block added successfully'}\n"
          ]
        },
        {
          "output_type": "stream",
          "name": "stderr",
          "text": [
            "INFO:werkzeug:127.0.0.1 - - [07/Jul/2024 01:24:07] \"\u001b[35m\u001b[1mPOST /add_block HTTP/1.1\u001b[0m\" 201 -\n"
          ]
        },
        {
          "output_type": "stream",
          "name": "stdout",
          "text": [
            "{'message': 'Block added successfully'}\n"
          ]
        },
        {
          "output_type": "stream",
          "name": "stderr",
          "text": [
            "INFO:werkzeug:127.0.0.1 - - [07/Jul/2024 01:24:19] \"\u001b[35m\u001b[1mPOST /add_block HTTP/1.1\u001b[0m\" 201 -\n"
          ]
        },
        {
          "output_type": "stream",
          "name": "stdout",
          "text": [
            "{'message': 'Block added successfully'}\n"
          ]
        },
        {
          "output_type": "stream",
          "name": "stderr",
          "text": [
            "INFO:werkzeug:127.0.0.1 - - [07/Jul/2024 01:24:29] \"\u001b[35m\u001b[1mPOST /add_block HTTP/1.1\u001b[0m\" 201 -\n"
          ]
        },
        {
          "output_type": "stream",
          "name": "stdout",
          "text": [
            "{'message': 'Block added successfully'}\n"
          ]
        },
        {
          "output_type": "stream",
          "name": "stderr",
          "text": [
            "INFO:werkzeug:127.0.0.1 - - [07/Jul/2024 01:24:39] \"\u001b[35m\u001b[1mPOST /add_block HTTP/1.1\u001b[0m\" 201 -\n"
          ]
        },
        {
          "output_type": "stream",
          "name": "stdout",
          "text": [
            "{'message': 'Block added successfully'}\n"
          ]
        }
      ]
    },
    {
      "cell_type": "markdown",
      "source": [
        "By running this code, we've added several new blocks to our blockchain, each representing a different educational transaction. These transactions cover a range of categories including:\n",
        "\n",
        "- Core educational expenses (books, fees)\n",
        "- Extracurricular activities (sports equipment, field trips)\n",
        "- Transportation\n",
        "- Specialized educational needs (lab supplies)\n",
        "\n",
        "This diverse set of transactions demonstrates the flexibility of our blockchain in handling various types of educational expenses. It also sets us up for interesting analysis in the future, where we could examine spending patterns across different categories or track expenses for individual students.\n",
        "\n",
        "In the next section, we'll retrieve our updated blockchain using the API and perform some basic analysis on this expanded dataset.\n",
        "\n",
        "## Creating an Interactive Transaction Entry Form\n",
        "\n",
        "In this section, we'll create an interactive form using IPython widgets to allow users to easily enter new transactions into our blockchain. This demonstrates how we can build user-friendly interfaces on top of our blockchain API, making it accessible to non-technical users.\n",
        "\n",
        "Here's what we're going to do:\n",
        "\n",
        "1. **Import Required Libraries**: We'll use `ipywidgets` for creating interactive widgets and `requests` for making API calls.\n",
        "\n",
        "2. **Display Instructions**: We'll show a Markdown cell with instructions on how to use the form.\n",
        "\n",
        "3. **Create Form Fields**: We'll set up input fields for all the necessary transaction details:\n",
        "   - Transactions (description)\n",
        "   - Amount\n",
        "   - Added By (name of the person adding the transaction)\n",
        "   - Category (dropdown selection)\n",
        "   - Description (optional field)\n",
        "\n",
        "4. **Implement Submission Logic**: We'll create a function to handle form submission, which will:\n",
        "   - Validate that all required fields are filled\n",
        "   - Prepare the transaction data\n",
        "   - Send a POST request to our blockchain API\n",
        "   - Display the result of the API call\n",
        "\n",
        "5. **Create and Display the Form**: We'll assemble all the widgets into a form and display it in the notebook.\n",
        "\n",
        "This interactive form provides a user-friendly way to interact with our blockchain, making it easy for non-technical users to add new transactions. It's a practical example of how blockchain technology can be integrated into everyday applications in the education sector.\n",
        "\n",
        "Let's look at the implementation:"
      ],
      "metadata": {
        "id": "32BpmVQx0RMP"
      }
    },
    {
      "cell_type": "code",
      "source": [
        "import ipywidgets as widgets\n",
        "from IPython.display import display, Markdown\n",
        "import requests\n",
        "# Display the summary in Markdown\n",
        "display(Markdown(\"\"\"\n",
        "# Transaction Entry Form\n",
        "\n",
        "Use this form to enter transactions for a non-profit organization in education that pays for school fee expenses.\n",
        "Please fill in all the required fields and click \"Submit\" to add the transaction.\n",
        "\n",
        "### Required Fields\n",
        "- **Transactions**: Description of the transaction (e.g., \"Fee payment for student X\")\n",
        "- **Amount**: Amount of the transaction\n",
        "- **Added By**: Your name\n",
        "- **Category**: Select a category from the dropdown (e.g., education, books, uniform, extracurricular, transportation, admission)\n",
        "\n",
        "### Optional Field\n",
        "- **Description**: Additional description for the transaction\n",
        "\"\"\"))\n",
        "\n",
        "# API URL\n",
        "api_url = \"http://localhost:5001/add_block\"\n",
        "\n",
        "# Create form fields\n",
        "transactions_input = widgets.Text(description=\"Transactions:\", placeholder=\"Enter transaction description\")\n",
        "amount_input = widgets.FloatText(description=\"Amount:\", placeholder=\"Enter amount\")\n",
        "added_by_input = widgets.Text(description=\"Added By:\", placeholder=\"Enter your name\")\n",
        "category_input = widgets.Dropdown(\n",
        "    options=[\"education\", \"books\", \"uniform\", \"extracurricular\", \"transportation\", \"admission\", \"other\"],\n",
        "    description=\"Category:\",\n",
        "    value=None\n",
        ")\n",
        "description_input = widgets.Text(description=\"Description:\", placeholder=\"Enter optional description\")\n",
        "submit_button = widgets.Button(description=\"Submit\")\n",
        "\n",
        "# Function to handle form submission\n",
        "def submit_transaction(b):\n",
        "    if not transactions_input.value or not amount_input.value or not added_by_input.value or not category_input.value:\n",
        "        print(\"Please fill in all required fields.\")\n",
        "        return\n",
        "\n",
        "    transaction_data = {\n",
        "        \"transactions\": transactions_input.value,\n",
        "        \"amount\": amount_input.value,\n",
        "        \"added_by\": added_by_input.value,\n",
        "        \"category\": category_input.value,\n",
        "        \"description\": description_input.value\n",
        "    }\n",
        "\n",
        "    response = requests.post(api_url, json=transaction_data)\n",
        "\n",
        "    if response.status_code == 201:\n",
        "        print(\"Transaction added successfully!\")\n",
        "    else:\n",
        "        print(\"Failed to add transaction. Status code:\", response.status_code)\n",
        "\n",
        "# Attach the submit function to the button\n",
        "submit_button.on_click(submit_transaction)\n",
        "\n",
        "# Display the form\n",
        "display(transactions_input, amount_input, added_by_input, category_input, description_input, submit_button)\n"
      ],
      "metadata": {
        "colab": {
          "base_uri": "https://localhost:8080/",
          "height": 489,
          "referenced_widgets": [
            "52c73186fc274962ae1ece7aa8c51b42",
            "1df0e858abc847b7b13e3f4d96f01d73",
            "0997ed76ba134a60b53dc6eeb1c0280f",
            "9c31001ec3aa4714aab09a6884317d0a",
            "65ce5e34d35142e892cc82ce39e5f62b",
            "8633d5c1caee427a87b192ca4b605360",
            "4e2ae20ca9e54c7592663e97b91d8c89",
            "57e29564b0a74459837a29128d616cce",
            "754d0259f26846ccb872ba8e67c3d700",
            "45602ee0fb9d43b697c5b3a2918ff233",
            "e8cf980049b445afba5fda5a1084c548",
            "10d9184fc09543f3a0e1b32269c61a60",
            "d636a9ea0dee453d9c5306bfd8d66c1a",
            "caeeb2117c5d4cd49f18071b5e032c42",
            "da6e1048f5064733906a94357deb10c1",
            "79c4d3ebcc554eb99847a50d86d8d938",
            "4a4845985ac7416dad84560813ccc0a5",
            "d111ae1cfce8401c9c8b338a5d5fc61c"
          ]
        },
        "id": "Ubreu0Chw8yb",
        "outputId": "89c8c049-ed57-4502-ee83-64431e19e95c"
      },
      "execution_count": 5,
      "outputs": [
        {
          "output_type": "display_data",
          "data": {
            "text/plain": [
              "<IPython.core.display.Markdown object>"
            ],
            "text/markdown": "\n# Transaction Entry Form\n\nUse this form to enter transactions for a non-profit organization in education that pays for school fee expenses.\nPlease fill in all the required fields and click \"Submit\" to add the transaction.\n\n### Required Fields\n- **Transactions**: Description of the transaction (e.g., \"Fee payment for student X\")\n- **Amount**: Amount of the transaction\n- **Added By**: Your name\n- **Category**: Select a category from the dropdown (e.g., education, books, uniform, extracurricular, transportation, admission)\n\n### Optional Field\n- **Description**: Additional description for the transaction\n"
          },
          "metadata": {}
        },
        {
          "output_type": "display_data",
          "data": {
            "text/plain": [
              "Text(value='', description='Transactions:', placeholder='Enter transaction description')"
            ],
            "application/vnd.jupyter.widget-view+json": {
              "version_major": 2,
              "version_minor": 0,
              "model_id": "52c73186fc274962ae1ece7aa8c51b42"
            }
          },
          "metadata": {}
        },
        {
          "output_type": "display_data",
          "data": {
            "text/plain": [
              "FloatText(value=0.0, description='Amount:')"
            ],
            "application/vnd.jupyter.widget-view+json": {
              "version_major": 2,
              "version_minor": 0,
              "model_id": "9c31001ec3aa4714aab09a6884317d0a"
            }
          },
          "metadata": {}
        },
        {
          "output_type": "display_data",
          "data": {
            "text/plain": [
              "Text(value='', description='Added By:', placeholder='Enter your name')"
            ],
            "application/vnd.jupyter.widget-view+json": {
              "version_major": 2,
              "version_minor": 0,
              "model_id": "4e2ae20ca9e54c7592663e97b91d8c89"
            }
          },
          "metadata": {}
        },
        {
          "output_type": "display_data",
          "data": {
            "text/plain": [
              "Dropdown(description='Category:', options=('education', 'books', 'uniform', 'extracurricular', 'transportation…"
            ],
            "application/vnd.jupyter.widget-view+json": {
              "version_major": 2,
              "version_minor": 0,
              "model_id": "45602ee0fb9d43b697c5b3a2918ff233"
            }
          },
          "metadata": {}
        },
        {
          "output_type": "display_data",
          "data": {
            "text/plain": [
              "Text(value='', description='Description:', placeholder='Enter optional description')"
            ],
            "application/vnd.jupyter.widget-view+json": {
              "version_major": 2,
              "version_minor": 0,
              "model_id": "d636a9ea0dee453d9c5306bfd8d66c1a"
            }
          },
          "metadata": {}
        },
        {
          "output_type": "display_data",
          "data": {
            "text/plain": [
              "Button(description='Submit', style=ButtonStyle())"
            ],
            "application/vnd.jupyter.widget-view+json": {
              "version_major": 2,
              "version_minor": 0,
              "model_id": "79c4d3ebcc554eb99847a50d86d8d938"
            }
          },
          "metadata": {}
        }
      ]
    },
    {
      "cell_type": "markdown",
      "source": [
        "This interactive form provides several benefits:\n",
        "\n",
        "1. **User-Friendly Interface**: It offers a simple way for users to interact with our blockchain without needing to understand the underlying technology.\n",
        "\n",
        "2. **Data Validation**: The form ensures that all required fields are filled before submission, reducing errors in data entry.\n",
        "\n",
        "3. **Categorization**: The dropdown for categories helps standardize the types of transactions, which will be useful for future analysis.\n",
        "\n",
        "4. **Immediate Feedback**: Users receive instant confirmation when a transaction is added successfully.\n",
        "\n",
        "5. **Flexibility**: The \"other\" category and optional description field allow for capturing a wide range of transaction types.\n",
        "\n",
        "This form demonstrates how blockchain technology can be made accessible and practical for everyday use in educational institutions. Staff members can easily record various types of educational expenses, from tuition payments to extracurricular activities, without needing to understand the complexities of the underlying blockchain system.\n",
        "\n",
        "In the next section, we'll explore how to retrieve and analyze the transaction data we've added through this form, demonstrating the power of combining user-friendly interfaces with blockchain technology for educational finance management.\n",
        "\n",
        "## Retrieving and Displaying the Blockchain\n",
        "\n",
        "Now that we've added several transactions to our blockchain, let's retrieve and display the entire chain. This step is crucial for verifying the integrity of our blockchain and reviewing the transaction history.\n",
        "\n",
        "In this section, we will:\n",
        "\n",
        "1. **Read the Blockchain**: We'll use Spark to read our blockchain data from the Delta Lake table we've been writing to.\n",
        "\n",
        "2. **Order the Data**: We'll sort the blockchain by the index to ensure we're viewing the blocks in the correct order.\n",
        "\n",
        "3. **Display the Blockchain**: We'll use Spark's `show()` method to display the entire blockchain in a tabular format.\n",
        "\n",
        "This process demonstrates how easy it is to retrieve and view our blockchain data using PySpark and Delta Lake. It's an important step for auditing, analysis, and verification of the blockchain's contents.\n",
        "\n",
        "Let's look at the code to accomplish this:"
      ],
      "metadata": {
        "id": "UPho8iyXx9nM"
      }
    },
    {
      "cell_type": "code",
      "source": [
        "# Read and display the blockchain\n",
        "blockchain_df = spark.read.format(\"delta\").load(\"/tmp/delta/blockchain\")\n",
        "blockchain_df.orderBy(\"index\").show(truncate=False)"
      ],
      "metadata": {
        "colab": {
          "base_uri": "https://localhost:8080/"
        },
        "id": "cDr78VryyHn9",
        "outputId": "d92cba90-a520-4db1-cf2c-38987235c5ff"
      },
      "execution_count": 6,
      "outputs": [
        {
          "output_type": "stream",
          "name": "stdout",
          "text": [
            "+-----+--------------------------+-----------------------------+------+----------------------------------------------------------------+-------------+---------------+------------------------------------------------+----------------------------------------------------------------+\n",
            "|index|timestamp                 |transactions                 |amount|previous_hash                                                   |added_by     |category       |description                                     |hash                                                            |\n",
            "+-----+--------------------------+-----------------------------+------+----------------------------------------------------------------+-------------+---------------+------------------------------------------------+----------------------------------------------------------------+\n",
            "|0    |                          |                             |0.0   |0                                                               |genesis      |education      |Initial block                                   |5b2895eceb35bf5c3735d7347926e2078f4e439fe1f5af54978907c42b3db4b4|\n",
            "|1    |2024-07-07T01:22:42.070210|Payment for school fees      |5000.0|5b2895eceb35bf5c3735d7347926e2078f4e439fe1f5af54978907c42b3db4b4|Syed Bilgrami|education      |Fee payment for Sawaira Sajjad of class 11      |483370c5556280d024e9c7bc00443a2f44eb2e785ccd37bc8ebe008742a4e262|\n",
            "|2    |2024-07-07T01:22:45.242767|Purchase of books and uniform|2000.0|483370c5556280d024e9c7bc00443a2f44eb2e785ccd37bc8ebe008742a4e262|Syed Bilgrami|education      |Books and uniform for Sawaira Sajjad of class 11|ef686e4358737c19a379d8dcf8cff9ad4eede842e08c5292ce247c8e89290399|\n",
            "|3    |2024-07-07T01:22:48.150251|Payment for admission fee    |6000.0|ef686e4358737c19a379d8dcf8cff9ad4eede842e08c5292ce247c8e89290399|Syed Bilgrami|education      |Admission fee for Malaika Khan of class 10      |c0e8ca963f6e59ce856ccc5d56ca2aec4abf80077ed83942eb200191997769fa|\n",
            "|4    |2024-07-07T01:22:51.657589|Payment for school fees      |7000.0|c0e8ca963f6e59ce856ccc5d56ca2aec4abf80077ed83942eb200191997769fa|Syed Bilgrami|education      |Fee payment for Ali Khan of class 12 in medical |419f8df2258fb21dcb171a260ca26b74438e57c01b44c4796dd669764144e3f8|\n",
            "|5    |2024-07-07T01:22:55.008910|Purchase of books            |3000.0|419f8df2258fb21dcb171a260ca26b74438e57c01b44c4796dd669764144e3f8|Syed Bilgrami|education      |Books for Ali Khan of class 12 in medical       |bc744ad279823dd3fe48ab194b9688888f5ca82c461eec494fc7f275ee288158|\n",
            "|6    |2024-07-07T01:22:57.572637|Payment for school fees      |4000.0|bc744ad279823dd3fe48ab194b9688888f5ca82c461eec494fc7f275ee288158|Syed Bilgrami|education      |Fee payment for Saiqa Khan of class 8           |37daa3a2c91325e9de5708d9ca5150f66456856a1d6fd351cc41aa6d254f540b|\n",
            "|7    |2024-07-07T01:23:00.140489|Purchase of books and uniform|1500.0|37daa3a2c91325e9de5708d9ca5150f66456856a1d6fd351cc41aa6d254f540b|Syed Bilgrami|education      |Books and uniform for Saiqa Khan of class 8     |8a487b7aff2b94fdf064e652223b714239326d146b7b7aa068625ffb24070728|\n",
            "|8    |2024-07-07T01:23:02.687479|Payment for school fees      |4000.0|8a487b7aff2b94fdf064e652223b714239326d146b7b7aa068625ffb24070728|Syed Bilgrami|education      |Fee payment for Usman Sajjad of class 8         |89ec4e104e6de3e33147bd58171fa906badbe3bb99ae4654653e753e3f2bf733|\n",
            "|9    |2024-07-07T01:23:05.984419|Purchase of books and uniform|1500.0|89ec4e104e6de3e33147bd58171fa906badbe3bb99ae4654653e753e3f2bf733|Syed Bilgrami|education      |Books and uniform for Usman Sajjad of class 8   |8d39a68fd778b5e815a92533cf5395eb0c053239076b9b0ef506c56f9afd5f28|\n",
            "|10   |2024-07-07T01:23:27.556432|Purchase of sports equipment |2500.0|8d39a68fd778b5e815a92533cf5395eb0c053239076b9b0ef506c56f9afd5f28|Syed Bilgrami|extracurricular|Sports equipment for school                     |fa38f58154f073dc3910d8b940971fe7ad712803204725916844592b35ee4606|\n",
            "|11   |2024-07-07T01:24:04.029295|Transportation fees          |3000.0|fa38f58154f073dc3910d8b940971fe7ad712803204725916844592b35ee4606|Syed Bilgrami|transportation |Monthly bus pass for Sawaira Sajjad             |abcc771564ebed96c02bff6871571b7dca48c8c07fbc13cd50a45857af5c78dd|\n",
            "|12   |2024-07-07T01:24:15.977191|Purchase of lab supplies     |4500.0|abcc771564ebed96c02bff6871571b7dca48c8c07fbc13cd50a45857af5c78dd|Syed Bilgrami|education      |Lab supplies for Ali Khan's medical studies     |130d695b7b23e1263930438ef21f73e689aa2d6aaa275c00f3741ad8ce509c66|\n",
            "|13   |2024-07-07T01:24:25.981479|Field trip expenses          |3500.0|130d695b7b23e1263930438ef21f73e689aa2d6aaa275c00f3741ad8ce509c66|Syed Bilgrami|extracurricular|Field trip expenses for Malaika Khan            |e6194fbb1d4ba8d522f32292bfcf460e9415e6d902b029eac51204d4d0a2edfd|\n",
            "|14   |2024-07-07T01:24:36.433490|After-school program         |2000.0|e6194fbb1d4ba8d522f32292bfcf460e9415e6d902b029eac51204d4d0a2edfd|Syed Bilgrami|extracurricular|Fee for after-school program for Usman Sajjad   |37c247089030e889467b079f250d567462e6b27309b0b5f5b9b103b7946477b5|\n",
            "+-----+--------------------------+-----------------------------+------+----------------------------------------------------------------+-------------+---------------+------------------------------------------------+----------------------------------------------------------------+\n",
            "\n"
          ]
        }
      ]
    },
    {
      "cell_type": "markdown",
      "source": [
        "When you run this code, you'll see a table displaying all the blocks in our blockchain. Each row represents a single block, and the columns show the various attributes of each block:\n",
        "\n",
        "- `index`: The position of the block in the chain\n",
        "- `timestamp`: When the block was created\n",
        "- `transactions`: A description of the transaction\n",
        "- `amount`: The monetary value of the transaction\n",
        "- `previous_hash`: The hash of the previous block, ensuring the chain's integrity\n",
        "- `added_by`: Who added this transaction\n",
        "- `category`: The type of educational expense\n",
        "- `description`: Additional details about the transaction\n",
        "- `hash`: The unique hash of this block\n",
        "\n",
        "This display allows us to verify several important aspects of our blockchain:\n",
        "\n",
        "1. **Chronological Order**: The blocks should be in ascending order by index.\n",
        "2. **Chain Integrity**: Each block's `previous_hash` should match the `hash` of the block before it.\n",
        "3. **Transaction Details**: We can review all the details of each transaction.\n",
        "4. **Data Consistency**: All required fields should be populated for each block.\n",
        "\n",
        "By examining this data, we can confirm that our blockchain is functioning correctly and that all the transactions we've added (both programmatically and through our form) have been properly recorded.\n",
        "\n",
        "In the next section, we'll perform some basic analysis on this blockchain data to extract meaningful insights about the educational expenses we've been tracking.\n",
        "\n"
      ],
      "metadata": {
        "id": "q0nX7tzERpvh"
      }
    },
    {
      "cell_type": "markdown",
      "source": [
        "## Preparing Blockchain Data for Analysis\n",
        "\n",
        "Now that we have our blockchain populated with various educational transactions, we'll prepare this data for in-depth analysis. This process involves reading the data from Delta Lake, ordering it, and converting it into a format that's easier to manipulate and analyze.\n",
        "\n",
        "In this section, we will:\n",
        "\n",
        "1. **Read the Blockchain Data**: We'll use Spark to read our blockchain data from the Delta Lake table.\n",
        "\n",
        "2. **Order the Data**: We'll sort the blockchain by the index to ensure we're analyzing the blocks in the correct chronological order.\n",
        "\n",
        "3. **Convert to Pandas DataFrame**: We'll transform the Spark DataFrame into a Pandas DataFrame. Pandas provides a rich set of data manipulation tools that are particularly useful for analysis tasks.\n",
        "\n",
        "4. **Process Timestamp Data**: We'll convert the timestamp column to a datetime format, which will allow us to perform time-based analysis more easily.\n",
        "\n",
        "This preparation step is crucial for enabling more sophisticated analysis of our blockchain data. By converting to a Pandas DataFrame and properly formatting our timestamp data, we set the stage for a wide range of analytical possibilities.\n",
        "\n",
        "Let's look at the code to accomplish this:"
      ],
      "metadata": {
        "id": "_KY3uuOXlEhC"
      }
    },
    {
      "cell_type": "code",
      "source": [
        "# Step 1: Read the blockchain data from Delta Lake\n",
        "import pandas as pd\n",
        "# Read the blockchain ordered by index\n",
        "blockchain_df = spark.read.format(\"delta\").load(\"/tmp/delta/blockchain\")\n",
        "ordered_blockchain_df = blockchain_df.orderBy(\"index\")\n",
        "\n",
        "# Convert to Pandas DataFrame for easier manipulation\n",
        "blockchain_pd_df = ordered_blockchain_df.toPandas()\n",
        "\n",
        "# Convert timestamp to datetime\n",
        "blockchain_pd_df['timestamp'] = pd.to_datetime(blockchain_pd_df['timestamp'])\n"
      ],
      "metadata": {
        "id": "C-tJ_sbTRrwj"
      },
      "execution_count": 7,
      "outputs": []
    },
    {
      "cell_type": "markdown",
      "source": [
        "After running this code, we've transformed our blockchain data into a format that's primed for analysis. Here's what we've accomplished:\n",
        "\n",
        "1. **Data Retrieval**: We've read the entire blockchain from our Delta Lake storage, ensuring we have the most up-to-date information.\n",
        "\n",
        "2. **Chronological Ordering**: By ordering the data by index, we've maintained the crucial chronological structure of the blockchain.\n",
        "\n",
        "3. **Enhanced Manipulability**: Converting to a Pandas DataFrame gives us access to a wide array of data manipulation and analysis tools that are particularly well-suited for tabular data like our blockchain.\n",
        "\n",
        "4. **Time-Based Analysis Preparation**: By converting the timestamp to a datetime format, we've enabled powerful time-based analyses. This will allow us to easily examine trends over time, group transactions by date, or perform time-window analyses.\n",
        "\n",
        "This prepared dataset forms the foundation for our subsequent analyses. With this Pandas DataFrame, we can now easily perform operations like:\n",
        "\n",
        "- Grouping transactions by category or added_by\n",
        "- Calculating total expenses over different time periods\n",
        "- Identifying trends in educational spending\n",
        "- Analyzing the frequency and amounts of different types of transactions\n",
        "\n",
        "In the next section, we'll dive into some specific analyses to extract meaningful insights from our educational blockchain data.\n",
        "\n",
        "## Analyzing Blockchain Data: Quarterly and Yearly Budgets\n",
        "\n",
        "After retrieving our blockchain data, the next step is to analyze it to gain insights into educational spending patterns. In this section, we'll aggregate the transaction data to create quarterly and yearly budget summaries.\n",
        "\n",
        "Here's what we're going to do:\n",
        "\n",
        "1. **Create Time-Based Columns**:\n",
        "   - We'll add a 'quarter' column to group transactions by fiscal quarters.\n",
        "   - We'll also add a 'year' column for yearly aggregation.\n",
        "\n",
        "2. **Aggregate Data**:\n",
        "   - We'll group the data by quarter and sum the transaction amounts to get a quarterly budget.\n",
        "   - Similarly, we'll group by year to get a yearly budget summary.\n",
        "\n",
        "This analysis will help us understand spending trends over time, which is crucial for budget planning and financial management in educational institutions.\n",
        "\n",
        "Let's look at the code to perform this analysis:"
      ],
      "metadata": {
        "id": "QgLq9JXrlJW2"
      }
    },
    {
      "cell_type": "code",
      "source": [
        "# Step 2: Aggregate the data\n",
        "import pandas as pd\n",
        "\n",
        "# Group by quarter and year to get the financial budget\n",
        "blockchain_pd_df['quarter'] = blockchain_pd_df['timestamp'].dt.to_period('Q')\n",
        "blockchain_pd_df['year'] = blockchain_pd_df['timestamp'].dt.year\n",
        "\n",
        "# Aggregate the data by quarter and year\n",
        "quarterly_budget = blockchain_pd_df.groupby('quarter')['amount'].sum().reset_index()\n",
        "yearly_budget = blockchain_pd_df.groupby('year')['amount'].sum().reset_index()\n"
      ],
      "metadata": {
        "id": "SKP5-YcxRyE7"
      },
      "execution_count": 8,
      "outputs": []
    },
    {
      "cell_type": "markdown",
      "source": [
        "After running this code, we've transformed our blockchain data into a format that's primed for analysis. Here's what we've accomplished:\n",
        "\n",
        "1. **Data Retrieval**: We've read the entire blockchain from our Delta Lake storage, ensuring we have the most up-to-date information.\n",
        "\n",
        "2. **Chronological Ordering**: By ordering the data by index, we've maintained the crucial chronological structure of the blockchain.\n",
        "\n",
        "3. **Enhanced Manipulability**: Converting to a Pandas DataFrame gives us access to a wide array of data manipulation and analysis tools that are particularly well-suited for tabular data like our blockchain.\n",
        "\n",
        "4. **Time-Based Analysis Preparation**: By converting the timestamp to a datetime format, we've enabled powerful time-based analyses. This will allow us to easily examine trends over time, group transactions by date, or perform time-window analyses.\n",
        "\n",
        "This prepared dataset forms the foundation for our subsequent analyses. With this Pandas DataFrame, we can now easily perform operations like:\n",
        "\n",
        "- Grouping transactions by category or added_by\n",
        "- Calculating total expenses over different time periods\n",
        "- Identifying trends in educational spending\n",
        "- Analyzing the frequency and amounts of different types of transactions\n",
        "\n",
        "In the next section, we'll dive into some specific analyses to extract meaningful insights from our educational blockchain data.\n",
        "\n",
        "## Projecting Future Financial Budgets\n",
        "\n",
        "After analyzing our historical blockchain data, we can use this information to project future budgets. This step is crucial for financial planning in educational institutions. We'll create projections for both quarterly and yearly budgets based on our historical data.\n",
        "\n",
        "In this section, we will:\n",
        "\n",
        "1. **Determine Current Time Period**: We'll identify the current quarter and year as our starting point for projections.\n",
        "\n",
        "2. **Calculate Average Budgets**: We'll compute the average quarterly and yearly budgets based on our historical data.\n",
        "\n",
        "3. **Project Quarterly Budgets**: We'll create projections for the next three quarters.\n",
        "\n",
        "4. **Project Yearly Budgets**: We'll project budgets for the next two years.\n",
        "\n",
        "5. **Create Projection DataFrames**: We'll organize our projections into easy-to-use DataFrames.\n",
        "\n",
        "This process demonstrates how blockchain data can be leveraged for financial forecasting in educational settings. By basing our projections on actual historical data, we can create more accurate and reliable budget estimates.\n",
        "\n",
        "Let's look at the code to accomplish this:"
      ],
      "metadata": {
        "id": "E-LKjITnSAMD"
      }
    },
    {
      "cell_type": "code",
      "source": [
        "# Step 3: Project the financial budget\n",
        "\n",
        "# Get the current quarter and year\n",
        "current_quarter = pd.Period(pd.Timestamp.now(), freq='Q')\n",
        "current_year = pd.Timestamp.now().year\n",
        "\n",
        "# Calculate the average budget per quarter for projection\n",
        "average_quarterly_budget = quarterly_budget['amount'].mean()\n",
        "\n",
        "# Project for the next three quarters and next two years\n",
        "projection_quarters = [current_quarter + i for i in range(1, 4)]\n",
        "projection_years = [current_year + i for i in range(1, 3)]\n",
        "\n",
        "# Create DataFrame for the projected quarters\n",
        "projection_quarterly_df = pd.DataFrame({\n",
        "    'quarter': projection_quarters,\n",
        "    'amount': [average_quarterly_budget] * 3\n",
        "})\n",
        "\n",
        "# Create DataFrame for the projected years\n",
        "average_yearly_budget = yearly_budget['amount'].mean()\n",
        "projection_yearly_df = pd.DataFrame({\n",
        "    'year': projection_years,\n",
        "    'amount': [average_yearly_budget] * 2\n",
        "})\n"
      ],
      "metadata": {
        "id": "S4OJi3oSSBiq"
      },
      "execution_count": 9,
      "outputs": []
    },
    {
      "cell_type": "markdown",
      "source": [
        "After running this code, we've created two important projection datasets:\n",
        "\n",
        "1. **Quarterly Projections**:\n",
        "   - We've projected budgets for the next three quarters.\n",
        "   - These projections are based on the average quarterly budget from our historical data.\n",
        "   - This allows for short-term planning and helps account for seasonal variations in educational expenses.\n",
        "\n",
        "2. **Yearly Projections**:\n",
        "   - We've created budget projections for the next two years.\n",
        "   - These are based on the average yearly budget from our historical data.\n",
        "   - This provides a longer-term view for strategic financial planning.\n",
        "\n",
        "These projections offer several benefits for educational financial management:\n",
        "\n",
        "- **Informed Decision Making**: By having estimates of future budgets, administrators can make more informed decisions about resource allocation.\n",
        "- **Financial Planning**: These projections serve as a starting point for creating detailed financial plans for upcoming academic periods.\n",
        "- **Trend Analysis**: By comparing actual future expenses to these projections, institutions can identify emerging trends or changes in spending patterns.\n",
        "- **Budget Adjustment**: If actual expenses consistently differ from projections, it may indicate a need to reassess budgeting strategies.\n",
        "\n",
        "It's important to note that these projections are based on historical averages and assume a degree of consistency in future expenses. In practice, these projections should be regularly updated and adjusted based on new data and changing circumstances.\n",
        "\n",
        "In the next section, we'll visualize these projections alongside our historical data to provide a comprehensive view of past expenses and future budget estimates.\n",
        "\n",
        "## Visualizing Historical and Projected Budgets\n",
        "\n",
        "After creating our budget projections, it's crucial to visualize this data alongside our historical budget information. This visualization will help us understand trends, compare past and projected budgets, and identify any significant changes or patterns.\n",
        "\n",
        "In this section, we will:\n",
        "\n",
        "1. **Combine Actual and Projected Budgets**: We'll merge our historical budget data with our projections for both quarterly and yearly budgets.\n",
        "\n",
        "2. **Create a Quarterly Budget Plot**: We'll visualize the quarterly budgets over time, including both historical and projected data.\n",
        "\n",
        "3. **Create a Yearly Budget Plot**: We'll create a similar visualization for yearly budgets.\n",
        "\n",
        "4. **Add Reference Lines**: We'll include lines to indicate the current quarter and year, helping to distinguish between historical and projected data.\n",
        "\n",
        "5. **Enhance Plot Readability**: We'll add titles, labels, and legends to make our plots easy to understand.\n",
        "\n",
        "These visualizations will provide a clear and intuitive representation of our budget data, making it easier to identify trends, patterns, and potential areas of concern.\n",
        "\n",
        "Let's look at the code to create these visualizations:"
      ],
      "metadata": {
        "id": "_qA3IUvjhSUj"
      }
    },
    {
      "cell_type": "code",
      "source": [
        "import matplotlib.pyplot as plt\n",
        "\n",
        "# Combine actual and projected budgets\n",
        "combined_quarterly_budget = pd.concat([quarterly_budget, projection_quarterly_df]).reset_index(drop=True)\n",
        "combined_yearly_budget = pd.concat([yearly_budget, projection_yearly_df]).reset_index(drop=True)\n",
        "\n",
        "# Plot the quarterly budget\n",
        "plt.figure(figsize=(14, 7))\n",
        "plt.plot(combined_quarterly_budget['quarter'].astype(str), combined_quarterly_budget['amount'], marker='o', linestyle='-', color='b', label='Quarterly Budget')\n",
        "plt.axvline(x=str(current_quarter), color='r', linestyle='--', label='Current Quarter')\n",
        "plt.title('Financial Budget - Quarterly')\n",
        "plt.xlabel('Quarter')\n",
        "plt.ylabel('Amount ($)')\n",
        "plt.xticks(rotation=45)\n",
        "plt.legend()\n",
        "plt.grid(True)\n",
        "plt.show()\n",
        "\n",
        "# Plot the yearly budget\n",
        "plt.figure(figsize=(14, 7))\n",
        "plt.plot(combined_yearly_budget['year'].astype(str), combined_yearly_budget['amount'], marker='o', linestyle='-', color='g', label='Yearly Budget')\n",
        "plt.axvline(x=current_year, color='r', linestyle='--', label='Current Year')\n",
        "plt.title('Financial Budget - Yearly')\n",
        "plt.xlabel('Year')\n",
        "plt.ylabel('Amount ($)')\n",
        "plt.legend()\n",
        "plt.grid(True)\n",
        "plt.show()\n"
      ],
      "metadata": {
        "colab": {
          "base_uri": "https://localhost:8080/",
          "height": 822
        },
        "id": "0t0YnRYfhTFZ",
        "outputId": "c0f675f2-8056-4523-9e81-cfb6f843eea8"
      },
      "execution_count": 10,
      "outputs": [
        {
          "output_type": "display_data",
          "data": {
            "text/plain": [
              "<Figure size 1400x700 with 1 Axes>"
            ],
            "image/png": "[encoded data removed]"
          },
          "metadata": {}
        },
        {
          "output_type": "display_data",
          "data": {
            "text/plain": [
              "<Figure size 1400x700 with 1 Axes>"
            ],
            "image/png": "[encoded data removed]"
          },
          "metadata": {}
        }
      ]
    },
    {
      "cell_type": "markdown",
      "source": [
        "After running this code, we've created two important visualizations:\n",
        "\n",
        "1. **Quarterly Budget Plot**:\n",
        "   - This plot shows the budget amounts for each quarter, including both historical data and projections.\n",
        "   - The blue line represents the budget amounts over time.\n",
        "   - The red dashed line indicates the current quarter, separating historical data from projections.\n",
        "   - This visualization allows us to see seasonal patterns and trends in quarterly budgets.\n",
        "\n",
        "2. **Yearly Budget Plot**:\n",
        "   - This plot displays the yearly budget amounts, including historical data and future projections.\n",
        "   - The green line represents the budget amounts for each year.\n",
        "   - The red dashed line marks the current year, distinguishing past data from future projections.\n",
        "   - This visualization provides a broader view of long-term budget trends.\n",
        "\n",
        "These visualizations offer several benefits for educational financial management:\n",
        "\n",
        "- **Trend Identification**: We can easily spot upward or downward trends in budgets over time.\n",
        "- **Seasonal Patterns**: The quarterly plot may reveal recurring patterns related to the academic calendar.\n",
        "- **Projection Comparison**: We can visually compare our projections with historical trends to assess their reasonableness.\n",
        "- **Budget Planning**: These visualizations can inform budget planning discussions and help in setting realistic financial goals.\n",
        "- **Stakeholder Communication**: These clear, visual representations of budget data can be powerful tools for communicating financial information to stakeholders.\n",
        "\n",
        "It's important to note that while these visualizations provide valuable insights, they should be interpreted in conjunction with other relevant information, such as changes in student enrollment, new programs, or external economic factors.\n",
        "\n",
        "In the next section, we'll discuss how to use these visualizations and the underlying blockchain data to make informed financial decisions for the educational institution.\n",
        "\n",
        "## Retrieving and Ordering Blockchain Data\n",
        "\n",
        "In this section, we'll retrieve our blockchain data from Delta Lake and order it chronologically. This step is crucial for maintaining the integrity of our blockchain and preparing the data for further analysis.\n",
        "\n",
        "Here's what we're doing:\n",
        "\n",
        "1. **Read the Blockchain Data**:\n",
        "   We use Spark to read our blockchain data from the Delta Lake table. Delta Lake ensures that we're working with the most up-to-date and consistent version of our data.\n",
        "\n",
        "2. **Order the Data**:\n",
        "   We sort the blockchain by the 'index' field. This step is vital because:\n",
        "   - It maintains the chronological order of transactions, which is a fundamental property of blockchains.\n",
        "   - It allows us to easily track the sequence of transactions and verify the chain's integrity.\n",
        "   - It prepares the data for time-based analyses and visualizations.\n",
        "\n",
        "By organizing our data this way, we're setting the stage for more complex analyses and ensuring that we're working with a properly structured blockchain.\n",
        "\n",
        "Let's look at the code to accomplish this:\n",
        "\n",
        "### Principle Used to Detect Anomaly\n",
        "\n",
        "In the context of this example, anomaly detection is based on statistical methods, specifically the Z-score method. The Z-score measures how many standard deviations a data point is from the mean of the data set. Here’s a breakdown of the process:\n",
        "\n",
        "1. **Calculate Mean and Standard Deviation**: Determine the average transaction amount and the standard deviation of the transaction amounts.\n",
        "2. **Compute Z-Score**: For each transaction, calculate the Z-score using the formula:\n",
        "\n",
        "  ![Z-score Equation](https://www.gstatic.com/education/formulas2/553212783/en/z_score.svg)\n",
        "\n",
        "where \\(X\\) is the transaction amount, (μ) is the mean transaction amount, and (σ) is the standard deviation.\n",
        "\n",
        "3. **Identify Anomalies**: Transactions with a Z-score greater than 3 or less than -3 are considered anomalies. This threshold is based on the empirical rule (68-95-99.7 rule), where nearly all data points lie within three standard deviations of the mean in a normal distribution.\n",
        "\n",
        "\n",
        "\n"
      ],
      "metadata": {
        "id": "CeKf5Uv-SRqD"
      }
    },
    {
      "cell_type": "markdown",
      "source": [],
      "metadata": {
        "id": "7fkUCCaVqRY0"
      }
    },
    {
      "cell_type": "code",
      "source": [
        "# Read the blockchain ordered by index\n",
        "blockchain_df = spark.read.format(\"delta\").load(\"/tmp/delta/blockchain\")\n",
        "ordered_blockchain_df = blockchain_df.orderBy(\"index\")\n"
      ],
      "metadata": {
        "id": "nz6wE3xbSVh6"
      },
      "execution_count": 11,
      "outputs": []
    },
    {
      "cell_type": "markdown",
      "source": [
        "After running this code, we've accomplished two important tasks:\n",
        "\n",
        "1. **Data Retrieval**:\n",
        "   - We've successfully read the entire blockchain from our Delta Lake storage.\n",
        "   - This ensures we're working with the complete and most current version of our blockchain.\n",
        "\n",
        "2. **Chronological Ordering**:\n",
        "   - By ordering the data by the 'index' field, we've maintained the crucial chronological structure of the blockchain.\n",
        "   - This ordered structure allows us to:\n",
        "     - Easily verify the sequence of transactions\n",
        "     - Perform time-based analyses\n",
        "     - Visualize the blockchain's growth over time\n",
        "\n",
        "This ordered DataFrame (`ordered_blockchain_df`) is now ready for further processing and analysis. In the upcoming sections, we'll use this structured data to:\n",
        "\n",
        "- Verify the integrity of our blockchain\n",
        "- Analyze trends in educational spending\n",
        "- Create visualizations of transaction patterns\n",
        "- Derive insights to inform financial decision-making in educational contexts\n",
        "\n",
        "By starting with this well-structured data, we're ensuring that all our subsequent analyses are based on a solid and chronologically accurate representation of our blockchain.\n",
        "\n"
      ],
      "metadata": {
        "id": "3fZsmiGn4TGk"
      }
    },
    {
      "cell_type": "markdown",
      "source": [
        "## Verifying Blockchain Integrity\n",
        "\n",
        "In this section, we'll implement a crucial function to verify the integrity of our blockchain. This process is essential to ensure that our blockchain hasn't been tampered with and that each block correctly references the previous one.\n",
        "\n",
        "Here's what our verification process does:\n",
        "\n",
        "1. **Hash Calculation**:\n",
        "   We recalculate the hash for each block using its contents. This allows us to check if the stored hash matches the calculated one.\n",
        "\n",
        "2. **Previous Hash Verification**:\n",
        "   We compare the 'previous_hash' of each block with the actual hash of the preceding block.\n",
        "\n",
        "3. **Integrity Check**:\n",
        "   We flag any discrepancies in either the calculated hash or the previous hash reference.\n",
        "\n",
        "This verification process is crucial because:\n",
        "- It ensures the immutability of our blockchain.\n",
        "- It detects any unauthorized changes to historical data.\n",
        "- It maintains the trustworthiness of our educational finance records.\n",
        "\n",
        "Let's examine the code that performs this verification:"
      ],
      "metadata": {
        "id": "9pkvUArn46Kf"
      }
    },
    {
      "cell_type": "code",
      "source": [
        "from pyspark.sql import functions as F\n",
        "from pyspark.sql import SparkSession, Window\n",
        "\n",
        "def verify_blockchain(df):\n",
        "    # Create a window specification to access the previous row's hash\n",
        "    window_spec = Window.orderBy(\"index\")\n",
        "\n",
        "    # Calculate the hash of each row\n",
        "    df = df.withColumn(\n",
        "        \"calculated_hash\",\n",
        "        sha2(\n",
        "            concat_ws(\n",
        "                \"||\",\n",
        "                col(\"index\"),\n",
        "                col(\"timestamp\"),\n",
        "                col(\"transactions\"),\n",
        "                col(\"amount\"),\n",
        "                col(\"previous_hash\"),\n",
        "                col(\"added_by\"),\n",
        "                col(\"category\"),\n",
        "                col(\"description\")\n",
        "            ),\n",
        "            256\n",
        "        )\n",
        "    )\n",
        "\n",
        "    # Check for integrity issues by comparing the previous hash and calculated hash\n",
        "    df = df.withColumn(\n",
        "        \"previous_hash_check\",\n",
        "        F.lag(\"hash\").over(window_spec)\n",
        "    ).withColumn(\n",
        "        \"integrity_issue\",\n",
        "        (F.col(\"previous_hash\") != F.col(\"previous_hash_check\")) | (F.col(\"hash\") != F.col(\"calculated_hash\"))\n",
        "    )\n",
        "\n",
        "    # Filter rows with integrity issues\n",
        "    integrity_issues = df.filter(F.col(\"integrity_issue\"))\n",
        "\n",
        "    return integrity_issues\n",
        "\n",
        "integrity_issues_df = verify_blockchain(ordered_blockchain_df)\n",
        "integrity_issues_df.show(truncate=False)\n",
        "\n",
        "if integrity_issues_df.count() > 0:\n",
        "    print(\"Integrity issues found.\")\n",
        "else:\n",
        "    print(\"No integrity issues found.\")\n"
      ],
      "metadata": {
        "colab": {
          "base_uri": "https://localhost:8080/"
        },
        "id": "YMXeNG2oh8yS",
        "outputId": "9adb36cf-25b0-46d4-cfda-f0b8788bcf5a"
      },
      "execution_count": 12,
      "outputs": [
        {
          "output_type": "stream",
          "name": "stdout",
          "text": [
            "+-----+---------+------------+------+-------------+--------+--------+-----------+----+---------------+-------------------+---------------+\n",
            "|index|timestamp|transactions|amount|previous_hash|added_by|category|description|hash|calculated_hash|previous_hash_check|integrity_issue|\n",
            "+-----+---------+------------+------+-------------+--------+--------+-----------+----+---------------+-------------------+---------------+\n",
            "+-----+---------+------------+------+-------------+--------+--------+-----------+----+---------------+-------------------+---------------+\n",
            "\n",
            "No integrity issues found.\n"
          ]
        }
      ]
    },
    {
      "cell_type": "markdown",
      "source": [
        "After running this code, we've performed a comprehensive integrity check on our blockchain. Here's what we've accomplished:\n",
        "\n",
        "1. **Hash Recalculation**:\n",
        "   We've recalculated the hash for each block based on its contents. This allows us to verify that the stored hash matches the calculated one, ensuring no block's content has been altered.\n",
        "\n",
        "2. **Chain Continuity Check**:\n",
        "   We've verified that each block correctly references the hash of the previous block, maintaining the crucial chain structure of our blockchain.\n",
        "\n",
        "3. **Integrity Issue Detection**:\n",
        "   We've identified any blocks where either the calculated hash doesn't match the stored hash, or the previous hash reference is incorrect.\n",
        "\n",
        "4. **Results Display**:\n",
        "   We've displayed any integrity issues found and printed a summary of the verification results.\n",
        "\n",
        "The outcome of this verification process is critical:\n",
        "\n",
        "- If no integrity issues are found, it confirms that our blockchain is intact and trustworthy.\n",
        "- If any issues are detected, it alerts us to potential data tampering or corruption, allowing us to investigate and address the problem.\n",
        "\n",
        "This integrity check is a fundamental aspect of blockchain technology, ensuring the reliability and trustworthiness of our educational finance records. Regular performance of this verification process is crucial to maintain the integrity of our blockchain-based financial system.\n",
        "\n",
        "In the next section, we'll explore how to use this verified blockchain data for in-depth analysis of educational spending patterns and trends."
      ],
      "metadata": {
        "id": "8XZ_42er5AFd"
      }
    },
    {
      "cell_type": "markdown",
      "source": [
        " # Visualize the anomalies"
      ],
      "metadata": {
        "id": "WKoS5FMcSa4m"
      }
    },
    {
      "cell_type": "markdown",
      "source": [
        "We simulate adding some fraudulent data to the blockchain that contains higher than usual amounts. We'll then use anomaly detection to identify the suspicious transactions and project the correct data for Q2 and Q3."
      ],
      "metadata": {
        "id": "LLohbDjQSgf9"
      }
    },
    {
      "cell_type": "markdown",
      "source": [
        "## Simulating Fraudulent Transactions\n",
        "\n",
        "In this section, we'll simulate an attempt to introduce fraudulent transactions into our blockchain. This exercise is crucial for several reasons:\n",
        "\n",
        "1. **Testing System Vulnerabilities**: It allows us to test how our system handles suspicious transactions.\n",
        "2. **Demonstrating Security Importance**: It highlights the need for robust security measures in blockchain systems.\n",
        "3. **Educational Purpose**: It provides a practical example of potential threats in blockchain-based financial systems.\n",
        "\n",
        "Here's what the code does:\n",
        "\n",
        "1. **Define Fraudulent Transactions**:\n",
        "   We create a list of sample fraudulent transactions. These are designed to be clearly suspicious, with:\n",
        "   - Unusually high amounts\n",
        "   - Inconsistent descriptions\n",
        "   - An unfamiliar user (\"Bad Actor\") adding the transactions\n",
        "\n",
        "2. **Use the API to Add Transactions**:\n",
        "   We use the same API endpoint that's used for legitimate transactions. This simulates a scenario where an attacker has gained access to the transaction submission system.\n",
        "\n",
        "3. **Print API Responses**:\n",
        "   We display the responses from the API to see if the transactions were accepted or rejected.\n",
        "\n",
        "It's important to note that in a real-world scenario, we would never actually run code to add fraudulent transactions. This is purely for educational purposes to demonstrate how blockchain systems can be vulnerable if proper security measures are not in place.\n",
        "\n",
        "Let's examine the code:"
      ],
      "metadata": {
        "id": "GEEWdWJo6Dac"
      }
    },
    {
      "cell_type": "code",
      "source": [
        "import requests\n",
        "\n",
        "# API URL\n",
        "api_url = \"http://localhost:5001/add_block\"\n",
        "\n",
        "# Sample fraudulent transactions\n",
        "fraudulent_transactions = [\n",
        "    {\"transactions\": \"Fee payment for John Doe of class 9\", \"amount\": 150000.0, \"added_by\": \"Bad Actor\", \"category\": \"extracurricular\", \"description\": \"Fee for after-school program for Sawaira Sajjad\"},\n",
        "    {\"transactions\": \"Late-night-entertainment program\", \"amount\": 50000.0, \"added_by\": \"Bad Actor\", \"category\": \"extracurricular\", \"description\": \"Fee for after-school program for Malaika Khan\"}\n",
        "]\n",
        "\n",
        "# Add fraudulent transactions using the API\n",
        "for transaction in fraudulent_transactions:\n",
        "    response = requests.post(api_url, json=transaction)\n",
        "    print(response.json())\n"
      ],
      "metadata": {
        "colab": {
          "base_uri": "https://localhost:8080/"
        },
        "id": "SmUo-JZ7Sidk",
        "outputId": "9eb1fff8-aaad-4ae9-9e8f-c1e60a357b11"
      },
      "execution_count": 13,
      "outputs": [
        {
          "output_type": "stream",
          "name": "stderr",
          "text": [
            "INFO:werkzeug:127.0.0.1 - - [07/Jul/2024 01:24:58] \"\u001b[35m\u001b[1mPOST /add_block HTTP/1.1\u001b[0m\" 201 -\n"
          ]
        },
        {
          "output_type": "stream",
          "name": "stdout",
          "text": [
            "{'message': 'Block added successfully'}\n"
          ]
        },
        {
          "output_type": "stream",
          "name": "stderr",
          "text": [
            "INFO:werkzeug:127.0.0.1 - - [07/Jul/2024 01:25:07] \"\u001b[35m\u001b[1mPOST /add_block HTTP/1.1\u001b[0m\" 201 -\n"
          ]
        },
        {
          "output_type": "stream",
          "name": "stdout",
          "text": [
            "{'message': 'Block added successfully'}\n"
          ]
        }
      ]
    },
    {
      "cell_type": "markdown",
      "source": [
        "After running this code, we've simulated an attempt to add fraudulent transactions to our blockchain. Here are the key points to consider:\n",
        "\n",
        "1. **System Response**:\n",
        "   - If the API returns success messages, it indicates that our current system accepted these suspicious transactions. This highlights a potential vulnerability.\n",
        "   - If the transactions were rejected, it suggests that some level of transaction validation is in place.\n",
        "\n",
        "2. **Characteristics of the Fraudulent Transactions**:\n",
        "   - Extremely high amounts (150,000 and 50,000) that are unusual for typical educational transactions\n",
        "   - Suspicious descriptions (e.g., \"Late-night-entertainment program\")\n",
        "   - Inconsistent categorization (using \"extracurricular\" for what appears to be a fee payment)\n",
        "   - Transactions added by an unfamiliar entity (\"Bad Actor\")\n",
        "\n",
        "3. **Implications and Next Steps**:\n",
        "   - This exercise demonstrates the importance of implementing robust validation and approval processes before adding transactions to the blockchain.\n",
        "   - It suggests the need for additional security measures such as:\n",
        "     - Transaction amount limits\n",
        "     - Whitelisting of approved users for transaction submission\n",
        "     - AI-based anomaly detection systems\n",
        "     - Multi-signature approval for large transactions\n",
        "   - We should now run our blockchain verification process to see if it can detect these anomalies.\n",
        "\n",
        "4. **Learning Opportunity**:\n",
        "   - This simulation provides a tangible example of how blockchain systems can be vulnerable to fraud if proper safeguards are not in place.\n",
        "   - It emphasizes the need for continuous monitoring and improvement of security measures in blockchain-based financial systems.\n",
        "\n",
        "In the next section, we'll run our integrity check again and discuss strategies for preventing and detecting such fraudulent activities in real-world applications of blockchain in educational finance management to detect anomalies, and visualize the results.\n",
        "\n",
        "## Detecting and Analyzing Anomalies in Blockchain Transactions\n",
        "\n",
        "In this section, we'll implement an anomaly detection system for our blockchain transactions. This is a crucial step in identifying potential fraudulent activities or unusual patterns in our educational finance data.\n",
        "\n",
        "Here's what our code will do:\n",
        "\n",
        "1. **Anomaly Detection using Z-score**:\n",
        "   - We'll calculate the Z-score for each transaction amount.\n",
        "   - Transactions with a Z-score greater than 3 or less than -3 (three standard deviations from the mean) will be flagged as anomalies.\n",
        "\n",
        "2. **Identifying Potential Anomalies**:\n",
        "   - Once we detect an anomaly, we'll identify all other transactions from the same `added_by` user.\n",
        "   - This helps us detect patterns of suspicious activity from specific users.\n",
        "\n",
        "3. **Summarizing Anomalies**:\n",
        "   - We'll print a summary of the count of anomalies and potential anomalies.\n",
        "   - We'll group these by `added_by`, month, and year of the transaction.\n",
        "\n",
        "4. **Detailed Anomaly Display**:\n",
        "   - We'll show detailed information about both the detected anomalies and potential anomalies.\n",
        "\n",
        "This process is important because:\n",
        "- It helps identify unusual transactions that might indicate fraud or errors.\n",
        "- It allows us to focus on specific users or time periods for further investigation.\n",
        "- It provides a systematic way to monitor and maintain the integrity of our blockchain-based financial system.\n",
        "\n",
        "Let's examine the code that performs this anomaly detection and analysis:\n"
      ],
      "metadata": {
        "id": "JbUbv-E2Sl1J"
      }
    },
    {
      "cell_type": "code",
      "source": [
        "\"\"\"\n",
        "Detect anomalies in the transactions using Z-score.\n",
        "Once a transaction by a bad actor is identified, print potential anomalies by identifying other transactions from the same `added_by`.\n",
        "Also, print a summary of the count of anomalies and potential anomalies, grouped by `added_by` within the month and year of the transaction.\n",
        "\"\"\"\n",
        "\n",
        "# Detect anomalies in the transactions\n",
        "def detect_anomalies(df):\n",
        "    # Calculate mean and standard deviation of the amount column\n",
        "    stats = df.select(\n",
        "        F.mean(\"amount\").alias(\"mean_amount\"),\n",
        "        F.stddev(\"amount\").alias(\"std_amount\")\n",
        "    ).collect()[0]\n",
        "\n",
        "    mean_amount = stats[\"mean_amount\"]\n",
        "    std_amount = stats[\"std_amount\"]\n",
        "\n",
        "    # Calculate Z-score for each transaction\n",
        "    df = df.withColumn(\n",
        "        \"z_score\",\n",
        "        (F.col(\"amount\") - mean_amount) / std_amount\n",
        "    )\n",
        "\n",
        "    # Filter rows where Z-score is greater than 3 or less than -3\n",
        "    anomalies = df.filter((F.col(\"z_score\") > 3) | (F.col(\"z_score\") < -3))\n",
        "\n",
        "    return anomalies\n",
        "\n",
        "# Call the function to detect anomalies\n",
        "anomalies_df = detect_anomalies(ordered_blockchain_df)\n",
        "\n",
        "# Check if any anomalies were detected\n",
        "if anomalies_df.count() > 0:\n",
        "    print(\"Anomalies detected.\")\n",
        "    # Identify other transactions from the same `added_by` as the anomalies\n",
        "    bad_actor_ids = anomalies_df.select(\"added_by\").distinct()\n",
        "    potential_anomalies_df = ordered_blockchain_df.join(bad_actor_ids, on=\"added_by\", how=\"inner\").orderBy(\"index\")\n",
        "\n",
        "    # Print summary\n",
        "    anomaly_count = anomalies_df.count()\n",
        "    potential_anomaly_count = potential_anomalies_df.count()\n",
        "\n",
        "    print(f\"Count of anomalies: {anomaly_count}\")\n",
        "    print(f\"Count of potential anomalies: {potential_anomaly_count}\")\n",
        "\n",
        "    # Group by `added_by` and show count within month and year of transaction\n",
        "    summary_df = potential_anomalies_df.withColumn(\"month\", F.month(\"timestamp\")).withColumn(\"year\", F.year(\"timestamp\")) \\\n",
        "                                       .groupBy(\"added_by\", \"month\", \"year\") \\\n",
        "                                       .agg(F.count(\"amount\").alias(\"count\"))\n",
        "\n",
        "    print(f\"Summary of anomalies\")\n",
        "    summary_df.show(truncate=False)\n",
        "\n",
        "    print(f\"anomalies: Total {anomalies_df.count()}\")\n",
        "    anomalies_df.show(truncate=False)\n",
        "\n",
        "    # Show potential anomalies\n",
        "    print(f\"Potential anomalies: Total {potential_anomalies_df.count()}\")\n",
        "    potential_anomalies_df.show(truncate=False)\n",
        "\n",
        "\n",
        "else:\n",
        "    print(\"No anomalies detected.\")\n"
      ],
      "metadata": {
        "colab": {
          "base_uri": "https://localhost:8080/"
        },
        "id": "fEcpD76eSmzK",
        "outputId": "a63100ef-2b01-4ee7-c2dd-55d2c790fdb3"
      },
      "execution_count": 14,
      "outputs": [
        {
          "output_type": "stream",
          "name": "stdout",
          "text": [
            "Anomalies detected.\n",
            "Count of anomalies: 1\n",
            "Count of potential anomalies: 2\n",
            "Summary of anomalies\n",
            "+---------+-----+----+-----+\n",
            "|added_by |month|year|count|\n",
            "+---------+-----+----+-----+\n",
            "|Bad Actor|7    |2024|2    |\n",
            "+---------+-----+----+-----+\n",
            "\n",
            "anomalies: Total 1\n",
            "+-----+--------------------------+-----------------------------------+--------+----------------------------------------------------------------+---------+---------------+-----------------------------------------------+----------------------------------------------------------------+----------------+\n",
            "|index|timestamp                 |transactions                       |amount  |previous_hash                                                   |added_by |category       |description                                    |hash                                                            |z_score         |\n",
            "+-----+--------------------------+-----------------------------------+--------+----------------------------------------------------------------+---------+---------------+-----------------------------------------------+----------------------------------------------------------------+----------------+\n",
            "|15   |2024-07-07T01:24:55.159416|Fee payment for John Doe of class 9|150000.0|37c247089030e889467b079f250d567462e6b27309b0b5f5b9b103b7946477b5|Bad Actor|extracurricular|Fee for after-school program for Sawaira Sajjad|8aea3d848f89c6903353b95f494f4109305d4eaf2b6e12fdc130403e5e4a9b63|3.68735545546519|\n",
            "+-----+--------------------------+-----------------------------------+--------+----------------------------------------------------------------+---------+---------------+-----------------------------------------------+----------------------------------------------------------------+----------------+\n",
            "\n",
            "Potential anomalies: Total 2\n",
            "+---------+-----+--------------------------+-----------------------------------+--------+----------------------------------------------------------------+---------------+-----------------------------------------------+----------------------------------------------------------------+\n",
            "|added_by |index|timestamp                 |transactions                       |amount  |previous_hash                                                   |category       |description                                    |hash                                                            |\n",
            "+---------+-----+--------------------------+-----------------------------------+--------+----------------------------------------------------------------+---------------+-----------------------------------------------+----------------------------------------------------------------+\n",
            "|Bad Actor|15   |2024-07-07T01:24:55.159416|Fee payment for John Doe of class 9|150000.0|37c247089030e889467b079f250d567462e6b27309b0b5f5b9b103b7946477b5|extracurricular|Fee for after-school program for Sawaira Sajjad|8aea3d848f89c6903353b95f494f4109305d4eaf2b6e12fdc130403e5e4a9b63|\n",
            "|Bad Actor|16   |2024-07-07T01:25:05.658931|Late-night-entertainment program   |50000.0 |8aea3d848f89c6903353b95f494f4109305d4eaf2b6e12fdc130403e5e4a9b63|extracurricular|Fee for after-school program for Malaika Khan  |7f141c3ec8f8ac751491f07ed5f628c7c301be42af7700ef27d4f683fcaf269e|\n",
            "+---------+-----+--------------------------+-----------------------------------+--------+----------------------------------------------------------------+---------------+-----------------------------------------------+----------------------------------------------------------------+\n",
            "\n"
          ]
        }
      ]
    },
    {
      "cell_type": "markdown",
      "source": [
        "After running the above code, we've performed a comprehensive anomaly detection and analysis on our blockchain transactions. Here's what we accomplished and learned:\n",
        "\n",
        "1. **Anomaly Detection**:\n",
        "   - We used the Z-score method to identify transactions that significantly deviate from the norm.\n",
        "   - This statistical approach helps us spot unusual transaction amounts that might indicate fraud or errors.\n",
        "\n",
        "2. **Potential Anomaly Identification**:\n",
        "   - By flagging all transactions from users associated with anomalies, we've cast a wider net to catch potentially suspicious activities.\n",
        "   - This approach helps identify patterns of behavior rather than just isolated incidents.\n",
        "\n",
        "3. **Summary Statistics**:\n",
        "   - We now have a clear count of both direct anomalies and potential anomalies.\n",
        "   - The grouping by user, month, and year helps us understand the temporal and user-specific patterns of these anomalies.\n",
        "\n",
        "4. **Detailed Display**:\n",
        "   - By showing the full details of anomalous and potentially anomalous transactions, we've provided rich context for further investigation.\n",
        "\n",
        "Key Takeaways:\n",
        "- If anomalies were detected, it suggests that our blockchain contains transactions that deviate significantly from the norm. This could indicate fraudulent activity, data entry errors, or legitimate but unusual transactions.\n",
        "- If no anomalies were detected, it might mean our transactions are consistent, or it could suggest that our threshold for anomalies (3 standard deviations) might need adjustment.\n",
        "- The presence of potential anomalies from the same users as anomalous transactions helps us identify patterns of suspicious behavior.\n",
        "\n",
        "Next Steps:\n",
        "1. Investigate the flagged transactions in detail to determine if they are truly fraudulent or just unusual but legitimate.\n",
        "2. Consider implementing real-time anomaly detection to flag suspicious transactions before they're added to the blockchain.\n",
        "3. Use this analysis to refine our transaction approval processes and potentially implement additional security measures.\n",
        "\n",
        "This anomaly detection system demonstrates how we can use data analysis techniques to enhance the security and integrity of our blockchain-based educational finance system."
      ],
      "metadata": {
        "id": "D0EMljHMxcpw"
      }
    },
    {
      "cell_type": "markdown",
      "source": [
        "\n",
        "# How Blockchain Helped\n",
        "\n",
        "The blockchain’s inherent properties enhance the anomaly detection process:\n",
        "\n",
        "- **Immutability**: Once a transaction is recorded in a blockchain, it cannot be altered or deleted. This ensures the integrity and reliability of the transaction history, making it easier to trust the data used for anomaly detection.\n",
        "- **Transparency**: Every transaction is recorded in a public or permissioned ledger, which allows for complete transparency. This makes it easier to audit transactions and spot any suspicious activity.\n",
        "- **Traceability**: Blockchain records the entire history of transactions, which helps in tracking and verifying the origin and flow of transactions.\n",
        "\n",
        "# Delta Lake vs. Ethereum-Based Blockchain\n",
        "\n",
        "## Delta Lake Blockchain\n",
        "\n",
        "**Pros**:\n",
        "\n",
        "- **Performance**: Delta Lake, built on top of Apache Spark, offers high performance for big data analytics and can handle large volumes of data efficiently.\n",
        "- **Cost-Effective**: Running Delta Lake on existing infrastructure (e.g., on-premises or cloud storage) can be more cost-effective than using a public blockchain network.\n",
        "- **Flexibility**: Delta Lake integrates well with various big data tools and frameworks, providing flexibility in data processing and analytics.\n",
        "- **Scalability**: Delta Lake can scale horizontally to handle increasing data loads, making it suitable for large datasets.\n",
        "\n",
        "**Cons**:\n",
        "\n",
        "- **Centralization**: Unlike public blockchains, Delta Lake is typically deployed in a centralized or semi-centralized environment, which may not provide the same level of decentralization and trustlessness.\n",
        "- **Security**: Being centralized or semi-centralized, it may be more susceptible to single points of failure or attacks compared to a decentralized blockchain.\n",
        "- **Limited Smart Contracts**: Delta Lake does not inherently support smart contracts, which limits its use cases compared to Ethereum.\n",
        "\n",
        "## Ethereum-Based Blockchain\n",
        "\n",
        "**Pros**:\n",
        "\n",
        "- **Decentralization**: Ethereum is a decentralized blockchain network, which means no single entity controls the network, enhancing security and trust.\n",
        "- **Smart Contracts**: Ethereum supports smart contracts, which are self-executing contracts with the terms of the agreement directly written into code. This enables complex, automated interactions between parties.\n",
        "- **Security**: Ethereum's consensus mechanisms (e.g., Proof of Stake) and decentralization enhance security against attacks.\n",
        "- **Transparency and Immutability**: Ethereum provides high transparency and immutability, which is critical for applications requiring trust and auditability.\n",
        "\n",
        "**Cons**:\n",
        "\n",
        "- **Cost**: Transactions on Ethereum require gas fees, which can be expensive, especially during network congestion.\n",
        "- **Performance**: Ethereum's transaction throughput is limited compared to traditional databases and big data systems, potentially leading to slower transaction times.\n",
        "- **Scalability**: Despite ongoing improvements, Ethereum faces scalability challenges, making it less suitable for applications requiring high transaction volumes.\n",
        "\n",
        "# Conclusion\n",
        "\n",
        "The choice between a Delta Lake-based blockchain and an Ethereum-based blockchain depends on the specific use case requirements. Delta Lake may be more suitable for applications focused on large-scale data analytics and cost-efficiency, while Ethereum provides robust decentralization, security, and smart contract capabilities for applications requiring high trust and automation."
      ],
      "metadata": {
        "id": "DaZ16Anhl1jc"
      }
    },
    {
      "cell_type": "code",
      "source": [],
      "metadata": {
        "id": "2E-Ok7n1kfGa"
      },
      "execution_count": 14,
      "outputs": []
    }
  ]
}