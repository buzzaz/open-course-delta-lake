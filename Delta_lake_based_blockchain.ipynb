{
  "nbformat": 4,
  "nbformat_minor": 0,
  "metadata": {
    "colab": {
      "provenance": [],
      "toc_visible": true,
      "authorship_tag": "ABX9TyNXT+/ffpPheirz7VM3bgsX",
      "include_colab_link": true
    },
    "kernelspec": {
      "name": "python3",
      "display_name": "Python 3"
    },
    "language_info": {
      "name": "python"
    },
    "widgets": {
      "application/vnd.jupyter.widget-state+json": {
        "a51cf2c9943b43a3a92c295116c0e000": {
          "model_module": "@jupyter-widgets/controls",
          "model_name": "TextModel",
          "model_module_version": "1.5.0",
          "state": {
            "_dom_classes": [],
            "_model_module": "@jupyter-widgets/controls",
            "_model_module_version": "1.5.0",
            "_model_name": "TextModel",
            "_view_count": null,
            "_view_module": "@jupyter-widgets/controls",
            "_view_module_version": "1.5.0",
            "_view_name": "TextView",
            "continuous_update": true,
            "description": "Transactions:",
            "description_tooltip": null,
            "disabled": false,
            "layout": "IPY_MODEL_15870c0c4df14b95bc87514a3fbff6fd",
            "placeholder": "Enter transaction description",
            "style": "IPY_MODEL_2fb60677563d4101aed41146b21a062e",
            "value": "Field Trip to Murree, Pakistan"
          }
        },
        "15870c0c4df14b95bc87514a3fbff6fd": {
          "model_module": "@jupyter-widgets/base",
          "model_name": "LayoutModel",
          "model_module_version": "1.2.0",
          "state": {
            "_model_module": "@jupyter-widgets/base",
            "_model_module_version": "1.2.0",
            "_model_name": "LayoutModel",
            "_view_count": null,
            "_view_module": "@jupyter-widgets/base",
            "_view_module_version": "1.2.0",
            "_view_name": "LayoutView",
            "align_content": null,
            "align_items": null,
            "align_self": null,
            "border": null,
            "bottom": null,
            "display": null,
            "flex": null,
            "flex_flow": null,
            "grid_area": null,
            "grid_auto_columns": null,
            "grid_auto_flow": null,
            "grid_auto_rows": null,
            "grid_column": null,
            "grid_gap": null,
            "grid_row": null,
            "grid_template_areas": null,
            "grid_template_columns": null,
            "grid_template_rows": null,
            "height": null,
            "justify_content": null,
            "justify_items": null,
            "left": null,
            "margin": null,
            "max_height": null,
            "max_width": null,
            "min_height": null,
            "min_width": null,
            "object_fit": null,
            "object_position": null,
            "order": null,
            "overflow": null,
            "overflow_x": null,
            "overflow_y": null,
            "padding": null,
            "right": null,
            "top": null,
            "visibility": null,
            "width": null
          }
        },
        "2fb60677563d4101aed41146b21a062e": {
          "model_module": "@jupyter-widgets/controls",
          "model_name": "DescriptionStyleModel",
          "model_module_version": "1.5.0",
          "state": {
            "_model_module": "@jupyter-widgets/controls",
            "_model_module_version": "1.5.0",
            "_model_name": "DescriptionStyleModel",
            "_view_count": null,
            "_view_module": "@jupyter-widgets/base",
            "_view_module_version": "1.2.0",
            "_view_name": "StyleView",
            "description_width": ""
          }
        },
        "eb7a95430de44cada981cad05e2b5c38": {
          "model_module": "@jupyter-widgets/controls",
          "model_name": "FloatTextModel",
          "model_module_version": "1.5.0",
          "state": {
            "_dom_classes": [],
            "_model_module": "@jupyter-widgets/controls",
            "_model_module_version": "1.5.0",
            "_model_name": "FloatTextModel",
            "_view_count": null,
            "_view_module": "@jupyter-widgets/controls",
            "_view_module_version": "1.5.0",
            "_view_name": "FloatTextView",
            "continuous_update": false,
            "description": "Amount:",
            "description_tooltip": null,
            "disabled": false,
            "layout": "IPY_MODEL_efa7d5d93ec24e7ba0a2f41f32ba9e6e",
            "step": null,
            "style": "IPY_MODEL_f06fea53b4554ab9abc69185153db8c0",
            "value": 300
          }
        },
        "efa7d5d93ec24e7ba0a2f41f32ba9e6e": {
          "model_module": "@jupyter-widgets/base",
          "model_name": "LayoutModel",
          "model_module_version": "1.2.0",
          "state": {
            "_model_module": "@jupyter-widgets/base",
            "_model_module_version": "1.2.0",
            "_model_name": "LayoutModel",
            "_view_count": null,
            "_view_module": "@jupyter-widgets/base",
            "_view_module_version": "1.2.0",
            "_view_name": "LayoutView",
            "align_content": null,
            "align_items": null,
            "align_self": null,
            "border": null,
            "bottom": null,
            "display": null,
            "flex": null,
            "flex_flow": null,
            "grid_area": null,
            "grid_auto_columns": null,
            "grid_auto_flow": null,
            "grid_auto_rows": null,
            "grid_column": null,
            "grid_gap": null,
            "grid_row": null,
            "grid_template_areas": null,
            "grid_template_columns": null,
            "grid_template_rows": null,
            "height": null,
            "justify_content": null,
            "justify_items": null,
            "left": null,
            "margin": null,
            "max_height": null,
            "max_width": null,
            "min_height": null,
            "min_width": null,
            "object_fit": null,
            "object_position": null,
            "order": null,
            "overflow": null,
            "overflow_x": null,
            "overflow_y": null,
            "padding": null,
            "right": null,
            "top": null,
            "visibility": null,
            "width": null
          }
        },
        "f06fea53b4554ab9abc69185153db8c0": {
          "model_module": "@jupyter-widgets/controls",
          "model_name": "DescriptionStyleModel",
          "model_module_version": "1.5.0",
          "state": {
            "_model_module": "@jupyter-widgets/controls",
            "_model_module_version": "1.5.0",
            "_model_name": "DescriptionStyleModel",
            "_view_count": null,
            "_view_module": "@jupyter-widgets/base",
            "_view_module_version": "1.2.0",
            "_view_name": "StyleView",
            "description_width": ""
          }
        },
        "9460d5a95908452db30ae0570eb55e9c": {
          "model_module": "@jupyter-widgets/controls",
          "model_name": "TextModel",
          "model_module_version": "1.5.0",
          "state": {
            "_dom_classes": [],
            "_model_module": "@jupyter-widgets/controls",
            "_model_module_version": "1.5.0",
            "_model_name": "TextModel",
            "_view_count": null,
            "_view_module": "@jupyter-widgets/controls",
            "_view_module_version": "1.5.0",
            "_view_name": "TextView",
            "continuous_update": true,
            "description": "Added By:",
            "description_tooltip": null,
            "disabled": false,
            "layout": "IPY_MODEL_3dcde0233bc1480eb3584796027480ae",
            "placeholder": "Enter your name",
            "style": "IPY_MODEL_1896422723cf4f73a283eef5dc057380",
            "value": "Ali Zaidi"
          }
        },
        "3dcde0233bc1480eb3584796027480ae": {
          "model_module": "@jupyter-widgets/base",
          "model_name": "LayoutModel",
          "model_module_version": "1.2.0",
          "state": {
            "_model_module": "@jupyter-widgets/base",
            "_model_module_version": "1.2.0",
            "_model_name": "LayoutModel",
            "_view_count": null,
            "_view_module": "@jupyter-widgets/base",
            "_view_module_version": "1.2.0",
            "_view_name": "LayoutView",
            "align_content": null,
            "align_items": null,
            "align_self": null,
            "border": null,
            "bottom": null,
            "display": null,
            "flex": null,
            "flex_flow": null,
            "grid_area": null,
            "grid_auto_columns": null,
            "grid_auto_flow": null,
            "grid_auto_rows": null,
            "grid_column": null,
            "grid_gap": null,
            "grid_row": null,
            "grid_template_areas": null,
            "grid_template_columns": null,
            "grid_template_rows": null,
            "height": null,
            "justify_content": null,
            "justify_items": null,
            "left": null,
            "margin": null,
            "max_height": null,
            "max_width": null,
            "min_height": null,
            "min_width": null,
            "object_fit": null,
            "object_position": null,
            "order": null,
            "overflow": null,
            "overflow_x": null,
            "overflow_y": null,
            "padding": null,
            "right": null,
            "top": null,
            "visibility": null,
            "width": null
          }
        },
        "1896422723cf4f73a283eef5dc057380": {
          "model_module": "@jupyter-widgets/controls",
          "model_name": "DescriptionStyleModel",
          "model_module_version": "1.5.0",
          "state": {
            "_model_module": "@jupyter-widgets/controls",
            "_model_module_version": "1.5.0",
            "_model_name": "DescriptionStyleModel",
            "_view_count": null,
            "_view_module": "@jupyter-widgets/base",
            "_view_module_version": "1.2.0",
            "_view_name": "StyleView",
            "description_width": ""
          }
        },
        "8996a332690f4e3bbb1c3bbdb5bc9d2c": {
          "model_module": "@jupyter-widgets/controls",
          "model_name": "DropdownModel",
          "model_module_version": "1.5.0",
          "state": {
            "_dom_classes": [],
            "_model_module": "@jupyter-widgets/controls",
            "_model_module_version": "1.5.0",
            "_model_name": "DropdownModel",
            "_options_labels": [
              "education",
              "books",
              "uniform",
              "extracurricular",
              "transportation",
              "admission",
              "other"
            ],
            "_view_count": null,
            "_view_module": "@jupyter-widgets/controls",
            "_view_module_version": "1.5.0",
            "_view_name": "DropdownView",
            "description": "Category:",
            "description_tooltip": null,
            "disabled": false,
            "index": 3,
            "layout": "IPY_MODEL_3b36f300f78b4af09e892b8e2b6a6ab1",
            "style": "IPY_MODEL_ae2006c3414f47faafa85f5853670894"
          }
        },
        "3b36f300f78b4af09e892b8e2b6a6ab1": {
          "model_module": "@jupyter-widgets/base",
          "model_name": "LayoutModel",
          "model_module_version": "1.2.0",
          "state": {
            "_model_module": "@jupyter-widgets/base",
            "_model_module_version": "1.2.0",
            "_model_name": "LayoutModel",
            "_view_count": null,
            "_view_module": "@jupyter-widgets/base",
            "_view_module_version": "1.2.0",
            "_view_name": "LayoutView",
            "align_content": null,
            "align_items": null,
            "align_self": null,
            "border": null,
            "bottom": null,
            "display": null,
            "flex": null,
            "flex_flow": null,
            "grid_area": null,
            "grid_auto_columns": null,
            "grid_auto_flow": null,
            "grid_auto_rows": null,
            "grid_column": null,
            "grid_gap": null,
            "grid_row": null,
            "grid_template_areas": null,
            "grid_template_columns": null,
            "grid_template_rows": null,
            "height": null,
            "justify_content": null,
            "justify_items": null,
            "left": null,
            "margin": null,
            "max_height": null,
            "max_width": null,
            "min_height": null,
            "min_width": null,
            "object_fit": null,
            "object_position": null,
            "order": null,
            "overflow": null,
            "overflow_x": null,
            "overflow_y": null,
            "padding": null,
            "right": null,
            "top": null,
            "visibility": null,
            "width": null
          }
        },
        "ae2006c3414f47faafa85f5853670894": {
          "model_module": "@jupyter-widgets/controls",
          "model_name": "DescriptionStyleModel",
          "model_module_version": "1.5.0",
          "state": {
            "_model_module": "@jupyter-widgets/controls",
            "_model_module_version": "1.5.0",
            "_model_name": "DescriptionStyleModel",
            "_view_count": null,
            "_view_module": "@jupyter-widgets/base",
            "_view_module_version": "1.2.0",
            "_view_name": "StyleView",
            "description_width": ""
          }
        },
        "2c8315ed43ce4e3bb9e72fa626b202f9": {
          "model_module": "@jupyter-widgets/controls",
          "model_name": "TextModel",
          "model_module_version": "1.5.0",
          "state": {
            "_dom_classes": [],
            "_model_module": "@jupyter-widgets/controls",
            "_model_module_version": "1.5.0",
            "_model_name": "TextModel",
            "_view_count": null,
            "_view_module": "@jupyter-widgets/controls",
            "_view_module_version": "1.5.0",
            "_view_name": "TextView",
            "continuous_update": true,
            "description": "Description:",
            "description_tooltip": null,
            "disabled": false,
            "layout": "IPY_MODEL_ae48040bbe9e42b7b7703af049431d1d",
            "placeholder": "Enter optional description",
            "style": "IPY_MODEL_11f33d3007a54af7b0eae66d30d3459c",
            "value": "30 students going from Lahore to Islamabad on to Murree Resort and back"
          }
        },
        "ae48040bbe9e42b7b7703af049431d1d": {
          "model_module": "@jupyter-widgets/base",
          "model_name": "LayoutModel",
          "model_module_version": "1.2.0",
          "state": {
            "_model_module": "@jupyter-widgets/base",
            "_model_module_version": "1.2.0",
            "_model_name": "LayoutModel",
            "_view_count": null,
            "_view_module": "@jupyter-widgets/base",
            "_view_module_version": "1.2.0",
            "_view_name": "LayoutView",
            "align_content": null,
            "align_items": null,
            "align_self": null,
            "border": null,
            "bottom": null,
            "display": null,
            "flex": null,
            "flex_flow": null,
            "grid_area": null,
            "grid_auto_columns": null,
            "grid_auto_flow": null,
            "grid_auto_rows": null,
            "grid_column": null,
            "grid_gap": null,
            "grid_row": null,
            "grid_template_areas": null,
            "grid_template_columns": null,
            "grid_template_rows": null,
            "height": null,
            "justify_content": null,
            "justify_items": null,
            "left": null,
            "margin": null,
            "max_height": null,
            "max_width": null,
            "min_height": null,
            "min_width": null,
            "object_fit": null,
            "object_position": null,
            "order": null,
            "overflow": null,
            "overflow_x": null,
            "overflow_y": null,
            "padding": null,
            "right": null,
            "top": null,
            "visibility": null,
            "width": null
          }
        },
        "11f33d3007a54af7b0eae66d30d3459c": {
          "model_module": "@jupyter-widgets/controls",
          "model_name": "DescriptionStyleModel",
          "model_module_version": "1.5.0",
          "state": {
            "_model_module": "@jupyter-widgets/controls",
            "_model_module_version": "1.5.0",
            "_model_name": "DescriptionStyleModel",
            "_view_count": null,
            "_view_module": "@jupyter-widgets/base",
            "_view_module_version": "1.2.0",
            "_view_name": "StyleView",
            "description_width": ""
          }
        },
        "5951a3f3b5234eab9088ae8c651b6edf": {
          "model_module": "@jupyter-widgets/controls",
          "model_name": "ButtonModel",
          "model_module_version": "1.5.0",
          "state": {
            "_dom_classes": [],
            "_model_module": "@jupyter-widgets/controls",
            "_model_module_version": "1.5.0",
            "_model_name": "ButtonModel",
            "_view_count": null,
            "_view_module": "@jupyter-widgets/controls",
            "_view_module_version": "1.5.0",
            "_view_name": "ButtonView",
            "button_style": "",
            "description": "Submit",
            "disabled": false,
            "icon": "",
            "layout": "IPY_MODEL_9451eb4e309e40d9b8b8043a13c75516",
            "style": "IPY_MODEL_ec1fde52d9c04ffdb5347881632b7253",
            "tooltip": ""
          }
        },
        "9451eb4e309e40d9b8b8043a13c75516": {
          "model_module": "@jupyter-widgets/base",
          "model_name": "LayoutModel",
          "model_module_version": "1.2.0",
          "state": {
            "_model_module": "@jupyter-widgets/base",
            "_model_module_version": "1.2.0",
            "_model_name": "LayoutModel",
            "_view_count": null,
            "_view_module": "@jupyter-widgets/base",
            "_view_module_version": "1.2.0",
            "_view_name": "LayoutView",
            "align_content": null,
            "align_items": null,
            "align_self": null,
            "border": null,
            "bottom": null,
            "display": null,
            "flex": null,
            "flex_flow": null,
            "grid_area": null,
            "grid_auto_columns": null,
            "grid_auto_flow": null,
            "grid_auto_rows": null,
            "grid_column": null,
            "grid_gap": null,
            "grid_row": null,
            "grid_template_areas": null,
            "grid_template_columns": null,
            "grid_template_rows": null,
            "height": null,
            "justify_content": null,
            "justify_items": null,
            "left": null,
            "margin": null,
            "max_height": null,
            "max_width": null,
            "min_height": null,
            "min_width": null,
            "object_fit": null,
            "object_position": null,
            "order": null,
            "overflow": null,
            "overflow_x": null,
            "overflow_y": null,
            "padding": null,
            "right": null,
            "top": null,
            "visibility": null,
            "width": null
          }
        },
        "ec1fde52d9c04ffdb5347881632b7253": {
          "model_module": "@jupyter-widgets/controls",
          "model_name": "ButtonStyleModel",
          "model_module_version": "1.5.0",
          "state": {
            "_model_module": "@jupyter-widgets/controls",
            "_model_module_version": "1.5.0",
            "_model_name": "ButtonStyleModel",
            "_view_count": null,
            "_view_module": "@jupyter-widgets/base",
            "_view_module_version": "1.2.0",
            "_view_name": "StyleView",
            "button_color": null,
            "font_weight": ""
          }
        }
      }
    }
  },
  "cells": [
    {
      "cell_type": "markdown",
      "metadata": {
        "id": "view-in-github",
        "colab_type": "text"
      },
      "source": [
        "<a href=\"https://colab.research.google.com/github/samas-it-services/open-course-delta-lake/blob/feature%2Fblockchain-via-delta-lake/Delta_lake_based_blockchain.ipynb\" target=\"_parent\"><img src=\"https://colab.research.google.com/assets/colab-badge.svg\" alt=\"Open In Colab\"/></a>"
      ]
    },
    {
      "cell_type": "markdown",
      "source": [
        "# Creating Blockchain using Delta Lake\n",
        "\n",
        "This notebook demonstrates the implementation of a blockchain to record financial transactions for a non-profit organization using Delta Lake and PySpark. The blockchain helps ensure data integrity, transparency, and traceability. We also explore anomaly detection to identify suspicious transactions, which may indicate financial fraud.\n",
        "\n",
        "This example uses PySpark and Delta Lake.\n"
      ],
      "metadata": {
        "id": "7pd75WhtS1v0"
      }
    },
    {
      "cell_type": "code",
      "execution_count": 1,
      "metadata": {
        "id": "2UGTkZBfMdKb"
      },
      "outputs": [],
      "source": [
        "#install required libraries\n",
        "!pip install -q pyspark\n",
        "!pip install -q delta-spark\n",
        "!pip install -q Flask\n",
        "!pip install -q nest_asyncio\n",
        "!pip install -q pandas"
      ]
    },
    {
      "cell_type": "markdown",
      "source": [],
      "metadata": {
        "id": "EXYqw4h-RDP-"
      }
    },
    {
      "cell_type": "code",
      "source": [
        "# Import required libraries\n",
        "from pyspark.sql import SparkSession\n",
        "from pyspark.sql.functions import sha2, concat_ws, col\n",
        "from delta import configure_spark_with_delta_pip\n",
        "from pyspark.sql.types import StructType, StructField, IntegerType, StringType, FloatType\n",
        "\n",
        "# Initialize Spark session with Delta Lake\n",
        "builder = SparkSession.builder \\\n",
        "    .appName(\"BlockchainWithDeltaLake\") \\\n",
        "    .config(\"spark.jars.packages\", \"io.delta:delta-core_2.12:1.1.0\") \\\n",
        "    .config(\"spark.sql.extensions\", \"io.delta.sql.DeltaSparkSessionExtension\") \\\n",
        "    .config(\"spark.sql.catalog.spark_catalog\", \"org.apache.spark.sql.delta.catalog.DeltaCatalog\")\n",
        "\n",
        "spark = configure_spark_with_delta_pip(builder).getOrCreate()\n",
        "\n",
        "# Define schema for the blockchain\n",
        "schema = StructType([\n",
        "    StructField(\"index\", IntegerType(), False),\n",
        "    StructField(\"timestamp\", StringType(), False),\n",
        "    StructField(\"transactions\", StringType(), False),\n",
        "    StructField(\"amount\", FloatType(), False),\n",
        "    StructField(\"previous_hash\", StringType(), False),\n",
        "    StructField(\"added_by\", StringType(), False),\n",
        "    StructField(\"category\", StringType(), False),\n",
        "    StructField(\"description\", StringType(), False)\n",
        "])\n",
        "\n",
        "\n",
        "# Define a function to create a genesis block\n",
        "def create_genesis_block():\n",
        "    data = [(0, \"\", \"\", 0.0, \"0\", \"genesis\", \"education\", \"Initial block\")]\n",
        "    return spark.createDataFrame(data, schema)\n",
        "\n",
        "# Define a function to create a new block\n",
        "def create_block(previous_block, transactions, amount, added_by, category, description):\n",
        "    new_index = previous_block.select(\"index\").collect()[-1][0] + 1\n",
        "    timestamp = spark.sql(\"SELECT current_timestamp()\").collect()[0][0].isoformat()\n",
        "    previous_hash = previous_block.select(\"hash\").collect()[-1][0]\n",
        "    block_data = [(new_index, timestamp, transactions, amount, previous_hash, added_by, category, description)]\n",
        "    return spark.createDataFrame(block_data, schema)\n",
        "\n",
        "# Define a function to calculate hash of a block\n",
        "def calculate_hash(block_df):\n",
        "    block_df = block_df.withColumn(\"hash\", sha2(concat_ws(\"||\", col(\"index\"), col(\"timestamp\"), col(\"transactions\"), col(\"amount\"), col(\"previous_hash\"), col(\"added_by\"), col(\"category\"), col(\"description\")), 256))\n",
        "    return block_df\n",
        "\n",
        "# Create genesis block\n",
        "genesis_block = create_genesis_block()\n",
        "genesis_block = calculate_hash(genesis_block)\n",
        "\n",
        "# Save genesis block to Delta Lake\n",
        "genesis_block.write.format(\"delta\").mode(\"overwrite\").save(\"/tmp/delta/blockchain\")\n",
        "\n",
        "# Sample financial transactions with realistic data\n",
        "transactions = [\n",
        "    {\"transactions\": \"Payment for school fees\", \"amount\": 5000.0, \"added_by\": \"Syed Bilgrami\", \"category\": \"education\", \"description\": \"Fee payment for Sawaira Sajjad of class 11\"},\n",
        "    {\"transactions\": \"Purchase of books and uniform\", \"amount\": 2000.0, \"added_by\": \"Syed Bilgrami\", \"category\": \"education\", \"description\": \"Books and uniform for Sawaira Sajjad of class 11\"},\n",
        "    {\"transactions\": \"Payment for admission fee\", \"amount\": 6000.0, \"added_by\": \"Syed Bilgrami\", \"category\": \"education\", \"description\": \"Admission fee for Malaika Khan of class 10\"},\n",
        "    {\"transactions\": \"Payment for school fees\", \"amount\": 7000.0, \"added_by\": \"Syed Bilgrami\", \"category\": \"education\", \"description\": \"Fee payment for Ali Khan of class 12 in medical\"},\n",
        "    {\"transactions\": \"Purchase of books\", \"amount\": 3000.0, \"added_by\": \"Syed Bilgrami\", \"category\": \"education\", \"description\": \"Books for Ali Khan of class 12 in medical\"},\n",
        "    {\"transactions\": \"Payment for school fees\", \"amount\": 4000.0, \"added_by\": \"Syed Bilgrami\", \"category\": \"education\", \"description\": \"Fee payment for Saiqa Khan of class 8\"},\n",
        "    {\"transactions\": \"Purchase of books and uniform\", \"amount\": 1500.0, \"added_by\": \"Syed Bilgrami\", \"category\": \"education\", \"description\": \"Books and uniform for Saiqa Khan of class 8\"},\n",
        "    {\"transactions\": \"Payment for school fees\", \"amount\": 4000.0, \"added_by\": \"Syed Bilgrami\", \"category\": \"education\", \"description\": \"Fee payment for Usman Sajjad of class 8\"},\n",
        "    {\"transactions\": \"Purchase of books and uniform\", \"amount\": 1500.0, \"added_by\": \"Syed Bilgrami\", \"category\": \"education\", \"description\": \"Books and uniform for Usman Sajjad of class 8\"}\n",
        "]\n",
        "\n",
        "# Create and add new blocks\n",
        "previous_block = genesis_block\n",
        "for txn in transactions:\n",
        "    new_block = create_block(previous_block, txn[\"transactions\"], txn[\"amount\"], txn[\"added_by\"], txn[\"category\"], txn[\"description\"])\n",
        "    new_block = calculate_hash(new_block)\n",
        "    new_block.write.format(\"delta\").mode(\"append\").save(\"/tmp/delta/blockchain\")\n",
        "    previous_block = new_block\n",
        "\n",
        "# Read and display the blockchain\n",
        "blockchain_df = spark.read.format(\"delta\").load(\"/tmp/delta/blockchain\")\n",
        "blockchain_df.orderBy(\"index\").show(truncate=False)"
      ],
      "metadata": {
        "colab": {
          "base_uri": "https://localhost:8080/"
        },
        "id": "ohtQa-kKREQA",
        "outputId": "34cf8705-c2f9-41bf-c871-1a5641a39a25"
      },
      "execution_count": 2,
      "outputs": [
        {
          "output_type": "stream",
          "name": "stdout",
          "text": [
            "+-----+--------------------------+-----------------------------+------+----------------------------------------------------------------+-------------+---------+------------------------------------------------+----------------------------------------------------------------+\n",
            "|index|timestamp                 |transactions                 |amount|previous_hash                                                   |added_by     |category |description                                     |hash                                                            |\n",
            "+-----+--------------------------+-----------------------------+------+----------------------------------------------------------------+-------------+---------+------------------------------------------------+----------------------------------------------------------------+\n",
            "|0    |                          |                             |0.0   |0                                                               |genesis      |education|Initial block                                   |5b2895eceb35bf5c3735d7347926e2078f4e439fe1f5af54978907c42b3db4b4|\n",
            "|1    |2024-06-24T00:29:16.174202|Payment for school fees      |5000.0|5b2895eceb35bf5c3735d7347926e2078f4e439fe1f5af54978907c42b3db4b4|Syed Bilgrami|education|Fee payment for Sawaira Sajjad of class 11      |7052493a4b8ab97510f2757a15f9cb9a38381f936853e501e9d79c6b0afb9064|\n",
            "|2    |2024-06-24T00:29:20.088961|Purchase of books and uniform|2000.0|7052493a4b8ab97510f2757a15f9cb9a38381f936853e501e9d79c6b0afb9064|Syed Bilgrami|education|Books and uniform for Sawaira Sajjad of class 11|32aa20696cbe39603d7f35de529a1f0159749c26fbf981cf383a8f3ed01351d1|\n",
            "|3    |2024-06-24T00:29:23.370587|Payment for admission fee    |6000.0|32aa20696cbe39603d7f35de529a1f0159749c26fbf981cf383a8f3ed01351d1|Syed Bilgrami|education|Admission fee for Malaika Khan of class 10      |ce5c84e3911b82154a24e1204bd48d44a905ce35518cd77b87b8cf03d44007be|\n",
            "|4    |2024-06-24T00:29:26.377720|Payment for school fees      |7000.0|ce5c84e3911b82154a24e1204bd48d44a905ce35518cd77b87b8cf03d44007be|Syed Bilgrami|education|Fee payment for Ali Khan of class 12 in medical |2e9be683074db305ac8e69ef3b1a8a8bd4d0185a44decd89470cf6724fd2220b|\n",
            "|5    |2024-06-24T00:29:29.238555|Purchase of books            |3000.0|2e9be683074db305ac8e69ef3b1a8a8bd4d0185a44decd89470cf6724fd2220b|Syed Bilgrami|education|Books for Ali Khan of class 12 in medical       |943242b3e901f1ff4d4894ee4415a6834d3bf1b97e800ce29b2c358db93cb8b1|\n",
            "|6    |2024-06-24T00:29:42.529676|Payment for school fees      |4000.0|943242b3e901f1ff4d4894ee4415a6834d3bf1b97e800ce29b2c358db93cb8b1|Syed Bilgrami|education|Fee payment for Saiqa Khan of class 8           |a0bbe4a5151136ee9c6d6c3113f30130effbe26c7cdedaa4ae5adaafcb767521|\n",
            "|7    |2024-06-24T00:29:46.524900|Purchase of books and uniform|1500.0|a0bbe4a5151136ee9c6d6c3113f30130effbe26c7cdedaa4ae5adaafcb767521|Syed Bilgrami|education|Books and uniform for Saiqa Khan of class 8     |e9495ab219604829f58c7af795c00e82d665ba5956fd9c6b2a74b92a1ace1e14|\n",
            "|8    |2024-06-24T00:29:49.673682|Payment for school fees      |4000.0|e9495ab219604829f58c7af795c00e82d665ba5956fd9c6b2a74b92a1ace1e14|Syed Bilgrami|education|Fee payment for Usman Sajjad of class 8         |2beb58bf3b8deddf1127053e5c566169b8f9aa14c4d213495f37e48c4c9619ce|\n",
            "|9    |2024-06-24T00:29:52.057925|Purchase of books and uniform|1500.0|2beb58bf3b8deddf1127053e5c566169b8f9aa14c4d213495f37e48c4c9619ce|Syed Bilgrami|education|Books and uniform for Usman Sajjad of class 8   |a213a233c85c7ede0814a0c558942c9c17b79d5c69336ec10e7553bd722a8c1c|\n",
            "+-----+--------------------------+-----------------------------+------+----------------------------------------------------------------+-------------+---------+------------------------------------------------+----------------------------------------------------------------+\n",
            "\n"
          ]
        }
      ]
    },
    {
      "cell_type": "markdown",
      "source": [],
      "metadata": {
        "id": "p2uD6zA9RKYh"
      }
    },
    {
      "cell_type": "code",
      "source": [
        "# Import required libraries\n",
        "from flask import Flask, request, jsonify\n",
        "from pyspark.sql import SparkSession\n",
        "from pyspark.sql.functions import sha2, concat_ws, col\n",
        "from delta import configure_spark_with_delta_pip\n",
        "import nest_asyncio\n",
        "from threading import Thread\n",
        "\n",
        "# Initialize Spark session with Delta Lake\n",
        "builder = SparkSession.builder \\\n",
        "    .appName(\"BlockchainWithDeltaLake\") \\\n",
        "    .config(\"spark.jars.packages\", \"io.delta:delta-core_2.12:1.1.0\") \\\n",
        "    .config(\"spark.sql.extensions\", \"io.delta.sql.DeltaSparkSessionExtension\") \\\n",
        "    .config(\"spark.sql.catalog.spark_catalog\", \"org.apache.spark.sql.delta.catalog.DeltaCatalog\")\n",
        "\n",
        "spark = configure_spark_with_delta_pip(builder).getOrCreate()\n",
        "\n",
        "# Flask application setup\n",
        "app = Flask(__name__)\n",
        "\n",
        "# API endpoint to add a new block\n",
        "@app.route('/add_block', methods=['POST'])\n",
        "def add_block():\n",
        "    previous_block = spark.read.format(\"delta\").load(\"/tmp/delta/blockchain\").orderBy(\"index\", ascending=False).limit(1)\n",
        "    transactions = request.json.get('transactions')\n",
        "    amount = request.json.get('amount')\n",
        "    added_by = request.json.get('added_by')\n",
        "    category = request.json.get('category')\n",
        "    description = request.json.get('description')\n",
        "\n",
        "    new_block = create_block(previous_block, transactions, amount, added_by, category, description)\n",
        "    new_block = calculate_hash(new_block)\n",
        "    new_block.write.format(\"delta\").mode(\"append\").save(\"/tmp/delta/blockchain\")\n",
        "\n",
        "    return jsonify({\"message\": \"Block added successfully\"}), 201\n",
        "\n",
        "# API endpoint to get the blockchain\n",
        "@app.route('/get_blockchain', methods=['GET'])\n",
        "def get_blockchain():\n",
        "    blockchain_df = spark.read.format(\"delta\").load(\"/tmp/delta/blockchain\")\n",
        "    blockchain_list = blockchain_df.collect()\n",
        "    blockchain_json = [row.asDict() for row in blockchain_list]\n",
        "\n",
        "    return jsonify(blockchain_json), 200\n",
        "\n",
        "# Ensure the notebook can handle Flask requests\n",
        "nest_asyncio.apply()\n",
        "\n",
        "# This code will start the Flask app in a background thread\n",
        "def start_app():\n",
        "    app.run(port=5001)\n",
        "\n",
        "thread = Thread(target=start_app)\n",
        "thread.start()\n"
      ],
      "metadata": {
        "id": "gK3hcwAkRTwr"
      },
      "execution_count": 3,
      "outputs": []
    },
    {
      "cell_type": "markdown",
      "source": [
        " # add the financial transactions via API\n",
        " We'll use the Flask API endpoints to add these transactions."
      ],
      "metadata": {
        "id": "C2-LGEivRdte"
      }
    },
    {
      "cell_type": "markdown",
      "source": [],
      "metadata": {
        "id": "VoiZuCs3Rn1c"
      }
    },
    {
      "cell_type": "code",
      "source": [
        "# Add sample transactions\n",
        "import requests\n",
        "\n",
        "# API URL\n",
        "api_url = \"http://localhost:5001/add_block\"\n",
        "\n",
        "# Sample financial transactions with realistic data\n",
        "transactions = [\n",
        "    # Additional diverse transactions\n",
        "    {\"transactions\": \"Purchase of sports equipment\", \"amount\": 2500.0, \"added_by\": \"Syed Bilgrami\", \"category\": \"extracurricular\", \"description\": \"Sports equipment for school\"},\n",
        "    {\"transactions\": \"Transportation fees\", \"amount\": 3000.0, \"added_by\": \"Syed Bilgrami\", \"category\": \"transportation\", \"description\": \"Monthly bus pass for Sawaira Sajjad\"},\n",
        "    {\"transactions\": \"Purchase of lab supplies\", \"amount\": 4500.0, \"added_by\": \"Syed Bilgrami\", \"category\": \"education\", \"description\": \"Lab supplies for Ali Khan's medical studies\"},\n",
        "    {\"transactions\": \"Field trip expenses\", \"amount\": 3500.0, \"added_by\": \"Syed Bilgrami\", \"category\": \"extracurricular\", \"description\": \"Field trip expenses for Malaika Khan\"},\n",
        "    {\"transactions\": \"After-school program\", \"amount\": 2000.0, \"added_by\": \"Syed Bilgrami\", \"category\": \"extracurricular\", \"description\": \"Fee for after-school program for Usman Sajjad\"}\n",
        "]\n",
        "# Add transactions using the API\n",
        "for transaction in transactions:\n",
        "    response = requests.post(api_url, json=transaction)\n",
        "    print(response.json())"
      ],
      "metadata": {
        "colab": {
          "base_uri": "https://localhost:8080/"
        },
        "id": "n85pdCwIRbdL",
        "outputId": "b5a98a0c-dd42-4d09-df4b-6e4850e941a7"
      },
      "execution_count": 4,
      "outputs": [
        {
          "output_type": "stream",
          "name": "stdout",
          "text": [
            " * Serving Flask app '__main__'\n",
            " * Debug mode: off\n"
          ]
        },
        {
          "output_type": "stream",
          "name": "stderr",
          "text": [
            "INFO:werkzeug:\u001b[31m\u001b[1mWARNING: This is a development server. Do not use it in a production deployment. Use a production WSGI server instead.\u001b[0m\n",
            " * Running on http://127.0.0.1:5001\n",
            "INFO:werkzeug:\u001b[33mPress CTRL+C to quit\u001b[0m\n",
            "INFO:werkzeug:127.0.0.1 - - [24/Jun/2024 00:30:11] \"\u001b[35m\u001b[1mPOST /add_block HTTP/1.1\u001b[0m\" 201 -\n"
          ]
        },
        {
          "output_type": "stream",
          "name": "stdout",
          "text": [
            "{'message': 'Block added successfully'}\n"
          ]
        },
        {
          "output_type": "stream",
          "name": "stderr",
          "text": [
            "INFO:werkzeug:127.0.0.1 - - [24/Jun/2024 00:30:32] \"\u001b[35m\u001b[1mPOST /add_block HTTP/1.1\u001b[0m\" 201 -\n"
          ]
        },
        {
          "output_type": "stream",
          "name": "stdout",
          "text": [
            "{'message': 'Block added successfully'}\n"
          ]
        },
        {
          "output_type": "stream",
          "name": "stderr",
          "text": [
            "INFO:werkzeug:127.0.0.1 - - [24/Jun/2024 00:30:47] \"\u001b[35m\u001b[1mPOST /add_block HTTP/1.1\u001b[0m\" 201 -\n"
          ]
        },
        {
          "output_type": "stream",
          "name": "stdout",
          "text": [
            "{'message': 'Block added successfully'}\n"
          ]
        },
        {
          "output_type": "stream",
          "name": "stderr",
          "text": [
            "INFO:werkzeug:127.0.0.1 - - [24/Jun/2024 00:30:57] \"\u001b[35m\u001b[1mPOST /add_block HTTP/1.1\u001b[0m\" 201 -\n"
          ]
        },
        {
          "output_type": "stream",
          "name": "stdout",
          "text": [
            "{'message': 'Block added successfully'}\n"
          ]
        },
        {
          "output_type": "stream",
          "name": "stderr",
          "text": [
            "INFO:werkzeug:127.0.0.1 - - [24/Jun/2024 00:31:07] \"\u001b[35m\u001b[1mPOST /add_block HTTP/1.1\u001b[0m\" 201 -\n"
          ]
        },
        {
          "output_type": "stream",
          "name": "stdout",
          "text": [
            "{'message': 'Block added successfully'}\n"
          ]
        }
      ]
    },
    {
      "cell_type": "code",
      "source": [
        "import ipywidgets as widgets\n",
        "from IPython.display import display, Markdown\n",
        "import requests\n",
        "# Display the summary in Markdown\n",
        "display(Markdown(\"\"\"\n",
        "# Transaction Entry Form\n",
        "\n",
        "Use this form to enter transactions for a non-profit organization in education that pays for school fee expenses.\n",
        "Please fill in all the required fields and click \"Submit\" to add the transaction.\n",
        "\n",
        "### Required Fields\n",
        "- **Transactions**: Description of the transaction (e.g., \"Fee payment for student X\")\n",
        "- **Amount**: Amount of the transaction\n",
        "- **Added By**: Your name\n",
        "- **Category**: Select a category from the dropdown (e.g., education, books, uniform, extracurricular, transportation, admission)\n",
        "\n",
        "### Optional Field\n",
        "- **Description**: Additional description for the transaction\n",
        "\"\"\"))\n",
        "\n",
        "# API URL\n",
        "api_url = \"http://localhost:5001/add_block\"\n",
        "\n",
        "# Create form fields\n",
        "transactions_input = widgets.Text(description=\"Transactions:\", placeholder=\"Enter transaction description\")\n",
        "amount_input = widgets.FloatText(description=\"Amount:\", placeholder=\"Enter amount\")\n",
        "added_by_input = widgets.Text(description=\"Added By:\", placeholder=\"Enter your name\")\n",
        "category_input = widgets.Dropdown(\n",
        "    options=[\"education\", \"books\", \"uniform\", \"extracurricular\", \"transportation\", \"admission\", \"other\"],\n",
        "    description=\"Category:\",\n",
        "    value=None\n",
        ")\n",
        "description_input = widgets.Text(description=\"Description:\", placeholder=\"Enter optional description\")\n",
        "submit_button = widgets.Button(description=\"Submit\")\n",
        "\n",
        "# Function to handle form submission\n",
        "def submit_transaction(b):\n",
        "    if not transactions_input.value or not amount_input.value or not added_by_input.value or not category_input.value:\n",
        "        print(\"Please fill in all required fields.\")\n",
        "        return\n",
        "\n",
        "    transaction_data = {\n",
        "        \"transactions\": transactions_input.value,\n",
        "        \"amount\": amount_input.value,\n",
        "        \"added_by\": added_by_input.value,\n",
        "        \"category\": category_input.value,\n",
        "        \"description\": description_input.value\n",
        "    }\n",
        "\n",
        "    response = requests.post(api_url, json=transaction_data)\n",
        "\n",
        "    if response.status_code == 201:\n",
        "        print(\"Transaction added successfully!\")\n",
        "    else:\n",
        "        print(\"Failed to add transaction. Status code:\", response.status_code)\n",
        "\n",
        "# Attach the submit function to the button\n",
        "submit_button.on_click(submit_transaction)\n",
        "\n",
        "# Display the form\n",
        "display(transactions_input, amount_input, added_by_input, category_input, description_input, submit_button)\n"
      ],
      "metadata": {
        "colab": {
          "base_uri": "https://localhost:8080/",
          "height": 506,
          "referenced_widgets": [
            "a51cf2c9943b43a3a92c295116c0e000",
            "15870c0c4df14b95bc87514a3fbff6fd",
            "2fb60677563d4101aed41146b21a062e",
            "eb7a95430de44cada981cad05e2b5c38",
            "efa7d5d93ec24e7ba0a2f41f32ba9e6e",
            "f06fea53b4554ab9abc69185153db8c0",
            "9460d5a95908452db30ae0570eb55e9c",
            "3dcde0233bc1480eb3584796027480ae",
            "1896422723cf4f73a283eef5dc057380",
            "8996a332690f4e3bbb1c3bbdb5bc9d2c",
            "3b36f300f78b4af09e892b8e2b6a6ab1",
            "ae2006c3414f47faafa85f5853670894",
            "2c8315ed43ce4e3bb9e72fa626b202f9",
            "ae48040bbe9e42b7b7703af049431d1d",
            "11f33d3007a54af7b0eae66d30d3459c",
            "5951a3f3b5234eab9088ae8c651b6edf",
            "9451eb4e309e40d9b8b8043a13c75516",
            "ec1fde52d9c04ffdb5347881632b7253"
          ]
        },
        "id": "Ubreu0Chw8yb",
        "outputId": "87b5566e-c6c8-44da-a7e1-df9cb3187bf2"
      },
      "execution_count": 21,
      "outputs": [
        {
          "output_type": "display_data",
          "data": {
            "text/plain": [
              "<IPython.core.display.Markdown object>"
            ],
            "text/markdown": "\n# Transaction Entry Form\n\nUse this form to enter transactions for a non-profit organization in education that pays for school fee expenses. \nPlease fill in all the required fields and click \"Submit\" to add the transaction.\n\n### Required Fields\n- **Transactions**: Description of the transaction (e.g., \"Fee payment for student X\")\n- **Amount**: Amount of the transaction\n- **Added By**: Your name\n- **Category**: Select a category from the dropdown (e.g., education, books, uniform, extracurricular, transportation, admission)\n\n### Optional Field\n- **Description**: Additional description for the transaction\n"
          },
          "metadata": {}
        },
        {
          "output_type": "display_data",
          "data": {
            "text/plain": [
              "Text(value='', description='Transactions:', placeholder='Enter transaction description')"
            ],
            "application/vnd.jupyter.widget-view+json": {
              "version_major": 2,
              "version_minor": 0,
              "model_id": "a51cf2c9943b43a3a92c295116c0e000"
            }
          },
          "metadata": {}
        },
        {
          "output_type": "display_data",
          "data": {
            "text/plain": [
              "FloatText(value=0.0, description='Amount:')"
            ],
            "application/vnd.jupyter.widget-view+json": {
              "version_major": 2,
              "version_minor": 0,
              "model_id": "eb7a95430de44cada981cad05e2b5c38"
            }
          },
          "metadata": {}
        },
        {
          "output_type": "display_data",
          "data": {
            "text/plain": [
              "Text(value='', description='Added By:', placeholder='Enter your name')"
            ],
            "application/vnd.jupyter.widget-view+json": {
              "version_major": 2,
              "version_minor": 0,
              "model_id": "9460d5a95908452db30ae0570eb55e9c"
            }
          },
          "metadata": {}
        },
        {
          "output_type": "display_data",
          "data": {
            "text/plain": [
              "Dropdown(description='Category:', options=('education', 'books', 'uniform', 'extracurricular', 'transportation…"
            ],
            "application/vnd.jupyter.widget-view+json": {
              "version_major": 2,
              "version_minor": 0,
              "model_id": "8996a332690f4e3bbb1c3bbdb5bc9d2c"
            }
          },
          "metadata": {}
        },
        {
          "output_type": "display_data",
          "data": {
            "text/plain": [
              "Text(value='', description='Description:', placeholder='Enter optional description')"
            ],
            "application/vnd.jupyter.widget-view+json": {
              "version_major": 2,
              "version_minor": 0,
              "model_id": "2c8315ed43ce4e3bb9e72fa626b202f9"
            }
          },
          "metadata": {}
        },
        {
          "output_type": "display_data",
          "data": {
            "text/plain": [
              "Button(description='Submit', style=ButtonStyle())"
            ],
            "application/vnd.jupyter.widget-view+json": {
              "version_major": 2,
              "version_minor": 0,
              "model_id": "5951a3f3b5234eab9088ae8c651b6edf"
            }
          },
          "metadata": {}
        },
        {
          "output_type": "stream",
          "name": "stderr",
          "text": [
            "INFO:werkzeug:127.0.0.1 - - [24/Jun/2024 01:11:49] \"\u001b[35m\u001b[1mPOST /add_block HTTP/1.1\u001b[0m\" 201 -\n"
          ]
        },
        {
          "output_type": "stream",
          "name": "stdout",
          "text": [
            "Transaction added successfully!\n"
          ]
        }
      ]
    },
    {
      "cell_type": "markdown",
      "source": [
        "# Display the financial transactions in the blockchain"
      ],
      "metadata": {
        "id": "UPho8iyXx9nM"
      }
    },
    {
      "cell_type": "code",
      "source": [
        "# Read and display the blockchain\n",
        "blockchain_df = spark.read.format(\"delta\").load(\"/tmp/delta/blockchain\")\n",
        "blockchain_df.orderBy(\"index\").show(truncate=False)"
      ],
      "metadata": {
        "colab": {
          "base_uri": "https://localhost:8080/"
        },
        "id": "cDr78VryyHn9",
        "outputId": "c89e10d6-ba76-4d7c-eeee-60ed8edcbf70"
      },
      "execution_count": 22,
      "outputs": [
        {
          "output_type": "stream",
          "name": "stdout",
          "text": [
            "+-----+--------------------------+-----------------------------------+--------+----------------------------------------------------------------+-------------+---------------+-----------------------------------------------------------------------+----------------------------------------------------------------+\n",
            "|index|timestamp                 |transactions                       |amount  |previous_hash                                                   |added_by     |category       |description                                                            |hash                                                            |\n",
            "+-----+--------------------------+-----------------------------------+--------+----------------------------------------------------------------+-------------+---------------+-----------------------------------------------------------------------+----------------------------------------------------------------+\n",
            "|0    |                          |                                   |0.0     |0                                                               |genesis      |education      |Initial block                                                          |5b2895eceb35bf5c3735d7347926e2078f4e439fe1f5af54978907c42b3db4b4|\n",
            "|1    |2024-06-24T00:29:16.174202|Payment for school fees            |5000.0  |5b2895eceb35bf5c3735d7347926e2078f4e439fe1f5af54978907c42b3db4b4|Syed Bilgrami|education      |Fee payment for Sawaira Sajjad of class 11                             |7052493a4b8ab97510f2757a15f9cb9a38381f936853e501e9d79c6b0afb9064|\n",
            "|2    |2024-06-24T00:29:20.088961|Purchase of books and uniform      |2000.0  |7052493a4b8ab97510f2757a15f9cb9a38381f936853e501e9d79c6b0afb9064|Syed Bilgrami|education      |Books and uniform for Sawaira Sajjad of class 11                       |32aa20696cbe39603d7f35de529a1f0159749c26fbf981cf383a8f3ed01351d1|\n",
            "|3    |2024-06-24T00:29:23.370587|Payment for admission fee          |6000.0  |32aa20696cbe39603d7f35de529a1f0159749c26fbf981cf383a8f3ed01351d1|Syed Bilgrami|education      |Admission fee for Malaika Khan of class 10                             |ce5c84e3911b82154a24e1204bd48d44a905ce35518cd77b87b8cf03d44007be|\n",
            "|4    |2024-06-24T00:29:26.377720|Payment for school fees            |7000.0  |ce5c84e3911b82154a24e1204bd48d44a905ce35518cd77b87b8cf03d44007be|Syed Bilgrami|education      |Fee payment for Ali Khan of class 12 in medical                        |2e9be683074db305ac8e69ef3b1a8a8bd4d0185a44decd89470cf6724fd2220b|\n",
            "|5    |2024-06-24T00:29:29.238555|Purchase of books                  |3000.0  |2e9be683074db305ac8e69ef3b1a8a8bd4d0185a44decd89470cf6724fd2220b|Syed Bilgrami|education      |Books for Ali Khan of class 12 in medical                              |943242b3e901f1ff4d4894ee4415a6834d3bf1b97e800ce29b2c358db93cb8b1|\n",
            "|6    |2024-06-24T00:29:42.529676|Payment for school fees            |4000.0  |943242b3e901f1ff4d4894ee4415a6834d3bf1b97e800ce29b2c358db93cb8b1|Syed Bilgrami|education      |Fee payment for Saiqa Khan of class 8                                  |a0bbe4a5151136ee9c6d6c3113f30130effbe26c7cdedaa4ae5adaafcb767521|\n",
            "|7    |2024-06-24T00:29:46.524900|Purchase of books and uniform      |1500.0  |a0bbe4a5151136ee9c6d6c3113f30130effbe26c7cdedaa4ae5adaafcb767521|Syed Bilgrami|education      |Books and uniform for Saiqa Khan of class 8                            |e9495ab219604829f58c7af795c00e82d665ba5956fd9c6b2a74b92a1ace1e14|\n",
            "|8    |2024-06-24T00:29:49.673682|Payment for school fees            |4000.0  |e9495ab219604829f58c7af795c00e82d665ba5956fd9c6b2a74b92a1ace1e14|Syed Bilgrami|education      |Fee payment for Usman Sajjad of class 8                                |2beb58bf3b8deddf1127053e5c566169b8f9aa14c4d213495f37e48c4c9619ce|\n",
            "|9    |2024-06-24T00:29:52.057925|Purchase of books and uniform      |1500.0  |2beb58bf3b8deddf1127053e5c566169b8f9aa14c4d213495f37e48c4c9619ce|Syed Bilgrami|education      |Books and uniform for Usman Sajjad of class 8                          |a213a233c85c7ede0814a0c558942c9c17b79d5c69336ec10e7553bd722a8c1c|\n",
            "|10   |2024-06-24T00:30:06.855143|Purchase of sports equipment       |2500.0  |a213a233c85c7ede0814a0c558942c9c17b79d5c69336ec10e7553bd722a8c1c|Syed Bilgrami|extracurricular|Sports equipment for school                                            |68a4427bac57914204fc947be634faf6a5c934570da57a997bec482d84672daa|\n",
            "|11   |2024-06-24T00:30:25.871117|Transportation fees                |3000.0  |68a4427bac57914204fc947be634faf6a5c934570da57a997bec482d84672daa|Syed Bilgrami|transportation |Monthly bus pass for Sawaira Sajjad                                    |1fa4eb5ca8be828cda5a4520b23d0206ff27c5e53586ef6d197dce2a7bcb493c|\n",
            "|12   |2024-06-24T00:30:43.965758|Purchase of lab supplies           |4500.0  |1fa4eb5ca8be828cda5a4520b23d0206ff27c5e53586ef6d197dce2a7bcb493c|Syed Bilgrami|education      |Lab supplies for Ali Khan's medical studies                            |5a982fcd1890f177f7c80815bc104bc3c5b8e8cde4c5d3514c0eb3b732bb6600|\n",
            "|13   |2024-06-24T00:30:54.298550|Field trip expenses                |3500.0  |5a982fcd1890f177f7c80815bc104bc3c5b8e8cde4c5d3514c0eb3b732bb6600|Syed Bilgrami|extracurricular|Field trip expenses for Malaika Khan                                   |3f2eee29f4d211e6fd21af517cfdb4e199d7a836122bd62b562381e5297e76be|\n",
            "|14   |2024-06-24T00:31:04.863298|After-school program               |2000.0  |3f2eee29f4d211e6fd21af517cfdb4e199d7a836122bd62b562381e5297e76be|Syed Bilgrami|extracurricular|Fee for after-school program for Usman Sajjad                          |10bb08bbd49d32004278306cbac369fc414e5e3ee86ed88bf7ac872d7080f392|\n",
            "|15   |2024-06-24T00:33:46.424156|Fee payment for John Doe of class 9|150000.0|10bb08bbd49d32004278306cbac369fc414e5e3ee86ed88bf7ac872d7080f392|Bad Actor    |extracurricular|Fee for after-school program for Sawaira Sajjad                        |e2da76beb18dca17fd1f81ca30b836f1d39b8dbcc3b5cacf43c478d2552a6ffd|\n",
            "|16   |2024-06-24T00:34:05.835881|Late-night-entertainment program   |50000.0 |e2da76beb18dca17fd1f81ca30b836f1d39b8dbcc3b5cacf43c478d2552a6ffd|Bad Actor    |extracurricular|Fee for after-school program for Malaika Khan                          |ea03608275b687409fff524aeb912fe1ccc650bd173ce12c7bbd9dc21d9a1d19|\n",
            "|17   |2024-06-24T01:05:54.604137|Test transaction by Syed Bilgrami  |4000.0  |ea03608275b687409fff524aeb912fe1ccc650bd173ce12c7bbd9dc21d9a1d19|Syed Bilgrami|books          |                                                                       |a1100c5512cdd7ac28cc409d5409ad82b214e59dc04c43fed9923d940e936cc9|\n",
            "|18   |2024-06-24T01:11:46.101722|Field Trip to Murree, Pakistan     |300.0   |a1100c5512cdd7ac28cc409d5409ad82b214e59dc04c43fed9923d940e936cc9|Ali Zaidi    |extracurricular|30 students going from Lahore to Islamabad on to Murree Resort and back|04f8f1c738173d5f68d4275af4b3fc28d2c57c3a09838a5700b9720465ad943c|\n",
            "+-----+--------------------------+-----------------------------------+--------+----------------------------------------------------------------+-------------+---------------+-----------------------------------------------------------------------+----------------------------------------------------------------+\n",
            "\n"
          ]
        }
      ]
    },
    {
      "cell_type": "markdown",
      "source": [
        "# Visualizing the Financial Budget\n",
        "Visualize the financial budget for the current quarter and the current year, and then project it for the next three quarters and the next two years, we can use the data from the blockchain. Let's proceed step by step:\n",
        "\n",
        "- Read the blockchain data from Delta Lake.\n",
        "- Aggregate the data to calculate the financial budget for the current quarter and year.\n",
        "- Project the financial budget for the next three quarters and the next two years.\n",
        "- Visualize the financial budget using Matplotlib"
      ],
      "metadata": {
        "id": "q0nX7tzERpvh"
      }
    },
    {
      "cell_type": "markdown",
      "source": [
        "## Step 1: Read the blockchain data from Delta Lake\n"
      ],
      "metadata": {
        "id": "_KY3uuOXlEhC"
      }
    },
    {
      "cell_type": "code",
      "source": [
        "# Step 1: Read the blockchain data from Delta Lake\n",
        "import pandas as pd\n",
        "# Read the blockchain ordered by index\n",
        "blockchain_df = spark.read.format(\"delta\").load(\"/tmp/delta/blockchain\")\n",
        "ordered_blockchain_df = blockchain_df.orderBy(\"index\")\n",
        "\n",
        "# Convert to Pandas DataFrame for easier manipulation\n",
        "blockchain_pd_df = ordered_blockchain_df.toPandas()\n",
        "\n",
        "# Convert timestamp to datetime\n",
        "blockchain_pd_df['timestamp'] = pd.to_datetime(blockchain_pd_df['timestamp'])\n"
      ],
      "metadata": {
        "id": "C-tJ_sbTRrwj"
      },
      "execution_count": 6,
      "outputs": []
    },
    {
      "cell_type": "markdown",
      "source": [
        "## Step 2: Aggregate the data\n"
      ],
      "metadata": {
        "id": "QgLq9JXrlJW2"
      }
    },
    {
      "cell_type": "code",
      "source": [
        "# Step 2: Aggregate the data\n",
        "import pandas as pd\n",
        "\n",
        "# Group by quarter and year to get the financial budget\n",
        "blockchain_pd_df['quarter'] = blockchain_pd_df['timestamp'].dt.to_period('Q')\n",
        "blockchain_pd_df['year'] = blockchain_pd_df['timestamp'].dt.year\n",
        "\n",
        "# Aggregate the data by quarter and year\n",
        "quarterly_budget = blockchain_pd_df.groupby('quarter')['amount'].sum().reset_index()\n",
        "yearly_budget = blockchain_pd_df.groupby('year')['amount'].sum().reset_index()\n"
      ],
      "metadata": {
        "id": "SKP5-YcxRyE7"
      },
      "execution_count": 7,
      "outputs": []
    },
    {
      "cell_type": "markdown",
      "source": [
        "## Step 3: Project the financial budget\n",
        "Now, let's retrieve the data from the blockchain and visualize the financial budget."
      ],
      "metadata": {
        "id": "E-LKjITnSAMD"
      }
    },
    {
      "cell_type": "code",
      "source": [
        "# Step 3: Project the financial budget\n",
        "\n",
        "# Get the current quarter and year\n",
        "current_quarter = pd.Period(pd.Timestamp.now(), freq='Q')\n",
        "current_year = pd.Timestamp.now().year\n",
        "\n",
        "# Calculate the average budget per quarter for projection\n",
        "average_quarterly_budget = quarterly_budget['amount'].mean()\n",
        "\n",
        "# Project for the next three quarters and next two years\n",
        "projection_quarters = [current_quarter + i for i in range(1, 4)]\n",
        "projection_years = [current_year + i for i in range(1, 3)]\n",
        "\n",
        "# Create DataFrame for the projected quarters\n",
        "projection_quarterly_df = pd.DataFrame({\n",
        "    'quarter': projection_quarters,\n",
        "    'amount': [average_quarterly_budget] * 3\n",
        "})\n",
        "\n",
        "# Create DataFrame for the projected years\n",
        "average_yearly_budget = yearly_budget['amount'].mean()\n",
        "projection_yearly_df = pd.DataFrame({\n",
        "    'year': projection_years,\n",
        "    'amount': [average_yearly_budget] * 2\n",
        "})\n"
      ],
      "metadata": {
        "id": "S4OJi3oSSBiq"
      },
      "execution_count": 8,
      "outputs": []
    },
    {
      "cell_type": "markdown",
      "source": [
        "## Step 4: Visualize the financial budget\n"
      ],
      "metadata": {
        "id": "_qA3IUvjhSUj"
      }
    },
    {
      "cell_type": "code",
      "source": [
        "import matplotlib.pyplot as plt\n",
        "\n",
        "# Combine actual and projected budgets\n",
        "combined_quarterly_budget = pd.concat([quarterly_budget, projection_quarterly_df]).reset_index(drop=True)\n",
        "combined_yearly_budget = pd.concat([yearly_budget, projection_yearly_df]).reset_index(drop=True)\n",
        "\n",
        "# Plot the quarterly budget\n",
        "plt.figure(figsize=(14, 7))\n",
        "plt.plot(combined_quarterly_budget['quarter'].astype(str), combined_quarterly_budget['amount'], marker='o', linestyle='-', color='b', label='Quarterly Budget')\n",
        "plt.axvline(x=str(current_quarter), color='r', linestyle='--', label='Current Quarter')\n",
        "plt.title('Financial Budget - Quarterly')\n",
        "plt.xlabel('Quarter')\n",
        "plt.ylabel('Amount ($)')\n",
        "plt.xticks(rotation=45)\n",
        "plt.legend()\n",
        "plt.grid(True)\n",
        "plt.show()\n",
        "\n",
        "# Plot the yearly budget\n",
        "plt.figure(figsize=(14, 7))\n",
        "plt.plot(combined_yearly_budget['year'].astype(str), combined_yearly_budget['amount'], marker='o', linestyle='-', color='g', label='Yearly Budget')\n",
        "plt.axvline(x=current_year, color='r', linestyle='--', label='Current Year')\n",
        "plt.title('Financial Budget - Yearly')\n",
        "plt.xlabel('Year')\n",
        "plt.ylabel('Amount ($)')\n",
        "plt.legend()\n",
        "plt.grid(True)\n",
        "plt.show()\n"
      ],
      "metadata": {
        "colab": {
          "base_uri": "https://localhost:8080/",
          "height": 1000
        },
        "id": "0t0YnRYfhTFZ",
        "outputId": "c0a1fc02-420b-40a2-bacb-188aeb6fb1a8"
      },
      "execution_count": 9,
      "outputs": [
        {
          "output_type": "display_data",
          "data": {
            "text/plain": [
              "<Figure size 1400x700 with 1 Axes>"
            ],
            "image/png": "[encoded data removed]"
          },
          "metadata": {}
        },
        {
          "output_type": "display_data",
          "data": {
            "text/plain": [
              "<Figure size 1400x700 with 1 Axes>"
            ],
            "image/png": "[encoded data removed]"
          },
          "metadata": {}
        }
      ]
    },
    {
      "cell_type": "markdown",
      "source": [
        "# Verify blockchain integrity and Detect anomalies\n",
        "\n",
        "## Principle Used to Detect Anomaly\n",
        "\n",
        "In the context of this example, anomaly detection is based on statistical methods, specifically the Z-score method. The Z-score measures how many standard deviations a data point is from the mean of the data set. Here’s a breakdown of the process:\n",
        "\n",
        "1. **Calculate Mean and Standard Deviation**: Determine the average transaction amount and the standard deviation of the transaction amounts.\n",
        "2. **Compute Z-Score**: For each transaction, calculate the Z-score using the formula:\n",
        "\n",
        "  ![Z-score Equation](https://www.gstatic.com/education/formulas2/553212783/en/z_score.svg)\n",
        "\n",
        "where \\(X\\) is the transaction amount, (μ) is the mean transaction amount, and (σ) is the standard deviation.\n",
        "\n",
        "3. **Identify Anomalies**: Transactions with a Z-score greater than 3 or less than -3 are considered anomalies. This threshold is based on the empirical rule (68-95-99.7 rule), where nearly all data points lie within three standard deviations of the mean in a normal distribution.\n",
        "\n",
        "\n",
        "\n"
      ],
      "metadata": {
        "id": "CeKf5Uv-SRqD"
      }
    },
    {
      "cell_type": "markdown",
      "source": [
        "## Read the blockchain ordered by index\n"
      ],
      "metadata": {
        "id": "7fkUCCaVqRY0"
      }
    },
    {
      "cell_type": "code",
      "source": [
        "# Read the blockchain ordered by index\n",
        "blockchain_df = spark.read.format(\"delta\").load(\"/tmp/delta/blockchain\")\n",
        "ordered_blockchain_df = blockchain_df.orderBy(\"index\")\n"
      ],
      "metadata": {
        "id": "nz6wE3xbSVh6"
      },
      "execution_count": 10,
      "outputs": []
    },
    {
      "cell_type": "code",
      "source": [
        "from pyspark.sql import functions as F\n",
        "from pyspark.sql import SparkSession, Window\n",
        "\n",
        "def verify_blockchain(df):\n",
        "    # Create a window specification to access the previous row's hash\n",
        "    window_spec = Window.orderBy(\"index\")\n",
        "\n",
        "    # Calculate the hash of each row\n",
        "    df = df.withColumn(\n",
        "        \"calculated_hash\",\n",
        "        sha2(\n",
        "            concat_ws(\n",
        "                \"||\",\n",
        "                col(\"index\"),\n",
        "                col(\"timestamp\"),\n",
        "                col(\"transactions\"),\n",
        "                col(\"amount\"),\n",
        "                col(\"previous_hash\"),\n",
        "                col(\"added_by\"),\n",
        "                col(\"category\"),\n",
        "                col(\"description\")\n",
        "            ),\n",
        "            256\n",
        "        )\n",
        "    )\n",
        "\n",
        "    # Check for integrity issues by comparing the previous hash and calculated hash\n",
        "    df = df.withColumn(\n",
        "        \"previous_hash_check\",\n",
        "        F.lag(\"hash\").over(window_spec)\n",
        "    ).withColumn(\n",
        "        \"integrity_issue\",\n",
        "        (F.col(\"previous_hash\") != F.col(\"previous_hash_check\")) | (F.col(\"hash\") != F.col(\"calculated_hash\"))\n",
        "    )\n",
        "\n",
        "    # Filter rows with integrity issues\n",
        "    integrity_issues = df.filter(F.col(\"integrity_issue\"))\n",
        "\n",
        "    return integrity_issues\n",
        "\n",
        "integrity_issues_df = verify_blockchain(ordered_blockchain_df)\n",
        "integrity_issues_df.show(truncate=False)\n",
        "\n",
        "if integrity_issues_df.count() > 0:\n",
        "    print(\"Integrity issues found.\")\n",
        "else:\n",
        "    print(\"No integrity issues found.\")\n"
      ],
      "metadata": {
        "colab": {
          "base_uri": "https://localhost:8080/"
        },
        "id": "YMXeNG2oh8yS",
        "outputId": "0b7decc7-f1e2-4673-d643-6e17fd4e6aca"
      },
      "execution_count": 11,
      "outputs": [
        {
          "output_type": "stream",
          "name": "stdout",
          "text": [
            "+-----+---------+------------+------+-------------+--------+--------+-----------+----+---------------+-------------------+---------------+\n",
            "|index|timestamp|transactions|amount|previous_hash|added_by|category|description|hash|calculated_hash|previous_hash_check|integrity_issue|\n",
            "+-----+---------+------------+------+-------------+--------+--------+-----------+----+---------------+-------------------+---------------+\n",
            "+-----+---------+------------+------+-------------+--------+--------+-----------+----+---------------+-------------------+---------------+\n",
            "\n",
            "No integrity issues found.\n"
          ]
        }
      ]
    },
    {
      "cell_type": "markdown",
      "source": [
        " # Visualize the anomalies"
      ],
      "metadata": {
        "id": "WKoS5FMcSa4m"
      }
    },
    {
      "cell_type": "markdown",
      "source": [
        "We simulate adding some fraudulent data to the blockchain that contains higher than usual amounts. We'll then use anomaly detection to identify the suspicious transactions and project the correct data for Q2 and Q3."
      ],
      "metadata": {
        "id": "LLohbDjQSgf9"
      }
    },
    {
      "cell_type": "code",
      "source": [
        "import requests\n",
        "\n",
        "# API URL\n",
        "api_url = \"http://localhost:5001/add_block\"\n",
        "\n",
        "# Sample fraudulent transactions\n",
        "fraudulent_transactions = [\n",
        "    {\"transactions\": \"Fee payment for John Doe of class 9\", \"amount\": 150000.0, \"added_by\": \"Bad Actor\", \"category\": \"extracurricular\", \"description\": \"Fee for after-school program for Sawaira Sajjad\"},\n",
        "    {\"transactions\": \"Late-night-entertainment program\", \"amount\": 50000.0, \"added_by\": \"Bad Actor\", \"category\": \"extracurricular\", \"description\": \"Fee for after-school program for Malaika Khan\"}\n",
        "]\n",
        "\n",
        "# Add fraudulent transactions using the API\n",
        "for transaction in fraudulent_transactions:\n",
        "    response = requests.post(api_url, json=transaction)\n",
        "    print(response.json())\n"
      ],
      "metadata": {
        "colab": {
          "base_uri": "https://localhost:8080/"
        },
        "id": "SmUo-JZ7Sidk",
        "outputId": "4092b545-7946-4e95-bd3b-689a9d49806f"
      },
      "execution_count": 12,
      "outputs": [
        {
          "output_type": "stream",
          "name": "stderr",
          "text": [
            "INFO:werkzeug:127.0.0.1 - - [24/Jun/2024 00:33:57] \"\u001b[35m\u001b[1mPOST /add_block HTTP/1.1\u001b[0m\" 201 -\n"
          ]
        },
        {
          "output_type": "stream",
          "name": "stdout",
          "text": [
            "{'message': 'Block added successfully'}\n"
          ]
        },
        {
          "output_type": "stream",
          "name": "stderr",
          "text": [
            "INFO:werkzeug:127.0.0.1 - - [24/Jun/2024 00:34:08] \"\u001b[35m\u001b[1mPOST /add_block HTTP/1.1\u001b[0m\" 201 -\n"
          ]
        },
        {
          "output_type": "stream",
          "name": "stdout",
          "text": [
            "{'message': 'Block added successfully'}\n"
          ]
        }
      ]
    },
    {
      "cell_type": "markdown",
      "source": [
        "Next, let's retrieve the blockchain data, detect anomalies, and visualize the results.\n",
        "\n"
      ],
      "metadata": {
        "id": "JbUbv-E2Sl1J"
      }
    },
    {
      "cell_type": "code",
      "source": [
        "\"\"\"\n",
        "Detect anomalies in the transactions using Z-score.\n",
        "Once a transaction by a bad actor is identified, print potential anomalies by identifying other transactions from the same `added_by`.\n",
        "Also, print a summary of the count of anomalies and potential anomalies, grouped by `added_by` within the month and year of the transaction.\n",
        "\"\"\"\n",
        "\n",
        "# Detect anomalies in the transactions\n",
        "def detect_anomalies(df):\n",
        "    # Calculate mean and standard deviation of the amount column\n",
        "    stats = df.select(\n",
        "        F.mean(\"amount\").alias(\"mean_amount\"),\n",
        "        F.stddev(\"amount\").alias(\"std_amount\")\n",
        "    ).collect()[0]\n",
        "\n",
        "    mean_amount = stats[\"mean_amount\"]\n",
        "    std_amount = stats[\"std_amount\"]\n",
        "\n",
        "    # Calculate Z-score for each transaction\n",
        "    df = df.withColumn(\n",
        "        \"z_score\",\n",
        "        (F.col(\"amount\") - mean_amount) / std_amount\n",
        "    )\n",
        "\n",
        "    # Filter rows where Z-score is greater than 3 or less than -3\n",
        "    anomalies = df.filter((F.col(\"z_score\") > 3) | (F.col(\"z_score\") < -3))\n",
        "\n",
        "    return anomalies\n",
        "\n",
        "# Call the function to detect anomalies\n",
        "anomalies_df = detect_anomalies(ordered_blockchain_df)\n",
        "\n",
        "# Check if any anomalies were detected\n",
        "if anomalies_df.count() > 0:\n",
        "    print(\"Anomalies detected.\")\n",
        "    # Identify other transactions from the same `added_by` as the anomalies\n",
        "    bad_actor_ids = anomalies_df.select(\"added_by\").distinct()\n",
        "    potential_anomalies_df = ordered_blockchain_df.join(bad_actor_ids, on=\"added_by\", how=\"inner\").orderBy(\"index\")\n",
        "\n",
        "    # Print summary\n",
        "    anomaly_count = anomalies_df.count()\n",
        "    potential_anomaly_count = potential_anomalies_df.count()\n",
        "\n",
        "    print(f\"Count of anomalies: {anomaly_count}\")\n",
        "    print(f\"Count of potential anomalies: {potential_anomaly_count}\")\n",
        "\n",
        "    # Group by `added_by` and show count within month and year of transaction\n",
        "    summary_df = potential_anomalies_df.withColumn(\"month\", F.month(\"timestamp\")).withColumn(\"year\", F.year(\"timestamp\")) \\\n",
        "                                       .groupBy(\"added_by\", \"month\", \"year\") \\\n",
        "                                       .agg(F.count(\"amount\").alias(\"count\"))\n",
        "\n",
        "    print(f\"Summary of anomalies\")\n",
        "    summary_df.show(truncate=False)\n",
        "\n",
        "    print(f\"anomalies: Total {anomalies_df.count()}\")\n",
        "    anomalies_df.show(truncate=False)\n",
        "\n",
        "    # Show potential anomalies\n",
        "    print(f\"Potential anomalies: Total {potential_anomalies_df.count()}\")\n",
        "    potential_anomalies_df.show(truncate=False)\n",
        "\n",
        "\n",
        "else:\n",
        "    print(\"No anomalies detected.\")\n"
      ],
      "metadata": {
        "colab": {
          "base_uri": "https://localhost:8080/"
        },
        "id": "fEcpD76eSmzK",
        "outputId": "208b4498-548e-426d-d4fa-9662916198a8"
      },
      "execution_count": 23,
      "outputs": [
        {
          "output_type": "stream",
          "name": "stdout",
          "text": [
            "Anomalies detected.\n",
            "Count of anomalies: 1\n",
            "Count of potential anomalies: 2\n",
            "Summary of anomalies\n",
            "+---------+-----+----+-----+\n",
            "|added_by |month|year|count|\n",
            "+---------+-----+----+-----+\n",
            "|Bad Actor|6    |2024|2    |\n",
            "+---------+-----+----+-----+\n",
            "\n",
            "anomalies: Total 1\n",
            "+-----+--------------------------+-----------------------------------+--------+----------------------------------------------------------------+---------+---------------+-----------------------------------------------+----------------------------------------------------------------+-----------------+\n",
            "|index|timestamp                 |transactions                       |amount  |previous_hash                                                   |added_by |category       |description                                    |hash                                                            |z_score          |\n",
            "+-----+--------------------------+-----------------------------------+--------+----------------------------------------------------------------+---------+---------------+-----------------------------------------------+----------------------------------------------------------------+-----------------+\n",
            "|15   |2024-06-24T00:33:46.424156|Fee payment for John Doe of class 9|150000.0|10bb08bbd49d32004278306cbac369fc414e5e3ee86ed88bf7ac872d7080f392|Bad Actor|extracurricular|Fee for after-school program for Sawaira Sajjad|e2da76beb18dca17fd1f81ca30b836f1d39b8dbcc3b5cacf43c478d2552a6ffd|3.923044666833758|\n",
            "+-----+--------------------------+-----------------------------------+--------+----------------------------------------------------------------+---------+---------------+-----------------------------------------------+----------------------------------------------------------------+-----------------+\n",
            "\n",
            "Potential anomalies: Total 2\n",
            "+---------+-----+--------------------------+-----------------------------------+--------+----------------------------------------------------------------+---------------+-----------------------------------------------+----------------------------------------------------------------+\n",
            "|added_by |index|timestamp                 |transactions                       |amount  |previous_hash                                                   |category       |description                                    |hash                                                            |\n",
            "+---------+-----+--------------------------+-----------------------------------+--------+----------------------------------------------------------------+---------------+-----------------------------------------------+----------------------------------------------------------------+\n",
            "|Bad Actor|15   |2024-06-24T00:33:46.424156|Fee payment for John Doe of class 9|150000.0|10bb08bbd49d32004278306cbac369fc414e5e3ee86ed88bf7ac872d7080f392|extracurricular|Fee for after-school program for Sawaira Sajjad|e2da76beb18dca17fd1f81ca30b836f1d39b8dbcc3b5cacf43c478d2552a6ffd|\n",
            "|Bad Actor|16   |2024-06-24T00:34:05.835881|Late-night-entertainment program   |50000.0 |e2da76beb18dca17fd1f81ca30b836f1d39b8dbcc3b5cacf43c478d2552a6ffd|extracurricular|Fee for after-school program for Malaika Khan  |ea03608275b687409fff524aeb912fe1ccc650bd173ce12c7bbd9dc21d9a1d19|\n",
            "+---------+-----+--------------------------+-----------------------------------+--------+----------------------------------------------------------------+---------------+-----------------------------------------------+----------------------------------------------------------------+\n",
            "\n"
          ]
        }
      ]
    },
    {
      "cell_type": "markdown",
      "source": [
        "\n",
        "# How Blockchain Helped\n",
        "\n",
        "The blockchain’s inherent properties enhance the anomaly detection process:\n",
        "\n",
        "- **Immutability**: Once a transaction is recorded in a blockchain, it cannot be altered or deleted. This ensures the integrity and reliability of the transaction history, making it easier to trust the data used for anomaly detection.\n",
        "- **Transparency**: Every transaction is recorded in a public or permissioned ledger, which allows for complete transparency. This makes it easier to audit transactions and spot any suspicious activity.\n",
        "- **Traceability**: Blockchain records the entire history of transactions, which helps in tracking and verifying the origin and flow of transactions.\n",
        "\n",
        "# Delta Lake vs. Ethereum-Based Blockchain\n",
        "\n",
        "## Delta Lake Blockchain\n",
        "\n",
        "**Pros**:\n",
        "\n",
        "- **Performance**: Delta Lake, built on top of Apache Spark, offers high performance for big data analytics and can handle large volumes of data efficiently.\n",
        "- **Cost-Effective**: Running Delta Lake on existing infrastructure (e.g., on-premises or cloud storage) can be more cost-effective than using a public blockchain network.\n",
        "- **Flexibility**: Delta Lake integrates well with various big data tools and frameworks, providing flexibility in data processing and analytics.\n",
        "- **Scalability**: Delta Lake can scale horizontally to handle increasing data loads, making it suitable for large datasets.\n",
        "\n",
        "**Cons**:\n",
        "\n",
        "- **Centralization**: Unlike public blockchains, Delta Lake is typically deployed in a centralized or semi-centralized environment, which may not provide the same level of decentralization and trustlessness.\n",
        "- **Security**: Being centralized or semi-centralized, it may be more susceptible to single points of failure or attacks compared to a decentralized blockchain.\n",
        "- **Limited Smart Contracts**: Delta Lake does not inherently support smart contracts, which limits its use cases compared to Ethereum.\n",
        "\n",
        "## Ethereum-Based Blockchain\n",
        "\n",
        "**Pros**:\n",
        "\n",
        "- **Decentralization**: Ethereum is a decentralized blockchain network, which means no single entity controls the network, enhancing security and trust.\n",
        "- **Smart Contracts**: Ethereum supports smart contracts, which are self-executing contracts with the terms of the agreement directly written into code. This enables complex, automated interactions between parties.\n",
        "- **Security**: Ethereum's consensus mechanisms (e.g., Proof of Stake) and decentralization enhance security against attacks.\n",
        "- **Transparency and Immutability**: Ethereum provides high transparency and immutability, which is critical for applications requiring trust and auditability.\n",
        "\n",
        "**Cons**:\n",
        "\n",
        "- **Cost**: Transactions on Ethereum require gas fees, which can be expensive, especially during network congestion.\n",
        "- **Performance**: Ethereum's transaction throughput is limited compared to traditional databases and big data systems, potentially leading to slower transaction times.\n",
        "- **Scalability**: Despite ongoing improvements, Ethereum faces scalability challenges, making it less suitable for applications requiring high transaction volumes.\n",
        "\n",
        "# Conclusion\n",
        "\n",
        "The choice between a Delta Lake-based blockchain and an Ethereum-based blockchain depends on the specific use case requirements. Delta Lake may be more suitable for applications focused on large-scale data analytics and cost-efficiency, while Ethereum provides robust decentralization, security, and smart contract capabilities for applications requiring high trust and automation."
      ],
      "metadata": {
        "id": "DaZ16Anhl1jc"
      }
    },
    {
      "cell_type": "code",
      "source": [],
      "metadata": {
        "id": "2E-Ok7n1kfGa"
      },
      "execution_count": null,
      "outputs": []
    }
  ]
}