{
  "nbformat": 4,
  "nbformat_minor": 0,
  "metadata": {
    "colab": {
      "provenance": [],
      "authorship_tag": "ABX9TyN+l36NfR1lIVf6QOHzfzge",
      "include_colab_link": true
    },
    "kernelspec": {
      "name": "python3",
      "display_name": "Python 3"
    },
    "language_info": {
      "name": "python"
    },
    "widgets": {
      "application/vnd.jupyter.widget-state+json": {
        "1362ed127316490cbe556b86c85027c9": {
          "model_module": "@jupyter-widgets/controls",
          "model_name": "DropdownModel",
          "model_module_version": "1.5.0",
          "state": {
            "_dom_classes": [],
            "_model_module": "@jupyter-widgets/controls",
            "_model_module_version": "1.5.0",
            "_model_name": "DropdownModel",
            "_options_labels": [
              "1: 2024-06-24 01:35:56.4 - WRITE",
              "0: 2024-06-24 01:35:31.181 - CREATE OR REPLACE TABLE AS SELECT"
            ],
            "_view_count": null,
            "_view_module": "@jupyter-widgets/controls",
            "_view_module_version": "1.5.0",
            "_view_name": "DropdownView",
            "description": "Version:",
            "description_tooltip": null,
            "disabled": false,
            "index": 0,
            "layout": "IPY_MODEL_faef40bf2d2b49e98df7a29363ebd77f",
            "style": "IPY_MODEL_f9aab179033249d8a8b3d2b9bd5bc32c"
          }
        },
        "faef40bf2d2b49e98df7a29363ebd77f": {
          "model_module": "@jupyter-widgets/base",
          "model_name": "LayoutModel",
          "model_module_version": "1.2.0",
          "state": {
            "_model_module": "@jupyter-widgets/base",
            "_model_module_version": "1.2.0",
            "_model_name": "LayoutModel",
            "_view_count": null,
            "_view_module": "@jupyter-widgets/base",
            "_view_module_version": "1.2.0",
            "_view_name": "LayoutView",
            "align_content": null,
            "align_items": null,
            "align_self": null,
            "border": null,
            "bottom": null,
            "display": null,
            "flex": null,
            "flex_flow": null,
            "grid_area": null,
            "grid_auto_columns": null,
            "grid_auto_flow": null,
            "grid_auto_rows": null,
            "grid_column": null,
            "grid_gap": null,
            "grid_row": null,
            "grid_template_areas": null,
            "grid_template_columns": null,
            "grid_template_rows": null,
            "height": null,
            "justify_content": null,
            "justify_items": null,
            "left": null,
            "margin": null,
            "max_height": null,
            "max_width": null,
            "min_height": null,
            "min_width": null,
            "object_fit": null,
            "object_position": null,
            "order": null,
            "overflow": null,
            "overflow_x": null,
            "overflow_y": null,
            "padding": null,
            "right": null,
            "top": null,
            "visibility": null,
            "width": null
          }
        },
        "f9aab179033249d8a8b3d2b9bd5bc32c": {
          "model_module": "@jupyter-widgets/controls",
          "model_name": "DescriptionStyleModel",
          "model_module_version": "1.5.0",
          "state": {
            "_model_module": "@jupyter-widgets/controls",
            "_model_module_version": "1.5.0",
            "_model_name": "DescriptionStyleModel",
            "_view_count": null,
            "_view_module": "@jupyter-widgets/base",
            "_view_module_version": "1.2.0",
            "_view_name": "StyleView",
            "description_width": ""
          }
        },
        "e1e287e8722348459ac0e25eb66c1cfd": {
          "model_module": "@jupyter-widgets/controls",
          "model_name": "ButtonModel",
          "model_module_version": "1.5.0",
          "state": {
            "_dom_classes": [],
            "_model_module": "@jupyter-widgets/controls",
            "_model_module_version": "1.5.0",
            "_model_name": "ButtonModel",
            "_view_count": null,
            "_view_module": "@jupyter-widgets/controls",
            "_view_module_version": "1.5.0",
            "_view_name": "ButtonView",
            "button_style": "",
            "description": "Submit",
            "disabled": false,
            "icon": "",
            "layout": "IPY_MODEL_2f3fb43d327a458aa84319347715afeb",
            "style": "IPY_MODEL_ec050e7edc5a4890843747663a7e96a5",
            "tooltip": ""
          }
        },
        "2f3fb43d327a458aa84319347715afeb": {
          "model_module": "@jupyter-widgets/base",
          "model_name": "LayoutModel",
          "model_module_version": "1.2.0",
          "state": {
            "_model_module": "@jupyter-widgets/base",
            "_model_module_version": "1.2.0",
            "_model_name": "LayoutModel",
            "_view_count": null,
            "_view_module": "@jupyter-widgets/base",
            "_view_module_version": "1.2.0",
            "_view_name": "LayoutView",
            "align_content": null,
            "align_items": null,
            "align_self": null,
            "border": null,
            "bottom": null,
            "display": null,
            "flex": null,
            "flex_flow": null,
            "grid_area": null,
            "grid_auto_columns": null,
            "grid_auto_flow": null,
            "grid_auto_rows": null,
            "grid_column": null,
            "grid_gap": null,
            "grid_row": null,
            "grid_template_areas": null,
            "grid_template_columns": null,
            "grid_template_rows": null,
            "height": null,
            "justify_content": null,
            "justify_items": null,
            "left": null,
            "margin": null,
            "max_height": null,
            "max_width": null,
            "min_height": null,
            "min_width": null,
            "object_fit": null,
            "object_position": null,
            "order": null,
            "overflow": null,
            "overflow_x": null,
            "overflow_y": null,
            "padding": null,
            "right": null,
            "top": null,
            "visibility": null,
            "width": null
          }
        },
        "ec050e7edc5a4890843747663a7e96a5": {
          "model_module": "@jupyter-widgets/controls",
          "model_name": "ButtonStyleModel",
          "model_module_version": "1.5.0",
          "state": {
            "_model_module": "@jupyter-widgets/controls",
            "_model_module_version": "1.5.0",
            "_model_name": "ButtonStyleModel",
            "_view_count": null,
            "_view_module": "@jupyter-widgets/base",
            "_view_module_version": "1.2.0",
            "_view_name": "StyleView",
            "button_color": null,
            "font_weight": ""
          }
        }
      }
    }
  },
  "cells": [
    {
      "cell_type": "markdown",
      "metadata": {
        "id": "view-in-github",
        "colab_type": "text"
      },
      "source": [
        "<a href=\"https://colab.research.google.com/github/samas-it-services/open-course-delta-lake/blob/feature%2Fblockchain-via-delta-lake/Delta_Lake_with_Apache_Spark_Time_Travel_and_Versioning.ipynb\" target=\"_parent\"><img src=\"https://colab.research.google.com/assets/colab-badge.svg\" alt=\"Open In Colab\"/></a>"
      ]
    },
    {
      "cell_type": "code",
      "execution_count": 1,
      "metadata": {
        "id": "_raAZZkqMnva",
        "colab": {
          "base_uri": "https://localhost:8080/"
        },
        "outputId": "45be31b1-98d6-4b7d-bf76-edd4dac6ae12"
      },
      "outputs": [
        {
          "output_type": "stream",
          "name": "stdout",
          "text": [
            "\u001b[2K     \u001b[90m━━━━━━━━━━━━━━━━━━━━━━━━━━━━━━━━━━━━━━━━\u001b[0m \u001b[32m317.0/317.0 MB\u001b[0m \u001b[31m3.7 MB/s\u001b[0m eta \u001b[36m0:00:00\u001b[0m\n",
            "\u001b[?25h  Preparing metadata (setup.py) ... \u001b[?25l\u001b[?25hdone\n",
            "  Building wheel for pyspark (setup.py) ... \u001b[?25l\u001b[?25hdone\n"
          ]
        }
      ],
      "source": [
        "#install required libraries\n",
        "!pip install -q pyspark\n",
        "#Supports delta in colab environment\n",
        "!pip install -q delta-spark"
      ]
    },
    {
      "cell_type": "code",
      "source": [
        "def _create_delta_spark():\n",
        "  from pyspark.sql import SparkSession\n",
        "  from delta import configure_spark_with_delta_pip\n",
        "  builder = SparkSession.builder.appName(\"DeltaLakeApp\") \\\n",
        "  .config(\"spark.sql.extensions\", \"io.delta.sql.DeltaSparkSessionExtension\") \\\n",
        "  .config(\"spark.sql.catalog.spark_catalog\", \"org.apache.spark.sql.delta.catalog.DeltaCatalog\")\\\n",
        "  .config(\"spark.jars.packages\",\"io.delta:delta-core_2.12:2.0.0\")\n",
        "  return configure_spark_with_delta_pip(builder).getOrCreate()\n",
        "\n",
        "spark = _create_delta_spark()"
      ],
      "metadata": {
        "id": "VhDmvrGAMzri"
      },
      "execution_count": 2,
      "outputs": []
    },
    {
      "cell_type": "code",
      "source": [
        "def _enable_sparkui(port=4040):\n",
        "    from google.colab import output\n",
        "    return output.serve_kernel_port_as_window(port, path='/jobs/index.html')\n",
        "\n",
        "_enable_sparkui()"
      ],
      "metadata": {
        "colab": {
          "base_uri": "https://localhost:8080/",
          "height": 34
        },
        "id": "rWja5ELeM3Dv",
        "outputId": "581fa602-2df7-42e3-ccab-6d8a3324b2bb"
      },
      "execution_count": 3,
      "outputs": [
        {
          "output_type": "display_data",
          "data": {
            "text/plain": [
              "<IPython.core.display.Javascript object>"
            ],
            "application/javascript": [
              "(async (port, path, text, element) => {\n",
              "    if (!google.colab.kernel.accessAllowed) {\n",
              "      return;\n",
              "    }\n",
              "    element.appendChild(document.createTextNode(''));\n",
              "    const url = await google.colab.kernel.proxyPort(port);\n",
              "    const anchor = document.createElement('a');\n",
              "    anchor.href = new URL(path, url).toString();\n",
              "    anchor.target = '_blank';\n",
              "    anchor.setAttribute('data-href', url + path);\n",
              "    anchor.textContent = text;\n",
              "    element.appendChild(anchor);\n",
              "  })(4040, \"/jobs/index.html\", \"https://localhost:4040/jobs/index.html\", window.element)"
            ]
          },
          "metadata": {}
        }
      ]
    },
    {
      "cell_type": "markdown",
      "source": [
        "# Read sample data\n",
        "We read sample data from California Housing Transactions dataset"
      ],
      "metadata": {
        "id": "VkWNASVy3Hmm"
      }
    },
    {
      "cell_type": "code",
      "source": [
        "# read sample data\n",
        "df = spark.read.options(inferSchema=True, header=True).csv(\"/content/sample_data/california_housing_train.csv\")\n",
        "df.printSchema()\n",
        "\n",
        "# root\n",
        "#  |-- longitude: double (nullable = true)\n",
        "#  |-- latitude: double (nullable = true)\n",
        "#  |-- housing_median_age: double (nullable = true)\n",
        "#  |-- total_rooms: double (nullable = true)\n",
        "#  |-- total_bedrooms: double (nullable = true)\n",
        "#  |-- population: double (nullable = true)\n",
        "#  |-- households: double (nullable = true)\n",
        "#  |-- median_income: double (nullable = true)\n",
        "#  |-- median_house_value: double (nullable = true)p"
      ],
      "metadata": {
        "colab": {
          "base_uri": "https://localhost:8080/"
        },
        "id": "6QsaJe76M68V",
        "outputId": "c8f05a99-1334-4fad-e02f-d8270594903a"
      },
      "execution_count": 4,
      "outputs": [
        {
          "output_type": "stream",
          "name": "stdout",
          "text": [
            "root\n",
            " |-- longitude: double (nullable = true)\n",
            " |-- latitude: double (nullable = true)\n",
            " |-- housing_median_age: double (nullable = true)\n",
            " |-- total_rooms: double (nullable = true)\n",
            " |-- total_bedrooms: double (nullable = true)\n",
            " |-- population: double (nullable = true)\n",
            " |-- households: double (nullable = true)\n",
            " |-- median_income: double (nullable = true)\n",
            " |-- median_house_value: double (nullable = true)\n",
            "\n"
          ]
        }
      ]
    },
    {
      "cell_type": "markdown",
      "source": [
        "# Create a database"
      ],
      "metadata": {
        "id": "Fnf0AEOe3Tfa"
      }
    },
    {
      "cell_type": "code",
      "source": [
        "#create a database\n",
        "spark.sql(\"create database delta_demo\")\n",
        "spark.sql(\"use delta_demo\")"
      ],
      "metadata": {
        "colab": {
          "base_uri": "https://localhost:8080/"
        },
        "id": "Cu87dsKrNDY0",
        "outputId": "279ce0a8-8aef-44a0-d6f9-ef5e84acded9"
      },
      "execution_count": 5,
      "outputs": [
        {
          "output_type": "execute_result",
          "data": {
            "text/plain": [
              "DataFrame[]"
            ]
          },
          "metadata": {},
          "execution_count": 5
        }
      ]
    },
    {
      "cell_type": "markdown",
      "source": [
        "# Write csv data as delta table"
      ],
      "metadata": {
        "id": "Mn4BNMNp3bs0"
      }
    },
    {
      "cell_type": "code",
      "source": [
        "# write csv data as delta table\n",
        "df.write.mode(\"overwrite\").format(\"delta\").saveAsTable(\"df_delta\")"
      ],
      "metadata": {
        "id": "fRv0QEDnNHXk"
      },
      "execution_count": 6,
      "outputs": []
    },
    {
      "cell_type": "markdown",
      "source": [
        "# Display data"
      ],
      "metadata": {
        "id": "Ls6gJriq3XCU"
      }
    },
    {
      "cell_type": "code",
      "source": [
        "df.show()"
      ],
      "metadata": {
        "colab": {
          "base_uri": "https://localhost:8080/"
        },
        "id": "lEwy4zR2FDXq",
        "outputId": "128d1478-5c2e-4c96-8bcf-522b8ba16cae"
      },
      "execution_count": 7,
      "outputs": [
        {
          "output_type": "stream",
          "name": "stdout",
          "text": [
            "+---------+--------+------------------+-----------+--------------+----------+----------+-------------+------------------+\n",
            "|longitude|latitude|housing_median_age|total_rooms|total_bedrooms|population|households|median_income|median_house_value|\n",
            "+---------+--------+------------------+-----------+--------------+----------+----------+-------------+------------------+\n",
            "|  -114.31|   34.19|              15.0|     5612.0|        1283.0|    1015.0|     472.0|       1.4936|           66900.0|\n",
            "|  -114.47|    34.4|              19.0|     7650.0|        1901.0|    1129.0|     463.0|         1.82|           80100.0|\n",
            "|  -114.56|   33.69|              17.0|      720.0|         174.0|     333.0|     117.0|       1.6509|           85700.0|\n",
            "|  -114.57|   33.64|              14.0|     1501.0|         337.0|     515.0|     226.0|       3.1917|           73400.0|\n",
            "|  -114.57|   33.57|              20.0|     1454.0|         326.0|     624.0|     262.0|        1.925|           65500.0|\n",
            "|  -114.58|   33.63|              29.0|     1387.0|         236.0|     671.0|     239.0|       3.3438|           74000.0|\n",
            "|  -114.58|   33.61|              25.0|     2907.0|         680.0|    1841.0|     633.0|       2.6768|           82400.0|\n",
            "|  -114.59|   34.83|              41.0|      812.0|         168.0|     375.0|     158.0|       1.7083|           48500.0|\n",
            "|  -114.59|   33.61|              34.0|     4789.0|        1175.0|    3134.0|    1056.0|       2.1782|           58400.0|\n",
            "|   -114.6|   34.83|              46.0|     1497.0|         309.0|     787.0|     271.0|       2.1908|           48100.0|\n",
            "|   -114.6|   33.62|              16.0|     3741.0|         801.0|    2434.0|     824.0|       2.6797|           86500.0|\n",
            "|   -114.6|    33.6|              21.0|     1988.0|         483.0|    1182.0|     437.0|        1.625|           62000.0|\n",
            "|  -114.61|   34.84|              48.0|     1291.0|         248.0|     580.0|     211.0|       2.1571|           48600.0|\n",
            "|  -114.61|   34.83|              31.0|     2478.0|         464.0|    1346.0|     479.0|        3.212|           70400.0|\n",
            "|  -114.63|   32.76|              15.0|     1448.0|         378.0|     949.0|     300.0|       0.8585|           45000.0|\n",
            "|  -114.65|   34.89|              17.0|     2556.0|         587.0|    1005.0|     401.0|       1.6991|           69100.0|\n",
            "|  -114.65|    33.6|              28.0|     1678.0|         322.0|     666.0|     256.0|       2.9653|           94900.0|\n",
            "|  -114.65|   32.79|              21.0|       44.0|          33.0|      64.0|      27.0|       0.8571|           25000.0|\n",
            "|  -114.66|   32.74|              17.0|     1388.0|         386.0|     775.0|     320.0|       1.2049|           44000.0|\n",
            "|  -114.67|   33.92|              17.0|       97.0|          24.0|      29.0|      15.0|       1.2656|           27500.0|\n",
            "+---------+--------+------------------+-----------+--------------+----------+----------+-------------+------------------+\n",
            "only showing top 20 rows\n",
            "\n"
          ]
        }
      ]
    },
    {
      "cell_type": "markdown",
      "source": [
        "# Make a schema Change\n",
        "Create a new column in housing_df_delta dataframe with the name \"median_house_value_new\" and its values as \"median_house_value\"*1.1"
      ],
      "metadata": {
        "id": "GvcQLzxq3pBo"
      }
    },
    {
      "cell_type": "code",
      "source": [
        "#read delta table\n",
        "df_delta = spark.read.table(\"delta_demo.df_delta\")\n",
        "\n",
        "# create a new column in housing_df_delta dataframe with the name \"median_house_value_new\" and its values as \"median_house_value\"*1.1\n",
        "df_delta = df_delta.withColumn(\"median_house_value_new\", df_delta[\"median_house_value\"] * 1.1)\n",
        "df_delta.show(1)\n"
      ],
      "metadata": {
        "colab": {
          "base_uri": "https://localhost:8080/"
        },
        "id": "MQenCtTVNK_R",
        "outputId": "8c2ab9f2-2952-43e4-c411-ac790e3a47fe"
      },
      "execution_count": 8,
      "outputs": [
        {
          "output_type": "stream",
          "name": "stdout",
          "text": [
            "+---------+--------+------------------+-----------+--------------+----------+----------+-------------+------------------+----------------------+\n",
            "|longitude|latitude|housing_median_age|total_rooms|total_bedrooms|population|households|median_income|median_house_value|median_house_value_new|\n",
            "+---------+--------+------------------+-----------+--------------+----------+----------+-------------+------------------+----------------------+\n",
            "|  -114.31|   34.19|              15.0|     5612.0|        1283.0|    1015.0|     472.0|       1.4936|           66900.0|               73590.0|\n",
            "+---------+--------+------------------+-----------+--------------+----------+----------+-------------+------------------+----------------------+\n",
            "only showing top 1 row\n",
            "\n"
          ]
        }
      ]
    },
    {
      "cell_type": "code",
      "source": [
        "df_delta.write\\\n",
        ".option(\"mergeSchema\", \"true\")\\\n",
        ".mode(\"append\").format(\"delta\").saveAsTable(\"df_delta\")"
      ],
      "metadata": {
        "id": "eW-jJfQKNOuN"
      },
      "execution_count": 9,
      "outputs": []
    },
    {
      "cell_type": "code",
      "source": [
        "df_delta_after_append = spark.read.table(\"delta_demo.df_delta\")\n",
        "df_delta_after_append.show(20)"
      ],
      "metadata": {
        "colab": {
          "base_uri": "https://localhost:8080/"
        },
        "id": "vnVzy2qcHjIO",
        "outputId": "07e50e76-66b5-4f4d-a883-fa3636b779bb"
      },
      "execution_count": 10,
      "outputs": [
        {
          "output_type": "stream",
          "name": "stdout",
          "text": [
            "+---------+--------+------------------+-----------+--------------+----------+----------+-------------+------------------+----------------------+\n",
            "|longitude|latitude|housing_median_age|total_rooms|total_bedrooms|population|households|median_income|median_house_value|median_house_value_new|\n",
            "+---------+--------+------------------+-----------+--------------+----------+----------+-------------+------------------+----------------------+\n",
            "|  -114.31|   34.19|              15.0|     5612.0|        1283.0|    1015.0|     472.0|       1.4936|           66900.0|                  NULL|\n",
            "|  -114.47|    34.4|              19.0|     7650.0|        1901.0|    1129.0|     463.0|         1.82|           80100.0|                  NULL|\n",
            "|  -114.56|   33.69|              17.0|      720.0|         174.0|     333.0|     117.0|       1.6509|           85700.0|                  NULL|\n",
            "|  -114.57|   33.64|              14.0|     1501.0|         337.0|     515.0|     226.0|       3.1917|           73400.0|                  NULL|\n",
            "|  -114.57|   33.57|              20.0|     1454.0|         326.0|     624.0|     262.0|        1.925|           65500.0|                  NULL|\n",
            "|  -114.58|   33.63|              29.0|     1387.0|         236.0|     671.0|     239.0|       3.3438|           74000.0|                  NULL|\n",
            "|  -114.58|   33.61|              25.0|     2907.0|         680.0|    1841.0|     633.0|       2.6768|           82400.0|                  NULL|\n",
            "|  -114.59|   34.83|              41.0|      812.0|         168.0|     375.0|     158.0|       1.7083|           48500.0|                  NULL|\n",
            "|  -114.59|   33.61|              34.0|     4789.0|        1175.0|    3134.0|    1056.0|       2.1782|           58400.0|                  NULL|\n",
            "|   -114.6|   34.83|              46.0|     1497.0|         309.0|     787.0|     271.0|       2.1908|           48100.0|                  NULL|\n",
            "|   -114.6|   33.62|              16.0|     3741.0|         801.0|    2434.0|     824.0|       2.6797|           86500.0|                  NULL|\n",
            "|   -114.6|    33.6|              21.0|     1988.0|         483.0|    1182.0|     437.0|        1.625|           62000.0|                  NULL|\n",
            "|  -114.61|   34.84|              48.0|     1291.0|         248.0|     580.0|     211.0|       2.1571|           48600.0|                  NULL|\n",
            "|  -114.61|   34.83|              31.0|     2478.0|         464.0|    1346.0|     479.0|        3.212|           70400.0|                  NULL|\n",
            "|  -114.63|   32.76|              15.0|     1448.0|         378.0|     949.0|     300.0|       0.8585|           45000.0|                  NULL|\n",
            "|  -114.65|   34.89|              17.0|     2556.0|         587.0|    1005.0|     401.0|       1.6991|           69100.0|                  NULL|\n",
            "|  -114.65|    33.6|              28.0|     1678.0|         322.0|     666.0|     256.0|       2.9653|           94900.0|                  NULL|\n",
            "|  -114.65|   32.79|              21.0|       44.0|          33.0|      64.0|      27.0|       0.8571|           25000.0|                  NULL|\n",
            "|  -114.66|   32.74|              17.0|     1388.0|         386.0|     775.0|     320.0|       1.2049|           44000.0|                  NULL|\n",
            "|  -114.67|   33.92|              17.0|       97.0|          24.0|      29.0|      15.0|       1.2656|           27500.0|                  NULL|\n",
            "+---------+--------+------------------+-----------+--------------+----------+----------+-------------+------------------+----------------------+\n",
            "only showing top 20 rows\n",
            "\n"
          ]
        }
      ]
    },
    {
      "cell_type": "markdown",
      "source": [
        "# Show Delta table change history"
      ],
      "metadata": {
        "id": "Y94cMQR94NPm"
      }
    },
    {
      "cell_type": "code",
      "source": [
        "#Load Delta table\n",
        "from delta import DeltaTable\n",
        "deltaTable = DeltaTable.forName(spark, \"delta_demo.df_delta\")\n",
        "\n",
        "#View history\n",
        "history = deltaTable.history().show(truncate =False)\n"
      ],
      "metadata": {
        "colab": {
          "base_uri": "https://localhost:8080/"
        },
        "id": "ddECC6KKNTZc",
        "outputId": "ee60deda-cb61-4437-ac5e-6bea45ec8681"
      },
      "execution_count": 11,
      "outputs": [
        {
          "output_type": "stream",
          "name": "stdout",
          "text": [
            "+-------+-----------------------+------+--------+---------------------------------+----------------------------------------------------------------------------------------------+----+--------+---------+-----------+--------------+-------------+-----------------------------------------------------------------+------------+-----------------------------------+\n",
            "|version|timestamp              |userId|userName|operation                        |operationParameters                                                                           |job |notebook|clusterId|readVersion|isolationLevel|isBlindAppend|operationMetrics                                                 |userMetadata|engineInfo                         |\n",
            "+-------+-----------------------+------+--------+---------------------------------+----------------------------------------------------------------------------------------------+----+--------+---------+-----------+--------------+-------------+-----------------------------------------------------------------+------------+-----------------------------------+\n",
            "|1      |2024-06-24 01:35:56.4  |NULL  |NULL    |WRITE                            |{mode -> Append, partitionBy -> []}                                                           |NULL|NULL    |NULL     |0          |Serializable  |false        |{numFiles -> 1, numOutputRows -> 17000, numOutputBytes -> 382379}|NULL        |Apache-Spark/3.5.1 Delta-Lake/3.2.0|\n",
            "|0      |2024-06-24 01:35:31.181|NULL  |NULL    |CREATE OR REPLACE TABLE AS SELECT|{partitionBy -> [], clusterBy -> [], description -> NULL, isManaged -> true, properties -> {}}|NULL|NULL    |NULL     |NULL       |Serializable  |false        |{numFiles -> 1, numOutputRows -> 17000, numOutputBytes -> 337743}|NULL        |Apache-Spark/3.5.1 Delta-Lake/3.2.0|\n",
            "+-------+-----------------------+------+--------+---------------------------------+----------------------------------------------------------------------------------------------+----+--------+---------+-----------+--------------+-------------+-----------------------------------------------------------------+------------+-----------------------------------+\n",
            "\n"
          ]
        }
      ]
    },
    {
      "cell_type": "code",
      "source": [
        "#read version 0\n",
        "version0DF = spark.read.format(\"delta\")\\\n",
        "  .option(\"versionAsOf\", 0)\\\n",
        "  .load(\"/content/spark-warehouse/delta_demo.db/df_delta/\")\n",
        "\n",
        "version0DF.show(10)"
      ],
      "metadata": {
        "colab": {
          "base_uri": "https://localhost:8080/"
        },
        "id": "OdeoDeKTNX1C",
        "outputId": "3350b276-e475-4dba-ac9b-ceb227fa4e11"
      },
      "execution_count": 12,
      "outputs": [
        {
          "output_type": "stream",
          "name": "stdout",
          "text": [
            "+---------+--------+------------------+-----------+--------------+----------+----------+-------------+------------------+\n",
            "|longitude|latitude|housing_median_age|total_rooms|total_bedrooms|population|households|median_income|median_house_value|\n",
            "+---------+--------+------------------+-----------+--------------+----------+----------+-------------+------------------+\n",
            "|  -114.31|   34.19|              15.0|     5612.0|        1283.0|    1015.0|     472.0|       1.4936|           66900.0|\n",
            "|  -114.47|    34.4|              19.0|     7650.0|        1901.0|    1129.0|     463.0|         1.82|           80100.0|\n",
            "|  -114.56|   33.69|              17.0|      720.0|         174.0|     333.0|     117.0|       1.6509|           85700.0|\n",
            "|  -114.57|   33.64|              14.0|     1501.0|         337.0|     515.0|     226.0|       3.1917|           73400.0|\n",
            "|  -114.57|   33.57|              20.0|     1454.0|         326.0|     624.0|     262.0|        1.925|           65500.0|\n",
            "|  -114.58|   33.63|              29.0|     1387.0|         236.0|     671.0|     239.0|       3.3438|           74000.0|\n",
            "|  -114.58|   33.61|              25.0|     2907.0|         680.0|    1841.0|     633.0|       2.6768|           82400.0|\n",
            "|  -114.59|   34.83|              41.0|      812.0|         168.0|     375.0|     158.0|       1.7083|           48500.0|\n",
            "|  -114.59|   33.61|              34.0|     4789.0|        1175.0|    3134.0|    1056.0|       2.1782|           58400.0|\n",
            "|   -114.6|   34.83|              46.0|     1497.0|         309.0|     787.0|     271.0|       2.1908|           48100.0|\n",
            "+---------+--------+------------------+-----------+--------------+----------+----------+-------------+------------------+\n",
            "only showing top 10 rows\n",
            "\n"
          ]
        }
      ]
    },
    {
      "cell_type": "markdown",
      "source": [
        "# Read version 1"
      ],
      "metadata": {
        "id": "x3DYjsMs4d6M"
      }
    },
    {
      "cell_type": "code",
      "source": [
        "import ipywidgets as widgets\n",
        "from IPython.display import display, Markdown\n",
        "from delta.tables import DeltaTable\n",
        "from pyspark.sql import SparkSession\n",
        "from pyspark.sql.functions import col, concat_ws\n",
        "\n",
        "# Initialize Spark session with Delta Lake\n",
        "builder = SparkSession.builder \\\n",
        "    .appName(\"DeltaTableUI\") \\\n",
        "    .config(\"spark.jars.packages\", \"io.delta:delta-core_2.12:1.1.0\") \\\n",
        "    .config(\"spark.sql.extensions\", \"io.delta.sql.DeltaSparkSessionExtension\") \\\n",
        "    .config(\"spark.sql.catalog.spark_catalog\", \"org.apache.spark.sql.delta.catalog.DeltaCatalog\")\n",
        "\n",
        "spark = builder.getOrCreate()\n",
        "\n",
        "# Define the Delta table\n",
        "delta_table = DeltaTable.forName(spark, \"delta_demo.df_delta\")\n",
        "\n",
        "# Get all versions of the Delta table\n",
        "history_df = delta_table.history()\n",
        "\n",
        "# Convert timestamp to string and create display_text column\n",
        "history_df = history_df.withColumn(\"display_text\",\n",
        "    concat_ws(\": \", col(\"version\").cast(\"string\"),\n",
        "                   concat_ws(\" - \", col(\"timestamp\").cast(\"string\"), col(\"operation\").cast(\"string\")))\n",
        ")\n",
        "\n",
        "history_options = history_df.select(\"version\", \"display_text\").collect()\n",
        "dropdown_options = [(row['display_text'], row['version']) for row in history_options]\n",
        "\n",
        "# Create form fields\n",
        "version_dropdown = widgets.Dropdown(\n",
        "    options=dropdown_options,\n",
        "    description=\"Version:\",\n",
        "    value=None\n",
        ")\n",
        "submit_button = widgets.Button(description=\"Submit\")\n",
        "\n",
        "# Function to handle form submission\n",
        "def display_version(b):\n",
        "    if version_dropdown.value is None:\n",
        "        print(\"Please select a version.\")\n",
        "        return\n",
        "\n",
        "    selected_version = version_dropdown.value\n",
        "    try:\n",
        "        # Read the Delta table for the selected version\n",
        "        # df = spark.read.format(\"delta\").option(\"versionAsOf\", selected_version).table(\"delta_demo.df_delta\")\n",
        "        df = spark.read.format(\"delta\").option(\"versionAsOf\", selected_version).load(\"/content/spark-warehouse/delta_demo.db/df_delta/\")\n",
        "        print(f\"display version {selected_version}\")\n",
        "        df.show(truncate=False)\n",
        "    except Exception as e:\n",
        "        print(f\"Error displaying version {selected_version}: {e}\")\n",
        "\n",
        "# Attach the display function to the button\n",
        "submit_button.on_click(display_version)\n",
        "\n",
        "# Display the UI form with a description\n",
        "display(Markdown(\"\"\"\n",
        "# Delta Table Version Viewer\n",
        "\n",
        "Use this form to view the contents of the Delta table at different versions.\n",
        "Select a version from the dropdown and click \"Submit\" to display the contents of the table for the selected version.\n",
        "\n",
        "**Note:** Viewing this data does not change the actual content of the Delta table.\n",
        "\"\"\"))\n",
        "\n",
        "print(\"Displaying all versions of the Delta table\")\n",
        "history_df.show(10)\n",
        "\n",
        "# Display the form\n",
        "display(version_dropdown, submit_button)\n"
      ],
      "metadata": {
        "colab": {
          "base_uri": "https://localhost:8080/",
          "height": 1000,
          "referenced_widgets": [
            "1362ed127316490cbe556b86c85027c9",
            "faef40bf2d2b49e98df7a29363ebd77f",
            "f9aab179033249d8a8b3d2b9bd5bc32c",
            "e1e287e8722348459ac0e25eb66c1cfd",
            "2f3fb43d327a458aa84319347715afeb",
            "ec050e7edc5a4890843747663a7e96a5"
          ]
        },
        "id": "9192_DXVNbYo",
        "outputId": "4dcbfcb2-8e7f-4241-cc7d-5191913e2775"
      },
      "execution_count": 26,
      "outputs": [
        {
          "output_type": "display_data",
          "data": {
            "text/plain": [
              "<IPython.core.display.Markdown object>"
            ],
            "text/markdown": "\n# Delta Table Version Viewer\n\nUse this form to view the contents of the Delta table at different versions. \nSelect a version from the dropdown and click \"Submit\" to display the contents of the table for the selected version.\n\n**Note:** Viewing this data does not change the actual content of the Delta table.\n"
          },
          "metadata": {}
        },
        {
          "output_type": "stream",
          "name": "stdout",
          "text": [
            "Displaying all versions of the Delta table\n",
            "+-------+--------------------+------+--------+--------------------+--------------------+----+--------+---------+-----------+--------------+-------------+--------------------+------------+--------------------+--------------------+\n",
            "|version|           timestamp|userId|userName|           operation| operationParameters| job|notebook|clusterId|readVersion|isolationLevel|isBlindAppend|    operationMetrics|userMetadata|          engineInfo|        display_text|\n",
            "+-------+--------------------+------+--------+--------------------+--------------------+----+--------+---------+-----------+--------------+-------------+--------------------+------------+--------------------+--------------------+\n",
            "|      1|2024-06-24 01:35:...|  NULL|    NULL|               WRITE|{mode -> Append, ...|NULL|    NULL|     NULL|          0|  Serializable|        false|{numFiles -> 1, n...|        NULL|Apache-Spark/3.5....|1: 2024-06-24 01:...|\n",
            "|      0|2024-06-24 01:35:...|  NULL|    NULL|CREATE OR REPLACE...|{partitionBy -> [...|NULL|    NULL|     NULL|       NULL|  Serializable|        false|{numFiles -> 1, n...|        NULL|Apache-Spark/3.5....|0: 2024-06-24 01:...|\n",
            "+-------+--------------------+------+--------+--------------------+--------------------+----+--------+---------+-----------+--------------+-------------+--------------------+------------+--------------------+--------------------+\n",
            "\n"
          ]
        },
        {
          "output_type": "display_data",
          "data": {
            "text/plain": [
              "Dropdown(description='Version:', options=(('1: 2024-06-24 01:35:56.4 - WRITE', 1), ('0: 2024-06-24 01:35:31.18…"
            ],
            "application/vnd.jupyter.widget-view+json": {
              "version_major": 2,
              "version_minor": 0,
              "model_id": "1362ed127316490cbe556b86c85027c9"
            }
          },
          "metadata": {}
        },
        {
          "output_type": "display_data",
          "data": {
            "text/plain": [
              "Button(description='Submit', style=ButtonStyle())"
            ],
            "application/vnd.jupyter.widget-view+json": {
              "version_major": 2,
              "version_minor": 0,
              "model_id": "e1e287e8722348459ac0e25eb66c1cfd"
            }
          },
          "metadata": {}
        },
        {
          "output_type": "stream",
          "name": "stdout",
          "text": [
            "display version 0\n",
            "+---------+--------+------------------+-----------+--------------+----------+----------+-------------+------------------+\n",
            "|longitude|latitude|housing_median_age|total_rooms|total_bedrooms|population|households|median_income|median_house_value|\n",
            "+---------+--------+------------------+-----------+--------------+----------+----------+-------------+------------------+\n",
            "|-114.31  |34.19   |15.0              |5612.0     |1283.0        |1015.0    |472.0     |1.4936       |66900.0           |\n",
            "|-114.47  |34.4    |19.0              |7650.0     |1901.0        |1129.0    |463.0     |1.82         |80100.0           |\n",
            "|-114.56  |33.69   |17.0              |720.0      |174.0         |333.0     |117.0     |1.6509       |85700.0           |\n",
            "|-114.57  |33.64   |14.0              |1501.0     |337.0         |515.0     |226.0     |3.1917       |73400.0           |\n",
            "|-114.57  |33.57   |20.0              |1454.0     |326.0         |624.0     |262.0     |1.925        |65500.0           |\n",
            "|-114.58  |33.63   |29.0              |1387.0     |236.0         |671.0     |239.0     |3.3438       |74000.0           |\n",
            "|-114.58  |33.61   |25.0              |2907.0     |680.0         |1841.0    |633.0     |2.6768       |82400.0           |\n",
            "|-114.59  |34.83   |41.0              |812.0      |168.0         |375.0     |158.0     |1.7083       |48500.0           |\n",
            "|-114.59  |33.61   |34.0              |4789.0     |1175.0        |3134.0    |1056.0    |2.1782       |58400.0           |\n",
            "|-114.6   |34.83   |46.0              |1497.0     |309.0         |787.0     |271.0     |2.1908       |48100.0           |\n",
            "|-114.6   |33.62   |16.0              |3741.0     |801.0         |2434.0    |824.0     |2.6797       |86500.0           |\n",
            "|-114.6   |33.6    |21.0              |1988.0     |483.0         |1182.0    |437.0     |1.625        |62000.0           |\n",
            "|-114.61  |34.84   |48.0              |1291.0     |248.0         |580.0     |211.0     |2.1571       |48600.0           |\n",
            "|-114.61  |34.83   |31.0              |2478.0     |464.0         |1346.0    |479.0     |3.212        |70400.0           |\n",
            "|-114.63  |32.76   |15.0              |1448.0     |378.0         |949.0     |300.0     |0.8585       |45000.0           |\n",
            "|-114.65  |34.89   |17.0              |2556.0     |587.0         |1005.0    |401.0     |1.6991       |69100.0           |\n",
            "|-114.65  |33.6    |28.0              |1678.0     |322.0         |666.0     |256.0     |2.9653       |94900.0           |\n",
            "|-114.65  |32.79   |21.0              |44.0       |33.0          |64.0      |27.0      |0.8571       |25000.0           |\n",
            "|-114.66  |32.74   |17.0              |1388.0     |386.0         |775.0     |320.0     |1.2049       |44000.0           |\n",
            "|-114.67  |33.92   |17.0              |97.0       |24.0          |29.0      |15.0      |1.2656       |27500.0           |\n",
            "+---------+--------+------------------+-----------+--------------+----------+----------+-------------+------------------+\n",
            "only showing top 20 rows\n",
            "\n",
            "display version 1\n",
            "+---------+--------+------------------+-----------+--------------+----------+----------+-------------+------------------+----------------------+\n",
            "|longitude|latitude|housing_median_age|total_rooms|total_bedrooms|population|households|median_income|median_house_value|median_house_value_new|\n",
            "+---------+--------+------------------+-----------+--------------+----------+----------+-------------+------------------+----------------------+\n",
            "|-114.31  |34.19   |15.0              |5612.0     |1283.0        |1015.0    |472.0     |1.4936       |66900.0           |NULL                  |\n",
            "|-114.47  |34.4    |19.0              |7650.0     |1901.0        |1129.0    |463.0     |1.82         |80100.0           |NULL                  |\n",
            "|-114.56  |33.69   |17.0              |720.0      |174.0         |333.0     |117.0     |1.6509       |85700.0           |NULL                  |\n",
            "|-114.57  |33.64   |14.0              |1501.0     |337.0         |515.0     |226.0     |3.1917       |73400.0           |NULL                  |\n",
            "|-114.57  |33.57   |20.0              |1454.0     |326.0         |624.0     |262.0     |1.925        |65500.0           |NULL                  |\n",
            "|-114.58  |33.63   |29.0              |1387.0     |236.0         |671.0     |239.0     |3.3438       |74000.0           |NULL                  |\n",
            "|-114.58  |33.61   |25.0              |2907.0     |680.0         |1841.0    |633.0     |2.6768       |82400.0           |NULL                  |\n",
            "|-114.59  |34.83   |41.0              |812.0      |168.0         |375.0     |158.0     |1.7083       |48500.0           |NULL                  |\n",
            "|-114.59  |33.61   |34.0              |4789.0     |1175.0        |3134.0    |1056.0    |2.1782       |58400.0           |NULL                  |\n",
            "|-114.6   |34.83   |46.0              |1497.0     |309.0         |787.0     |271.0     |2.1908       |48100.0           |NULL                  |\n",
            "|-114.6   |33.62   |16.0              |3741.0     |801.0         |2434.0    |824.0     |2.6797       |86500.0           |NULL                  |\n",
            "|-114.6   |33.6    |21.0              |1988.0     |483.0         |1182.0    |437.0     |1.625        |62000.0           |NULL                  |\n",
            "|-114.61  |34.84   |48.0              |1291.0     |248.0         |580.0     |211.0     |2.1571       |48600.0           |NULL                  |\n",
            "|-114.61  |34.83   |31.0              |2478.0     |464.0         |1346.0    |479.0     |3.212        |70400.0           |NULL                  |\n",
            "|-114.63  |32.76   |15.0              |1448.0     |378.0         |949.0     |300.0     |0.8585       |45000.0           |NULL                  |\n",
            "|-114.65  |34.89   |17.0              |2556.0     |587.0         |1005.0    |401.0     |1.6991       |69100.0           |NULL                  |\n",
            "|-114.65  |33.6    |28.0              |1678.0     |322.0         |666.0     |256.0     |2.9653       |94900.0           |NULL                  |\n",
            "|-114.65  |32.79   |21.0              |44.0       |33.0          |64.0      |27.0      |0.8571       |25000.0           |NULL                  |\n",
            "|-114.66  |32.74   |17.0              |1388.0     |386.0         |775.0     |320.0     |1.2049       |44000.0           |NULL                  |\n",
            "|-114.67  |33.92   |17.0              |97.0       |24.0          |29.0      |15.0      |1.2656       |27500.0           |NULL                  |\n",
            "+---------+--------+------------------+-----------+--------------+----------+----------+-------------+------------------+----------------------+\n",
            "only showing top 20 rows\n",
            "\n"
          ]
        }
      ]
    },
    {
      "cell_type": "code",
      "source": [],
      "metadata": {
        "id": "pMzLJNlVO_0N"
      },
      "execution_count": null,
      "outputs": []
    }
  ]
}